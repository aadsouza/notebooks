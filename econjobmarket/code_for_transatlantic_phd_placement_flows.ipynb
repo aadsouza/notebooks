{
  "nbformat": 4,
  "nbformat_minor": 0,
  "metadata": {
    "colab": {
      "name": "code_for_transatlantic_phd_placement_flows.ipynb",
      "provenance": []
    },
    "kernelspec": {
      "name": "python3",
      "display_name": "Python 3"
    }
  },
  "cells": [
    {
      "cell_type": "markdown",
      "metadata": {
        "id": "l7uP5Bfjd9VI",
        "colab_type": "text"
      },
      "source": [
        "# Code for Transatlantic Ph.D. Graduates' Placement Flows"
      ]
    },
    {
      "cell_type": "code",
      "metadata": {
        "id": "ElgmHZR7d7MV",
        "colab_type": "code",
        "colab": {}
      },
      "source": [
        "#uncomment all lines below in this cell to replicate my installation on colab\n",
        "\n",
        "#!pip install qeds fiona geopandas xgboost gensim folium pyLDAvis descartes psaw pyarrow\n",
        "#!apt-get install libproj-dev proj-data proj-bin  \n",
        "#!apt-get install libgeos-dev  \n",
        "#!pip install cython  \n",
        "#!pip install cartopy \n",
        "#!brew install proj geos\n",
        "#!pip3 uninstall shapely\n",
        "#!pip3 install --upgrade cython numpy pyshp six\n",
        "#!pip3 install shapely --no-binary shapely\n",
        "#!pip3 install git+https://github.com/SciTools/cartopy.git --no-binary cartopy"
      ],
      "execution_count": 0,
      "outputs": []
    },
    {
      "cell_type": "code",
      "metadata": {
        "id": "hU7N05vKd7k0",
        "colab_type": "code",
        "colab": {}
      },
      "source": [
        "import pandas as pd \n",
        "import os\n",
        "import IPython\n",
        "\n",
        "import json\n",
        "with open(\"to_from_data.json\", \"r\") as read_file:\n",
        "    rankings = json.load(read_file)\n",
        "data = pd.DataFrame(rankings)"
      ],
      "execution_count": 0,
      "outputs": []
    },
    {
      "cell_type": "code",
      "metadata": {
        "id": "nivzbRceeJ2A",
        "colab_type": "code",
        "colab": {}
      },
      "source": [
        "import numpy as np\n",
        "import matplotlib.pyplot as plt\n",
        "\n",
        "%matplotlib inline\n",
        "\n",
        "import qeds\n",
        "qeds.themes.mpl_style();\n",
        "\n",
        "import cartopy.crs as ccrs #cartopy documentation: https://scitools.org.uk/cartopy/docs/latest/\n",
        "import cartopy.feature as cfeature\n",
        "\n",
        "#import geopandas as gpd\n",
        "#from shapely.geometry import Point"
      ],
      "execution_count": 0,
      "outputs": []
    },
    {
      "cell_type": "code",
      "metadata": {
        "id": "zStlawDfeMpd",
        "colab_type": "code",
        "colab": {}
      },
      "source": [
        "inst_data = pd.read_json(\"to_from_data.json\") #set directory as necessary"
      ],
      "execution_count": 0,
      "outputs": []
    },
    {
      "cell_type": "code",
      "metadata": {
        "id": "R-881Wk9eTLS",
        "colab_type": "code",
        "colab": {}
      },
      "source": [
        "inst_data = inst_data.dropna(subset = [\"to_latitude\", \"to_longitude\", \"latitude\", \"longitude\"]) #drop observations with missing geocoordinates"
      ],
      "execution_count": 0,
      "outputs": []
    },
    {
      "cell_type": "code",
      "metadata": {
        "id": "_f8zVv_SeYN_",
        "colab_type": "code",
        "colab": {}
      },
      "source": [
        "inst_data[\"startdate\"] = pd.to_datetime(inst_data[\"startdate\"]) #convert object to datetime\n",
        "\n",
        "inst_data = inst_data[inst_data[\"startdate\"].dt.year == 2019] #select rows with start date in year 2019"
      ],
      "execution_count": 0,
      "outputs": []
    },
    {
      "cell_type": "code",
      "metadata": {
        "id": "6Vt9LnWDecz8",
        "colab_type": "code",
        "colab": {}
      },
      "source": [
        "inst_data.name.unique().shape #note 33 unique categories, names"
      ],
      "execution_count": 0,
      "outputs": []
    },
    {
      "cell_type": "code",
      "metadata": {
        "id": "ZutXIcRUefqQ",
        "colab_type": "code",
        "colab": {}
      },
      "source": [
        "inst_data.description.unique() #note 10 unique recruiter_types, descriptions"
      ],
      "execution_count": 0,
      "outputs": []
    },
    {
      "cell_type": "code",
      "metadata": {
        "id": "52HveUa_ejEp",
        "colab_type": "code",
        "colab": {}
      },
      "source": [
        "import nltk\n",
        "nltk.download(\"punkt\")\n",
        "\n",
        "def desc_reviser(string):\n",
        "    string = string.lower()\n",
        "    tokens = [i for i in nltk.tokenize.word_tokenize(string)]\n",
        "    return(tokens)\n",
        "\n",
        "#desc_reviser(inst_data.description[6])"
      ],
      "execution_count": 0,
      "outputs": []
    },
    {
      "cell_type": "code",
      "metadata": {
        "id": "Cui05BZXemEE",
        "colab_type": "code",
        "colab": {}
      },
      "source": [
        "desc_tokens = [desc_reviser(i) for i in inst_data.description]\n",
        "inst_data[\"desc_tokens\"] = desc_tokens"
      ],
      "execution_count": 0,
      "outputs": []
    },
    {
      "cell_type": "code",
      "metadata": {
        "id": "ozZ2bu9YeoQc",
        "colab_type": "code",
        "colab": {}
      },
      "source": [
        "inst_data[\"revised_description\"] = 0\n",
        "\n",
        "for i in inst_data.index:\n",
        "    if \"academic\" in inst_data.desc_tokens[i]:\n",
        "        inst_data.revised_description[i] = inst_data.description[i]\n",
        "        \n",
        "    elif \"government\" in inst_data.desc_tokens[i]:\n",
        "        inst_data.revised_description[i] = inst_data.description[i]\n",
        "        \n",
        "    elif \"private\" or \"other\" in inst_data.desc_tokens[i]:\n",
        "        inst_data.revised_description[i] = \"Private business or organization; Other type of organization\"\n",
        "        \n",
        "    else: inst_data[\"revised_description\"][i] = np.nan"
      ],
      "execution_count": 0,
      "outputs": []
    },
    {
      "cell_type": "code",
      "metadata": {
        "id": "2zwVe6iVe0DT",
        "colab_type": "code",
        "colab": {}
      },
      "source": [
        "inst_data['revised_recruiter_hash'] = inst_data.revised_description.map(hash) #create column of revised recruiter types"
      ],
      "execution_count": 0,
      "outputs": []
    },
    {
      "cell_type": "code",
      "metadata": {
        "id": "wEYQjYPve1BD",
        "colab_type": "code",
        "colab": {}
      },
      "source": [
        "inst_data = inst_data.loc[inst_data[\"name\"].isin([\"Development; Growth\", \"Microeconomics\", \"Macroeconomics; Monetary\", \"Econometrics\", \"Political Economy\", \"Theory\", \"Behavioral Economics\", \"Finance\", \"Industrial Organization\", \"Labor; Demographic Economics\"])] #restrict analysis to fields with informative maps"
      ],
      "execution_count": 0,
      "outputs": []
    },
    {
      "cell_type": "code",
      "metadata": {
        "id": "oqEDglAoe5lb",
        "colab_type": "code",
        "colab": {}
      },
      "source": [
        "inst_data[\"from_coordinates\"] = list(zip(inst_data.longitude, inst_data.latitude))\n",
        "inst_data[\"to_coordinates\"] = list(zip(inst_data.to_longitude, inst_data.to_latitude))"
      ],
      "execution_count": 0,
      "outputs": []
    },
    {
      "cell_type": "code",
      "metadata": {
        "id": "_LkZGjR0e_1w",
        "colab_type": "code",
        "colab": {}
      },
      "source": [
        "data_subsets = {}\n",
        "for i in inst_data.category_id.unique():\n",
        "    inst_data_subset_iteration = inst_data[inst_data.category_id == i]\n",
        "    data_subsets[i] = inst_data_subset_iteration"
      ],
      "execution_count": 0,
      "outputs": []
    },
    {
      "cell_type": "markdown",
      "metadata": {
        "id": "meDfnHSCfWoV",
        "colab_type": "text"
      },
      "source": [
        "##Code for Maps by Applicant's Primary Field"
      ]
    },
    {
      "cell_type": "code",
      "metadata": {
        "id": "1hqYn5KsfDvs",
        "colab_type": "code",
        "colab": {}
      },
      "source": [
        "for j in inst_data.category_id.unique():\n",
        "    proj1 = ccrs.PlateCarree()\n",
        "    fig = plt.figure(figsize=(80, 80)) #revised from (25, 20)\n",
        "    ax = fig.add_subplot(projection = proj1) #Projection list: https://scitools.org.uk/cartopy/docs/latest/crs/projections.html\n",
        "    \n",
        "    #ax.set_global() #sets extent of map to be global, choose this to avoid indiscernible plot in terms of country, note lines close together now very small, comment for zoom default\n",
        "    ax.set_extent([-168.084722, 66.618056, 7.208889, 72], crs = proj1) #sets extent of map to include continental north america and mainland europe using https://en.wikipedia.org/wiki/Lists_of_extreme_points \n",
        "    #westernmost longitude of continental north america, easternmost longitude of mainland europe, southernmost point of continental north america, northernmost point of continental north america\n",
        "    ax.coastlines()\n",
        "    ax.add_feature(cfeature.BORDERS)\n",
        "    ax.set_title(\"category_id_\" + str(j) + \": \" + data_subsets[j].name.unique()[0], fontsize = 32) #added fontsize\n",
        "    \n",
        "    for i in data_subsets[j].index:\n",
        "        \n",
        "        if inst_data.longitude[i] >= inst_data.to_longitude[i]:\n",
        "            colors = \"red\"\n",
        "        else: colors = \"blue\"\n",
        "        \n",
        "        ax.plot([inst_data.longitude[i], inst_data.to_longitude[i]], [inst_data.latitude[i], inst_data.to_latitude[i]], transform=ccrs.Geodetic(), color = colors)\n",
        "        "
      ],
      "execution_count": 0,
      "outputs": []
    },
    {
      "cell_type": "markdown",
      "metadata": {
        "id": "SXNj18VwfgnT",
        "colab_type": "text"
      },
      "source": [
        "## Code for Maps by Applicant's Primary Field and Recruiter Types"
      ]
    },
    {
      "cell_type": "code",
      "metadata": {
        "id": "3RfrnDcWfmki",
        "colab_type": "code",
        "colab": {}
      },
      "source": [
        "for j in inst_data.category_id.unique():\n",
        "    for k in data_subsets[j].revised_recruiter_hash.unique():\n",
        "        proj1 = ccrs.PlateCarree()\n",
        "        fig = plt.figure(figsize=(80, 80)) #revised from (25, 20)\n",
        "        ax = fig.add_subplot(projection = proj1) #Projection list: https://scitools.org.uk/cartopy/docs/latest/crs/projections.html\n",
        "    \n",
        "        #ax.set_global() #sets extent of map to be global, choose this to avoid indiscernible plot in terms of country, note lines close together now very small, comment for zoom default\n",
        "        ax.set_extent([-168.084722, 66.618056, 7.208889, 72], crs = proj1) #sets extent of map to include continental north america and mainland europe using https://en.wikipedia.org/wiki/Lists_of_extreme_points \n",
        "        #westernmost longitude of continental north america, easternmost longitude of mainland europe, southernmost point of continental north america, northernmost point of continental north america\n",
        "        ax.coastlines()\n",
        "        ax.add_feature(cfeature.BORDERS)\n",
        "        ax.set_title(\"category_id_\" + str(j) + \": \" + data_subsets[j].name.unique()[0] + \"; revised_recruiter_hash_\" + str(k) + \": \" + data_subsets[j][data_subsets[j].revised_recruiter_hash == k].revised_description.unique()[0], fontsize = 32) #NOTE data_description_aa_dsouza has method description instead of revised_description, needs to be fixed there\n",
        "    \n",
        "        for i in data_subsets[j][data_subsets[j].revised_recruiter_hash == k].index:\n",
        "            \n",
        "            if inst_data.longitude[i] >= inst_data.to_longitude[i]:\n",
        "                colors = \"red\"\n",
        "            else: colors = \"blue\"\n",
        "                \n",
        "            ax.plot([inst_data.longitude[i], inst_data.to_longitude[i]], [inst_data.latitude[i], inst_data.to_latitude[i]], transform=ccrs.Geodetic(), color = colors)\n"
      ],
      "execution_count": 0,
      "outputs": []
    }
  ]
}