{
  "nbformat": 4,
  "nbformat_minor": 0,
  "metadata": {
    "colab": {
      "name": "data_regressions.ipynb",
      "provenance": [],
      "collapsed_sections": []
    },
    "kernelspec": {
      "name": "python3",
      "display_name": "Python 3"
    }
  },
  "cells": [
    {
      "cell_type": "code",
      "metadata": {
        "id": "7ujCHch49MeR",
        "colab_type": "code",
        "outputId": "63bb7d4f-500b-4289-dd14-7d18dae997f2",
        "colab": {
          "base_uri": "https://localhost:8080/",
          "height": 1000
        }
      },
      "source": [
        "#uncomment all lines below in this cell to replicate my installation on colab\n",
        "\n",
        "!pip install qeds fiona geopandas xgboost gensim folium pyLDAvis descartes psaw pyarrow\n",
        "!apt-get install libproj-dev proj-data proj-bin  \n",
        "!apt-get install libgeos-dev  \n",
        "!pip install cython  \n",
        "!pip install cartopy \n",
        "!brew install proj geos\n",
        "!pip3 uninstall shapely\n",
        "!pip3 install --upgrade cython numpy pyshp six\n",
        "!pip3 install shapely --no-binary shapely\n",
        "!pip3 install git+https://github.com/SciTools/cartopy.git --no-binary cartopy"
      ],
      "execution_count": 1,
      "outputs": [
        {
          "output_type": "stream",
          "text": [
            "Collecting qeds\n",
            "  Downloading https://files.pythonhosted.org/packages/41/50/509c79a019156862898acb9e23b28e872818c20492da187090167f6702ad/qeds-0.6.2.tar.gz\n",
            "Collecting fiona\n",
            "\u001b[?25l  Downloading https://files.pythonhosted.org/packages/ec/20/4e63bc5c6e62df889297b382c3ccd4a7a488b00946aaaf81a118158c6f09/Fiona-1.8.13.post1-cp36-cp36m-manylinux1_x86_64.whl (14.7MB)\n",
            "\u001b[K     |████████████████████████████████| 14.7MB 14.6MB/s \n",
            "\u001b[?25hCollecting geopandas\n",
            "\u001b[?25l  Downloading https://files.pythonhosted.org/packages/83/c5/3cf9cdc39a6f2552922f79915f36b45a95b71fd343cfc51170a5b6ddb6e8/geopandas-0.7.0-py2.py3-none-any.whl (928kB)\n",
            "\u001b[K     |████████████████████████████████| 931kB 21.6MB/s \n",
            "\u001b[?25hRequirement already satisfied: xgboost in /usr/local/lib/python3.6/dist-packages (0.90)\n",
            "Requirement already satisfied: gensim in /usr/local/lib/python3.6/dist-packages (3.6.0)\n",
            "Requirement already satisfied: folium in /usr/local/lib/python3.6/dist-packages (0.8.3)\n",
            "Collecting pyLDAvis\n",
            "\u001b[?25l  Downloading https://files.pythonhosted.org/packages/a5/3a/af82e070a8a96e13217c8f362f9a73e82d61ac8fff3a2561946a97f96266/pyLDAvis-2.1.2.tar.gz (1.6MB)\n",
            "\u001b[K     |████████████████████████████████| 1.6MB 18.8MB/s \n",
            "\u001b[?25hRequirement already satisfied: descartes in /usr/local/lib/python3.6/dist-packages (1.1.0)\n",
            "Collecting psaw\n",
            "  Downloading https://files.pythonhosted.org/packages/a2/ad/ba88c5004a6e3434c032a605685d90eb3ad3de355d7ee26869124bf3be73/psaw-0.0.12-py3-none-any.whl\n",
            "Requirement already satisfied: pyarrow in /usr/local/lib/python3.6/dist-packages (0.14.1)\n",
            "Requirement already satisfied: pandas in /usr/local/lib/python3.6/dist-packages (from qeds) (1.0.3)\n",
            "Requirement already satisfied: requests in /usr/local/lib/python3.6/dist-packages (from qeds) (2.23.0)\n",
            "Collecting quandl\n",
            "  Downloading https://files.pythonhosted.org/packages/07/ab/8cd479fba8a9b197a43a0d55dd534b066fb8e5a0a04b5c0384cbc5d663aa/Quandl-3.5.0-py2.py3-none-any.whl\n",
            "Requirement already satisfied: scipy in /usr/local/lib/python3.6/dist-packages (from qeds) (1.4.1)\n",
            "Requirement already satisfied: numpy in /usr/local/lib/python3.6/dist-packages (from qeds) (1.18.4)\n",
            "Collecting quantecon\n",
            "\u001b[?25l  Downloading https://files.pythonhosted.org/packages/72/15/7649ba1f5ad5adc78efbda71d5f1dd15f0edf4a0dead41ba048b7d7e5335/quantecon-0.4.7-py3-none-any.whl (229kB)\n",
            "\u001b[K     |████████████████████████████████| 235kB 25.9MB/s \n",
            "\u001b[?25hRequirement already satisfied: matplotlib in /usr/local/lib/python3.6/dist-packages (from qeds) (3.2.1)\n",
            "Requirement already satisfied: openpyxl in /usr/local/lib/python3.6/dist-packages (from qeds) (2.5.9)\n",
            "Requirement already satisfied: plotly in /usr/local/lib/python3.6/dist-packages (from qeds) (4.4.1)\n",
            "Requirement already satisfied: pandas_datareader in /usr/local/lib/python3.6/dist-packages (from qeds) (0.8.1)\n",
            "Requirement already satisfied: scikit-learn in /usr/local/lib/python3.6/dist-packages (from qeds) (0.22.2.post1)\n",
            "Requirement already satisfied: seaborn in /usr/local/lib/python3.6/dist-packages (from qeds) (0.10.1)\n",
            "Requirement already satisfied: statsmodels in /usr/local/lib/python3.6/dist-packages (from qeds) (0.10.2)\n",
            "Collecting click-plugins>=1.0\n",
            "  Downloading https://files.pythonhosted.org/packages/e9/da/824b92d9942f4e472702488857914bdd50f73021efea15b4cad9aca8ecef/click_plugins-1.1.1-py2.py3-none-any.whl\n",
            "Collecting munch\n",
            "  Downloading https://files.pythonhosted.org/packages/cc/ab/85d8da5c9a45e072301beb37ad7f833cd344e04c817d97e0cc75681d248f/munch-2.5.0-py2.py3-none-any.whl\n",
            "Requirement already satisfied: six>=1.7 in /usr/local/lib/python3.6/dist-packages (from fiona) (1.12.0)\n",
            "Requirement already satisfied: click<8,>=4.0 in /usr/local/lib/python3.6/dist-packages (from fiona) (7.1.2)\n",
            "Collecting cligj>=0.5\n",
            "  Downloading https://files.pythonhosted.org/packages/e4/be/30a58b4b0733850280d01f8bd132591b4668ed5c7046761098d665ac2174/cligj-0.5.0-py3-none-any.whl\n",
            "Requirement already satisfied: attrs>=17 in /usr/local/lib/python3.6/dist-packages (from fiona) (19.3.0)\n",
            "Collecting pyproj>=2.2.0\n",
            "\u001b[?25l  Downloading https://files.pythonhosted.org/packages/e5/c3/071e080230ac4b6c64f1a2e2f9161c9737a2bc7b683d2c90b024825000c0/pyproj-2.6.1.post1-cp36-cp36m-manylinux2010_x86_64.whl (10.9MB)\n",
            "\u001b[K     |████████████████████████████████| 10.9MB 18.6MB/s \n",
            "\u001b[?25hRequirement already satisfied: shapely in /usr/local/lib/python3.6/dist-packages (from geopandas) (1.7.0)\n",
            "Requirement already satisfied: smart-open>=1.2.1 in /usr/local/lib/python3.6/dist-packages (from gensim) (2.0.0)\n",
            "Requirement already satisfied: branca>=0.3.0 in /usr/local/lib/python3.6/dist-packages (from folium) (0.4.1)\n",
            "Requirement already satisfied: jinja2 in /usr/local/lib/python3.6/dist-packages (from folium) (2.11.2)\n",
            "Requirement already satisfied: wheel>=0.23.0 in /usr/local/lib/python3.6/dist-packages (from pyLDAvis) (0.34.2)\n",
            "Requirement already satisfied: joblib>=0.8.4 in /usr/local/lib/python3.6/dist-packages (from pyLDAvis) (0.14.1)\n",
            "Requirement already satisfied: numexpr in /usr/local/lib/python3.6/dist-packages (from pyLDAvis) (2.7.1)\n",
            "Requirement already satisfied: pytest in /usr/local/lib/python3.6/dist-packages (from pyLDAvis) (3.6.4)\n",
            "Requirement already satisfied: future in /usr/local/lib/python3.6/dist-packages (from pyLDAvis) (0.16.0)\n",
            "Collecting funcy\n",
            "\u001b[?25l  Downloading https://files.pythonhosted.org/packages/ce/4b/6ffa76544e46614123de31574ad95758c421aae391a1764921b8a81e1eae/funcy-1.14.tar.gz (548kB)\n",
            "\u001b[K     |████████████████████████████████| 552kB 16.5MB/s \n",
            "\u001b[?25hRequirement already satisfied: python-dateutil>=2.6.1 in /usr/local/lib/python3.6/dist-packages (from pandas->qeds) (2.8.1)\n",
            "Requirement already satisfied: pytz>=2017.2 in /usr/local/lib/python3.6/dist-packages (from pandas->qeds) (2018.9)\n",
            "Requirement already satisfied: certifi>=2017.4.17 in /usr/local/lib/python3.6/dist-packages (from requests->qeds) (2020.4.5.1)\n",
            "Requirement already satisfied: urllib3!=1.25.0,!=1.25.1,<1.26,>=1.21.1 in /usr/local/lib/python3.6/dist-packages (from requests->qeds) (1.24.3)\n",
            "Requirement already satisfied: chardet<4,>=3.0.2 in /usr/local/lib/python3.6/dist-packages (from requests->qeds) (3.0.4)\n",
            "Requirement already satisfied: idna<3,>=2.5 in /usr/local/lib/python3.6/dist-packages (from requests->qeds) (2.9)\n",
            "Collecting inflection>=0.3.1\n",
            "  Downloading https://files.pythonhosted.org/packages/52/c1/36be286d85dbd76527fb613527222a795d7c071da195fa916e7bf3cb03cb/inflection-0.4.0-py2.py3-none-any.whl\n",
            "Requirement already satisfied: more-itertools in /usr/local/lib/python3.6/dist-packages (from quandl->qeds) (8.2.0)\n",
            "Requirement already satisfied: numba>=0.38 in /usr/local/lib/python3.6/dist-packages (from quantecon->qeds) (0.48.0)\n",
            "Requirement already satisfied: sympy in /usr/local/lib/python3.6/dist-packages (from quantecon->qeds) (1.1.1)\n",
            "Requirement already satisfied: cycler>=0.10 in /usr/local/lib/python3.6/dist-packages (from matplotlib->qeds) (0.10.0)\n",
            "Requirement already satisfied: pyparsing!=2.0.4,!=2.1.2,!=2.1.6,>=2.0.1 in /usr/local/lib/python3.6/dist-packages (from matplotlib->qeds) (2.4.7)\n",
            "Requirement already satisfied: kiwisolver>=1.0.1 in /usr/local/lib/python3.6/dist-packages (from matplotlib->qeds) (1.2.0)\n",
            "Requirement already satisfied: jdcal in /usr/local/lib/python3.6/dist-packages (from openpyxl->qeds) (1.4.1)\n",
            "Requirement already satisfied: et-xmlfile in /usr/local/lib/python3.6/dist-packages (from openpyxl->qeds) (1.0.1)\n",
            "Requirement already satisfied: retrying>=1.3.3 in /usr/local/lib/python3.6/dist-packages (from plotly->qeds) (1.3.3)\n",
            "Requirement already satisfied: lxml in /usr/local/lib/python3.6/dist-packages (from pandas_datareader->qeds) (4.2.6)\n",
            "Requirement already satisfied: patsy>=0.4.0 in /usr/local/lib/python3.6/dist-packages (from statsmodels->qeds) (0.5.1)\n",
            "Requirement already satisfied: boto3 in /usr/local/lib/python3.6/dist-packages (from smart-open>=1.2.1->gensim) (1.13.4)\n",
            "Requirement already satisfied: boto in /usr/local/lib/python3.6/dist-packages (from smart-open>=1.2.1->gensim) (2.49.0)\n",
            "Requirement already satisfied: MarkupSafe>=0.23 in /usr/local/lib/python3.6/dist-packages (from jinja2->folium) (1.1.1)\n",
            "Requirement already satisfied: atomicwrites>=1.0 in /usr/local/lib/python3.6/dist-packages (from pytest->pyLDAvis) (1.4.0)\n",
            "Requirement already satisfied: pluggy<0.8,>=0.5 in /usr/local/lib/python3.6/dist-packages (from pytest->pyLDAvis) (0.7.1)\n",
            "Requirement already satisfied: setuptools in /usr/local/lib/python3.6/dist-packages (from pytest->pyLDAvis) (46.3.0)\n",
            "Requirement already satisfied: py>=1.5.0 in /usr/local/lib/python3.6/dist-packages (from pytest->pyLDAvis) (1.8.1)\n",
            "Requirement already satisfied: llvmlite<0.32.0,>=0.31.0dev0 in /usr/local/lib/python3.6/dist-packages (from numba>=0.38->quantecon->qeds) (0.31.0)\n",
            "Requirement already satisfied: mpmath>=0.19 in /usr/local/lib/python3.6/dist-packages (from sympy->quantecon->qeds) (1.1.0)\n",
            "Requirement already satisfied: s3transfer<0.4.0,>=0.3.0 in /usr/local/lib/python3.6/dist-packages (from boto3->smart-open>=1.2.1->gensim) (0.3.3)\n",
            "Requirement already satisfied: jmespath<1.0.0,>=0.7.1 in /usr/local/lib/python3.6/dist-packages (from boto3->smart-open>=1.2.1->gensim) (0.9.5)\n",
            "Requirement already satisfied: botocore<1.17.0,>=1.16.4 in /usr/local/lib/python3.6/dist-packages (from boto3->smart-open>=1.2.1->gensim) (1.16.4)\n",
            "Requirement already satisfied: docutils<0.16,>=0.10 in /usr/local/lib/python3.6/dist-packages (from botocore<1.17.0,>=1.16.4->boto3->smart-open>=1.2.1->gensim) (0.15.2)\n",
            "Building wheels for collected packages: qeds, pyLDAvis, funcy\n",
            "  Building wheel for qeds (setup.py) ... \u001b[?25l\u001b[?25hdone\n",
            "  Created wheel for qeds: filename=qeds-0.6.2-cp36-none-any.whl size=27820 sha256=a0f9ed114a269e622f7a51c2909907e573233e6f5231fb7de02c0ccd0cd0311d\n",
            "  Stored in directory: /root/.cache/pip/wheels/b7/0b/74/c09109813c2b6116a2d4f2833c354b24163672f846a50fc7b4\n",
            "  Building wheel for pyLDAvis (setup.py) ... \u001b[?25l\u001b[?25hdone\n",
            "  Created wheel for pyLDAvis: filename=pyLDAvis-2.1.2-py2.py3-none-any.whl size=97711 sha256=5eb009b694509b66eb97aaaa24beecf3670f3b48d99fcabfda84ed38d8c78455\n",
            "  Stored in directory: /root/.cache/pip/wheels/98/71/24/513a99e58bb6b8465bae4d2d5e9dba8f0bef8179e3051ac414\n",
            "  Building wheel for funcy (setup.py) ... \u001b[?25l\u001b[?25hdone\n",
            "  Created wheel for funcy: filename=funcy-1.14-py2.py3-none-any.whl size=32042 sha256=07a6e90fb619775f00b72db9d4eb4f0c3c0e4e52c13b466f95908d1943f22b42\n",
            "  Stored in directory: /root/.cache/pip/wheels/20/5a/d8/1d875df03deae6f178dfdf70238cca33f948ef8a6f5209f2eb\n",
            "Successfully built qeds pyLDAvis funcy\n",
            "Installing collected packages: inflection, quandl, quantecon, qeds, click-plugins, munch, cligj, fiona, pyproj, geopandas, funcy, pyLDAvis, psaw\n",
            "Successfully installed click-plugins-1.1.1 cligj-0.5.0 fiona-1.8.13.post1 funcy-1.14 geopandas-0.7.0 inflection-0.4.0 munch-2.5.0 psaw-0.0.12 pyLDAvis-2.1.2 pyproj-2.6.1.post1 qeds-0.6.2 quandl-3.5.0 quantecon-0.4.7\n",
            "Reading package lists... Done\n",
            "Building dependency tree       \n",
            "Reading state information... Done\n",
            "proj-data is already the newest version (4.9.3-2).\n",
            "proj-data set to manually installed.\n",
            "The following NEW packages will be installed:\n",
            "  libproj-dev proj-bin\n",
            "0 upgraded, 2 newly installed, 0 to remove and 31 not upgraded.\n",
            "Need to get 232 kB of archives.\n",
            "After this operation, 1,220 kB of additional disk space will be used.\n",
            "Get:1 http://archive.ubuntu.com/ubuntu bionic/universe amd64 libproj-dev amd64 4.9.3-2 [199 kB]\n",
            "Get:2 http://archive.ubuntu.com/ubuntu bionic/universe amd64 proj-bin amd64 4.9.3-2 [32.3 kB]\n",
            "Fetched 232 kB in 1s (290 kB/s)\n",
            "Selecting previously unselected package libproj-dev:amd64.\n",
            "(Reading database ... 144433 files and directories currently installed.)\n",
            "Preparing to unpack .../libproj-dev_4.9.3-2_amd64.deb ...\n",
            "Unpacking libproj-dev:amd64 (4.9.3-2) ...\n",
            "Selecting previously unselected package proj-bin.\n",
            "Preparing to unpack .../proj-bin_4.9.3-2_amd64.deb ...\n",
            "Unpacking proj-bin (4.9.3-2) ...\n",
            "Setting up libproj-dev:amd64 (4.9.3-2) ...\n",
            "Setting up proj-bin (4.9.3-2) ...\n",
            "Processing triggers for man-db (2.8.3-2ubuntu0.1) ...\n",
            "Reading package lists... Done\n",
            "Building dependency tree       \n",
            "Reading state information... Done\n",
            "Suggested packages:\n",
            "  libgdal-doc\n",
            "The following NEW packages will be installed:\n",
            "  libgeos-dev\n",
            "0 upgraded, 1 newly installed, 0 to remove and 31 not upgraded.\n",
            "Need to get 73.1 kB of archives.\n",
            "After this operation, 486 kB of additional disk space will be used.\n",
            "Get:1 http://archive.ubuntu.com/ubuntu bionic/universe amd64 libgeos-dev amd64 3.6.2-1build2 [73.1 kB]\n",
            "Fetched 73.1 kB in 0s (160 kB/s)\n",
            "Selecting previously unselected package libgeos-dev.\n",
            "(Reading database ... 144466 files and directories currently installed.)\n",
            "Preparing to unpack .../libgeos-dev_3.6.2-1build2_amd64.deb ...\n",
            "Unpacking libgeos-dev (3.6.2-1build2) ...\n",
            "Setting up libgeos-dev (3.6.2-1build2) ...\n",
            "Processing triggers for man-db (2.8.3-2ubuntu0.1) ...\n",
            "Requirement already satisfied: cython in /usr/local/lib/python3.6/dist-packages (0.29.17)\n",
            "Collecting cartopy\n",
            "\u001b[?25l  Downloading https://files.pythonhosted.org/packages/46/c1/04e50c9986842f00f7db0e7a65caa896840050d7328f74e5b7437aa01179/Cartopy-0.18.0.tar.gz (14.4MB)\n",
            "\u001b[K     |████████████████████████████████| 14.4MB 329kB/s \n",
            "\u001b[?25hRequirement already satisfied: numpy>=1.10 in /usr/local/lib/python3.6/dist-packages (from cartopy) (1.18.4)\n",
            "Requirement already satisfied: shapely>=1.5.6 in /usr/local/lib/python3.6/dist-packages (from cartopy) (1.7.0)\n",
            "Collecting pyshp>=1.1.4\n",
            "\u001b[?25l  Downloading https://files.pythonhosted.org/packages/27/16/3bf15aa864fb77845fab8007eda22c2bd67bd6c1fd13496df452c8c43621/pyshp-2.1.0.tar.gz (215kB)\n",
            "\u001b[K     |████████████████████████████████| 225kB 43.6MB/s \n",
            "\u001b[?25hRequirement already satisfied: six>=1.3.0 in /usr/local/lib/python3.6/dist-packages (from cartopy) (1.12.0)\n",
            "Requirement already satisfied: setuptools>=0.7.2 in /usr/local/lib/python3.6/dist-packages (from cartopy) (46.3.0)\n",
            "Building wheels for collected packages: cartopy, pyshp\n",
            "  Building wheel for cartopy (setup.py) ... \u001b[?25l\u001b[?25hdone\n",
            "  Created wheel for cartopy: filename=Cartopy-0.18.0-cp36-cp36m-linux_x86_64.whl size=15132456 sha256=6eacb8784ae86f66bf2d28bede1199916492ae369faa7384c35eb8a5e1bd03c8\n",
            "  Stored in directory: /root/.cache/pip/wheels/8d/f8/da/2c05136f2162370d2baec85bfbbf91d7729ab9e248da878acd\n",
            "  Building wheel for pyshp (setup.py) ... \u001b[?25l\u001b[?25hdone\n",
            "  Created wheel for pyshp: filename=pyshp-2.1.0-cp36-none-any.whl size=32609 sha256=e3717e7eaf8985c42ba0b7a33c1ba368d8ed9e1405bdb705925a8c92bf8aa24d\n",
            "  Stored in directory: /root/.cache/pip/wheels/a6/0c/de/321b5192ad416b328975a2f0385f72c64db4656501eba7cc1a\n",
            "Successfully built cartopy pyshp\n",
            "Installing collected packages: pyshp, cartopy\n",
            "Successfully installed cartopy-0.18.0 pyshp-2.1.0\n",
            "/bin/bash: brew: command not found\n",
            "Uninstalling Shapely-1.7.0:\n",
            "  Would remove:\n",
            "    /usr/local/lib/python3.6/dist-packages/Shapely-1.7.0.dist-info/*\n",
            "    /usr/local/lib/python3.6/dist-packages/shapely/*\n",
            "Proceed (y/n)? y\n",
            "  Successfully uninstalled Shapely-1.7.0\n",
            "Requirement already up-to-date: cython in /usr/local/lib/python3.6/dist-packages (0.29.17)\n",
            "Requirement already up-to-date: numpy in /usr/local/lib/python3.6/dist-packages (1.18.4)\n",
            "Requirement already up-to-date: pyshp in /usr/local/lib/python3.6/dist-packages (2.1.0)\n",
            "Collecting six\n",
            "  Downloading https://files.pythonhosted.org/packages/65/eb/1f97cb97bfc2390a276969c6fae16075da282f5058082d4cb10c6c5c1dba/six-1.14.0-py2.py3-none-any.whl\n",
            "\u001b[31mERROR: imgaug 0.2.9 requires Shapely, which is not installed.\u001b[0m\n",
            "\u001b[31mERROR: geopandas 0.7.0 requires shapely, which is not installed.\u001b[0m\n",
            "\u001b[31mERROR: cartopy 0.18.0 requires shapely>=1.5.6, which is not installed.\u001b[0m\n",
            "\u001b[31mERROR: google-colab 1.0.0 has requirement six~=1.12.0, but you'll have six 1.14.0 which is incompatible.\u001b[0m\n",
            "\u001b[31mERROR: datascience 0.10.6 has requirement folium==0.2.1, but you'll have folium 0.8.3 which is incompatible.\u001b[0m\n",
            "\u001b[31mERROR: albumentations 0.1.12 has requirement imgaug<0.2.7,>=0.2.5, but you'll have imgaug 0.2.9 which is incompatible.\u001b[0m\n",
            "Installing collected packages: six\n",
            "  Found existing installation: six 1.12.0\n",
            "    Uninstalling six-1.12.0:\n",
            "      Successfully uninstalled six-1.12.0\n",
            "Successfully installed six-1.14.0\n"
          ],
          "name": "stdout"
        },
        {
          "output_type": "display_data",
          "data": {
            "application/vnd.colab-display-data+json": {
              "pip_warning": {
                "packages": [
                  "six"
                ]
              }
            }
          },
          "metadata": {
            "tags": []
          }
        },
        {
          "output_type": "stream",
          "text": [
            "Collecting shapely\n",
            "\u001b[?25l  Downloading https://files.pythonhosted.org/packages/44/ec/4eddbf9d17a917c51fb4ad159aa7137f506681e91ab559cf87d120e1d78d/Shapely-1.7.0.tar.gz (349kB)\n",
            "\r\u001b[K     |█                               | 10kB 17.2MB/s eta 0:00:01\r\u001b[K     |█▉                              | 20kB 2.2MB/s eta 0:00:01\r\u001b[K     |██▉                             | 30kB 3.2MB/s eta 0:00:01\r\u001b[K     |███▊                            | 40kB 4.1MB/s eta 0:00:01\r\u001b[K     |████▊                           | 51kB 2.6MB/s eta 0:00:01\r\u001b[K     |█████▋                          | 61kB 3.1MB/s eta 0:00:01\r\u001b[K     |██████▋                         | 71kB 3.6MB/s eta 0:00:01\r\u001b[K     |███████▌                        | 81kB 4.0MB/s eta 0:00:01\r\u001b[K     |████████▌                       | 92kB 3.1MB/s eta 0:00:01\r\u001b[K     |█████████▍                      | 102kB 3.4MB/s eta 0:00:01\r\u001b[K     |██████████▎                     | 112kB 3.4MB/s eta 0:00:01\r\u001b[K     |███████████▎                    | 122kB 3.4MB/s eta 0:00:01\r\u001b[K     |████████████▏                   | 133kB 3.4MB/s eta 0:00:01\r\u001b[K     |█████████████▏                  | 143kB 3.4MB/s eta 0:00:01\r\u001b[K     |██████████████                  | 153kB 3.4MB/s eta 0:00:01\r\u001b[K     |███████████████                 | 163kB 3.4MB/s eta 0:00:01\r\u001b[K     |████████████████                | 174kB 3.4MB/s eta 0:00:01\r\u001b[K     |█████████████████               | 184kB 3.4MB/s eta 0:00:01\r\u001b[K     |█████████████████▉              | 194kB 3.4MB/s eta 0:00:01\r\u001b[K     |██████████████████▊             | 204kB 3.4MB/s eta 0:00:01\r\u001b[K     |███████████████████▊            | 215kB 3.4MB/s eta 0:00:01\r\u001b[K     |████████████████████▋           | 225kB 3.4MB/s eta 0:00:01\r\u001b[K     |█████████████████████▋          | 235kB 3.4MB/s eta 0:00:01\r\u001b[K     |██████████████████████▌         | 245kB 3.4MB/s eta 0:00:01\r\u001b[K     |███████████████████████▌        | 256kB 3.4MB/s eta 0:00:01\r\u001b[K     |████████████████████████▍       | 266kB 3.4MB/s eta 0:00:01\r\u001b[K     |█████████████████████████▍      | 276kB 3.4MB/s eta 0:00:01\r\u001b[K     |██████████████████████████▎     | 286kB 3.4MB/s eta 0:00:01\r\u001b[K     |███████████████████████████▏    | 296kB 3.4MB/s eta 0:00:01\r\u001b[K     |████████████████████████████▏   | 307kB 3.4MB/s eta 0:00:01\r\u001b[K     |█████████████████████████████   | 317kB 3.4MB/s eta 0:00:01\r\u001b[K     |██████████████████████████████  | 327kB 3.4MB/s eta 0:00:01\r\u001b[K     |███████████████████████████████ | 337kB 3.4MB/s eta 0:00:01\r\u001b[K     |████████████████████████████████| 348kB 3.4MB/s eta 0:00:01\r\u001b[K     |████████████████████████████████| 358kB 3.4MB/s \n",
            "\u001b[?25hSkipping wheel build for shapely, due to binaries being disabled for it.\n",
            "\u001b[31mERROR: albumentations 0.1.12 has requirement imgaug<0.2.7,>=0.2.5, but you'll have imgaug 0.2.9 which is incompatible.\u001b[0m\n",
            "Installing collected packages: shapely\n",
            "    Running setup.py install for shapely ... \u001b[?25l\u001b[?25hdone\n",
            "Successfully installed shapely-1.7.0\n",
            "Collecting git+https://github.com/SciTools/cartopy.git\n",
            "  Cloning https://github.com/SciTools/cartopy.git to /tmp/pip-req-build-xx9l8fqu\n",
            "  Running command git clone -q https://github.com/SciTools/cartopy.git /tmp/pip-req-build-xx9l8fqu\n",
            "Requirement already satisfied: numpy>=1.10 in /usr/local/lib/python3.6/dist-packages (from Cartopy===0.18.1.dev23-) (1.18.4)\n",
            "Requirement already satisfied: shapely>=1.5.6 in /usr/local/lib/python3.6/dist-packages (from Cartopy===0.18.1.dev23-) (1.7.0)\n",
            "Requirement already satisfied: pyshp>=1.1.4 in /usr/local/lib/python3.6/dist-packages (from Cartopy===0.18.1.dev23-) (2.1.0)\n",
            "Requirement already satisfied: setuptools>=0.7.2 in /usr/local/lib/python3.6/dist-packages (from Cartopy===0.18.1.dev23-) (46.3.0)\n",
            "Skipping wheel build for Cartopy, due to binaries being disabled for it.\n",
            "Installing collected packages: Cartopy\n",
            "  Found existing installation: Cartopy 0.18.0\n",
            "    Uninstalling Cartopy-0.18.0:\n",
            "      Successfully uninstalled Cartopy-0.18.0\n",
            "    Running setup.py install for Cartopy ... \u001b[?25l\u001b[?25hdone\n",
            "Successfully installed Cartopy-0.18.1.dev23-\n"
          ],
          "name": "stdout"
        }
      ]
    },
    {
      "cell_type": "code",
      "metadata": {
        "id": "-n-lTykt9U4R",
        "colab_type": "code",
        "colab": {}
      },
      "source": [
        "import pandas as pd \n",
        "import os\n",
        "import IPython\n",
        "\n",
        "import json\n",
        "with open(\"to_from_data.json\", \"r\") as read_file:\n",
        "    rankings = json.load(read_file)\n",
        "data = pd.DataFrame(rankings)"
      ],
      "execution_count": 0,
      "outputs": []
    },
    {
      "cell_type": "code",
      "metadata": {
        "id": "zbeoIxpr9euV",
        "colab_type": "code",
        "colab": {}
      },
      "source": [
        "import numpy as np\n",
        "import matplotlib.pyplot as plt\n",
        "\n",
        "%matplotlib inline\n",
        "\n",
        "import qeds\n",
        "qeds.themes.mpl_style();\n",
        "\n",
        "import cartopy.crs as ccrs #cartopy documentation: https://scitools.org.uk/cartopy/docs/latest/\n",
        "import cartopy.feature as cfeature\n",
        "\n",
        "#import geopandas as gpd\n",
        "#from shapely.geometry import Point"
      ],
      "execution_count": 0,
      "outputs": []
    },
    {
      "cell_type": "code",
      "metadata": {
        "id": "EJbjfLox9g_B",
        "colab_type": "code",
        "colab": {}
      },
      "source": [
        "inst_data = pd.read_json(\"to_from_data.json\") #set directory as necessary"
      ],
      "execution_count": 0,
      "outputs": []
    },
    {
      "cell_type": "code",
      "metadata": {
        "id": "jOQM-D8N9kNO",
        "colab_type": "code",
        "colab": {}
      },
      "source": [
        "inst_data[\"startdate\"] = pd.to_datetime(inst_data[\"startdate\"]) #convert object to datetime"
      ],
      "execution_count": 0,
      "outputs": []
    },
    {
      "cell_type": "code",
      "metadata": {
        "id": "SSMCKZX59p0Q",
        "colab_type": "code",
        "outputId": "41ddf2fe-a861-472d-ca14-74b2263706cd",
        "colab": {
          "base_uri": "https://localhost:8080/",
          "height": 34
        }
      },
      "source": [
        "inst_data.name.unique().shape #note 33 unique categories, names"
      ],
      "execution_count": 7,
      "outputs": [
        {
          "output_type": "execute_result",
          "data": {
            "text/plain": [
              "(33,)"
            ]
          },
          "metadata": {
            "tags": []
          },
          "execution_count": 7
        }
      ]
    },
    {
      "cell_type": "code",
      "metadata": {
        "id": "dA3Ro2Lc90DC",
        "colab_type": "code",
        "outputId": "87507775-a6c1-4a10-bc33-c2f2c38e5d3a",
        "colab": {
          "base_uri": "https://localhost:8080/",
          "height": 170
        }
      },
      "source": [
        "inst_data.description.unique() #note 10 unique recruiter_types, descriptions"
      ],
      "execution_count": 8,
      "outputs": [
        {
          "output_type": "execute_result",
          "data": {
            "text/plain": [
              "array(['Academic organization (economics department)',\n",
              "       'Private (non-profit) business or organization',\n",
              "       'Academic organization (agricultural/resource economics department)',\n",
              "       'Academic organization (business school)',\n",
              "       'Academic organization (other than econ, business, or ag econ)',\n",
              "       'Government agency or commission', 'Other type of organization',\n",
              "       'Private (for profit) business or organization',\n",
              "       'Human Resources department of educational or non-profit institution',\n",
              "       'Advertising agency or executive recruiter'], dtype=object)"
            ]
          },
          "metadata": {
            "tags": []
          },
          "execution_count": 8
        }
      ]
    },
    {
      "cell_type": "code",
      "metadata": {
        "id": "qM6QPL8o92DT",
        "colab_type": "code",
        "outputId": "01e041be-bc60-4c32-d22d-5fbab8ce30a9",
        "colab": {
          "base_uri": "https://localhost:8080/",
          "height": 51
        }
      },
      "source": [
        "import nltk\n",
        "nltk.download(\"punkt\")\n",
        "\n",
        "def desc_reviser(string):\n",
        "    string = string.lower()\n",
        "    tokens = [i for i in nltk.tokenize.word_tokenize(string)]\n",
        "    return(tokens)\n",
        "\n",
        "#desc_reviser(inst_data.description[6])"
      ],
      "execution_count": 9,
      "outputs": [
        {
          "output_type": "stream",
          "text": [
            "[nltk_data] Downloading package punkt to /root/nltk_data...\n",
            "[nltk_data]   Unzipping tokenizers/punkt.zip.\n"
          ],
          "name": "stdout"
        }
      ]
    },
    {
      "cell_type": "code",
      "metadata": {
        "id": "vlipL-xg-AgV",
        "colab_type": "code",
        "colab": {}
      },
      "source": [
        "desc_tokens = [desc_reviser(i) for i in inst_data.description]\n",
        "inst_data[\"desc_tokens\"] = desc_tokens"
      ],
      "execution_count": 0,
      "outputs": []
    },
    {
      "cell_type": "code",
      "metadata": {
        "id": "6837PPP0-C-G",
        "colab_type": "code",
        "outputId": "d8a23700-eb44-495c-c1df-1012f9c1d73e",
        "colab": {
          "base_uri": "https://localhost:8080/",
          "height": 377
        }
      },
      "source": [
        "inst_data[\"revised_description\"] = 0\n",
        "\n",
        "for i in inst_data.index:\n",
        "    if \"academic\" in inst_data.desc_tokens[i]:\n",
        "        inst_data.revised_description[i] = inst_data.description[i]\n",
        "        \n",
        "    elif \"government\" in inst_data.desc_tokens[i]:\n",
        "        inst_data.revised_description[i] = inst_data.description[i]\n",
        "        \n",
        "    elif \"private\" or \"other\" in inst_data.desc_tokens[i]:\n",
        "        inst_data.revised_description[i] = \"Private business or organization; Other type of organization\"\n",
        "        \n",
        "    else: inst_data[\"revised_description\"][i] = np.nan"
      ],
      "execution_count": 11,
      "outputs": [
        {
          "output_type": "stream",
          "text": [
            "/usr/local/lib/python3.6/dist-packages/ipykernel_launcher.py:5: SettingWithCopyWarning: \n",
            "A value is trying to be set on a copy of a slice from a DataFrame\n",
            "\n",
            "See the caveats in the documentation: https://pandas.pydata.org/pandas-docs/stable/user_guide/indexing.html#returning-a-view-versus-a-copy\n",
            "  \"\"\"\n",
            "/usr/local/lib/python3.6/dist-packages/pandas/core/indexing.py:671: SettingWithCopyWarning: \n",
            "A value is trying to be set on a copy of a slice from a DataFrame\n",
            "\n",
            "See the caveats in the documentation: https://pandas.pydata.org/pandas-docs/stable/user_guide/indexing.html#returning-a-view-versus-a-copy\n",
            "  self._setitem_with_indexer(indexer, value)\n",
            "/usr/local/lib/python3.6/dist-packages/ipykernel_launcher.py:11: SettingWithCopyWarning: \n",
            "A value is trying to be set on a copy of a slice from a DataFrame\n",
            "\n",
            "See the caveats in the documentation: https://pandas.pydata.org/pandas-docs/stable/user_guide/indexing.html#returning-a-view-versus-a-copy\n",
            "  # This is added back by InteractiveShellApp.init_path()\n",
            "/usr/local/lib/python3.6/dist-packages/ipykernel_launcher.py:8: SettingWithCopyWarning: \n",
            "A value is trying to be set on a copy of a slice from a DataFrame\n",
            "\n",
            "See the caveats in the documentation: https://pandas.pydata.org/pandas-docs/stable/user_guide/indexing.html#returning-a-view-versus-a-copy\n",
            "  \n"
          ],
          "name": "stderr"
        }
      ]
    },
    {
      "cell_type": "code",
      "metadata": {
        "id": "yoL9N1TM-Fhv",
        "colab_type": "code",
        "colab": {}
      },
      "source": [
        "inst_data['revised_recruiter_hash'] = inst_data.revised_description.map(hash) #create column of revised recruiter types"
      ],
      "execution_count": 0,
      "outputs": []
    },
    {
      "cell_type": "code",
      "metadata": {
        "id": "60Eh9SPk-KAO",
        "colab_type": "code",
        "colab": {}
      },
      "source": [
        "inst_data[\"from_coordinates\"] = list(zip(inst_data.longitude, inst_data.latitude))\n",
        "inst_data[\"to_coordinates\"] = list(zip(inst_data.to_longitude, inst_data.to_latitude))"
      ],
      "execution_count": 0,
      "outputs": []
    },
    {
      "cell_type": "code",
      "metadata": {
        "id": "CIG4Dv3--MO5",
        "colab_type": "code",
        "colab": {}
      },
      "source": [
        "data_subsets = {}\n",
        "for i in inst_data.category_id.unique():\n",
        "    inst_data_subset_iteration = inst_data[inst_data.category_id == i]\n",
        "    data_subsets[i] = inst_data_subset_iteration"
      ],
      "execution_count": 0,
      "outputs": []
    },
    {
      "cell_type": "markdown",
      "metadata": {
        "id": "NEaeOo_k-RdJ",
        "colab_type": "text"
      },
      "source": [
        ""
      ]
    },
    {
      "cell_type": "code",
      "metadata": {
        "id": "GJDHo75R-Sgp",
        "colab_type": "code",
        "outputId": "90866ce4-c306-483d-b075-f617472d062c",
        "colab": {
          "base_uri": "https://localhost:8080/",
          "height": 394
        }
      },
      "source": [
        "!pip install seaborn-qqplot"
      ],
      "execution_count": 15,
      "outputs": [
        {
          "output_type": "stream",
          "text": [
            "Collecting seaborn-qqplot\n",
            "  Downloading https://files.pythonhosted.org/packages/29/1e/c98d9fb5c34abb193005bcb89c3e751420d8d73207ccf95b5d61218311fb/seaborn-qqplot-0.3.2.tar.gz\n",
            "Requirement already satisfied: scipy in /usr/local/lib/python3.6/dist-packages (from seaborn-qqplot) (1.4.1)\n",
            "Requirement already satisfied: pandas in /usr/local/lib/python3.6/dist-packages (from seaborn-qqplot) (1.0.3)\n",
            "Requirement already satisfied: seaborn in /usr/local/lib/python3.6/dist-packages (from seaborn-qqplot) (0.10.1)\n",
            "Requirement already satisfied: tabulate in /usr/local/lib/python3.6/dist-packages (from seaborn-qqplot) (0.8.7)\n",
            "Requirement already satisfied: numpy>=1.13.3 in /usr/local/lib/python3.6/dist-packages (from scipy->seaborn-qqplot) (1.18.4)\n",
            "Requirement already satisfied: python-dateutil>=2.6.1 in /usr/local/lib/python3.6/dist-packages (from pandas->seaborn-qqplot) (2.8.1)\n",
            "Requirement already satisfied: pytz>=2017.2 in /usr/local/lib/python3.6/dist-packages (from pandas->seaborn-qqplot) (2018.9)\n",
            "Requirement already satisfied: matplotlib>=2.1.2 in /usr/local/lib/python3.6/dist-packages (from seaborn->seaborn-qqplot) (3.2.1)\n",
            "Requirement already satisfied: six>=1.5 in /usr/local/lib/python3.6/dist-packages (from python-dateutil>=2.6.1->pandas->seaborn-qqplot) (1.14.0)\n",
            "Requirement already satisfied: kiwisolver>=1.0.1 in /usr/local/lib/python3.6/dist-packages (from matplotlib>=2.1.2->seaborn->seaborn-qqplot) (1.2.0)\n",
            "Requirement already satisfied: pyparsing!=2.0.4,!=2.1.2,!=2.1.6,>=2.0.1 in /usr/local/lib/python3.6/dist-packages (from matplotlib>=2.1.2->seaborn->seaborn-qqplot) (2.4.7)\n",
            "Requirement already satisfied: cycler>=0.10 in /usr/local/lib/python3.6/dist-packages (from matplotlib>=2.1.2->seaborn->seaborn-qqplot) (0.10.0)\n",
            "Building wheels for collected packages: seaborn-qqplot\n",
            "  Building wheel for seaborn-qqplot (setup.py) ... \u001b[?25l\u001b[?25hdone\n",
            "  Created wheel for seaborn-qqplot: filename=seaborn_qqplot-0.3.2-cp36-none-any.whl size=12632 sha256=b2f1fd09efe936c6dd8a44e3818b115147c21f8ee7b60dc9833e4ca5e2c94466\n",
            "  Stored in directory: /root/.cache/pip/wheels/4e/37/aa/3aa9b433dfe80aebcec84b2970849fc3cb4d6e4f67ff89458b\n",
            "Successfully built seaborn-qqplot\n",
            "Installing collected packages: seaborn-qqplot\n",
            "Successfully installed seaborn-qqplot-0.3.2\n"
          ],
          "name": "stdout"
        }
      ]
    },
    {
      "cell_type": "code",
      "metadata": {
        "id": "T_YbiSPs-TRp",
        "colab_type": "code",
        "outputId": "5316f429-f21e-4e28-9782-de1fa56524d9",
        "colab": {
          "base_uri": "https://localhost:8080/",
          "height": 71
        }
      },
      "source": [
        "import seaborn as sns\n",
        "import statsmodels.formula.api as smf\n",
        "import scipy.stats as st\n",
        "from statsmodels.stats.diagnostic import het_breuschpagan\n",
        "from statsmodels.stats.diagnostic import het_white\n",
        "import statsmodels\n",
        "import seaborn_qqplot as sqp\n",
        "import statsmodels.discrete.discrete_model as sm"
      ],
      "execution_count": 16,
      "outputs": [
        {
          "output_type": "stream",
          "text": [
            "/usr/local/lib/python3.6/dist-packages/statsmodels/tools/_testing.py:19: FutureWarning: pandas.util.testing is deprecated. Use the functions in the public API at pandas.testing instead.\n",
            "  import pandas.util.testing as tm\n"
          ],
          "name": "stderr"
        }
      ]
    },
    {
      "cell_type": "code",
      "metadata": {
        "id": "5unk0mMf-aA4",
        "colab_type": "code",
        "outputId": "758c93ae-e569-4c61-c6b2-a662918063c8",
        "colab": {
          "base_uri": "https://localhost:8080/",
          "height": 624
        }
      },
      "source": [
        "data_clean_rank = inst_data.dropna(subset = [\"rank\", \"to_rank\"])\n",
        "fig, ax = plt.subplots(figsize = (10, 10))\n",
        "rank_scat = sns.regplot(x = \"rank\", y = \"to_rank\", data = data_clean_rank, ax = ax)\n",
        "rank_scat.get_lines()[0].set_color(\"red\")"
      ],
      "execution_count": 17,
      "outputs": [
        {
          "output_type": "display_data",
          "data": {
            "image/png": "[encoded data removed]",
            "text/plain": [
              "<Figure size 720x720 with 1 Axes>"
            ]
          },
          "metadata": {
            "tags": []
          }
        }
      ]
    },
    {
      "cell_type": "code",
      "metadata": {
        "id": "EVdspjHa-cTS",
        "colab_type": "code",
        "outputId": "f9604f0d-7db8-4b1c-ac80-039a420a19b6",
        "colab": {
          "base_uri": "https://localhost:8080/",
          "height": 379
        }
      },
      "source": [
        "skew = pd.DataFrame(data_clean_rank.skew(), columns = [\"skewness\"])\n",
        "kurt = pd.DataFrame(data_clean_rank.kurtosis(), columns = [\"kurtosis\"])\n",
        "skewkurt = pd.concat([skew, kurt], axis = 1)\n",
        "fulldesc = pd.concat([data_clean_rank.describe(), skewkurt.T])\n",
        "fulldesc"
      ],
      "execution_count": 18,
      "outputs": [
        {
          "output_type": "execute_result",
          "data": {
            "text/html": [
              "<div>\n",
              "<style scoped>\n",
              "    .dataframe tbody tr th:only-of-type {\n",
              "        vertical-align: middle;\n",
              "    }\n",
              "\n",
              "    .dataframe tbody tr th {\n",
              "        vertical-align: top;\n",
              "    }\n",
              "\n",
              "    .dataframe thead th {\n",
              "        text-align: right;\n",
              "    }\n",
              "</style>\n",
              "<table border=\"1\" class=\"dataframe\">\n",
              "  <thead>\n",
              "    <tr style=\"text-align: right;\">\n",
              "      <th></th>\n",
              "      <th>aid</th>\n",
              "      <th>to_institution_id</th>\n",
              "      <th>to_oid</th>\n",
              "      <th>to_latitude</th>\n",
              "      <th>to_longitude</th>\n",
              "      <th>to_rank</th>\n",
              "      <th>recruiter_type</th>\n",
              "      <th>from_oid</th>\n",
              "      <th>from_institution_id</th>\n",
              "      <th>latitude</th>\n",
              "      <th>longitude</th>\n",
              "      <th>category_id</th>\n",
              "      <th>rank</th>\n",
              "      <th>revised_recruiter_hash</th>\n",
              "    </tr>\n",
              "  </thead>\n",
              "  <tbody>\n",
              "    <tr>\n",
              "      <th>count</th>\n",
              "      <td>1210.000000</td>\n",
              "      <td>1210.000000</td>\n",
              "      <td>1210.000000</td>\n",
              "      <td>1124.000000</td>\n",
              "      <td>1124.000000</td>\n",
              "      <td>1210.000000</td>\n",
              "      <td>1210.000000</td>\n",
              "      <td>1210.000000</td>\n",
              "      <td>1210.000000</td>\n",
              "      <td>1210.000000</td>\n",
              "      <td>1210.000000</td>\n",
              "      <td>1210.000000</td>\n",
              "      <td>1210.000000</td>\n",
              "      <td>1.210000e+03</td>\n",
              "    </tr>\n",
              "    <tr>\n",
              "      <th>mean</th>\n",
              "      <td>28022.109091</td>\n",
              "      <td>281.255372</td>\n",
              "      <td>595.200826</td>\n",
              "      <td>39.347232</td>\n",
              "      <td>-45.390382</td>\n",
              "      <td>34.437190</td>\n",
              "      <td>1.450413</td>\n",
              "      <td>333.198347</td>\n",
              "      <td>265.276033</td>\n",
              "      <td>41.339156</td>\n",
              "      <td>-59.320042</td>\n",
              "      <td>9.784298</td>\n",
              "      <td>20.584298</td>\n",
              "      <td>-6.897116e+18</td>\n",
              "    </tr>\n",
              "    <tr>\n",
              "      <th>std</th>\n",
              "      <td>14861.038705</td>\n",
              "      <td>279.052782</td>\n",
              "      <td>700.774333</td>\n",
              "      <td>17.295089</td>\n",
              "      <td>67.780175</td>\n",
              "      <td>28.828774</td>\n",
              "      <td>1.088144</td>\n",
              "      <td>323.898202</td>\n",
              "      <td>285.827069</td>\n",
              "      <td>11.168140</td>\n",
              "      <td>49.505632</td>\n",
              "      <td>6.318190</td>\n",
              "      <td>20.640407</td>\n",
              "      <td>4.605921e+18</td>\n",
              "    </tr>\n",
              "    <tr>\n",
              "      <th>min</th>\n",
              "      <td>7.000000</td>\n",
              "      <td>2.000000</td>\n",
              "      <td>20.000000</td>\n",
              "      <td>-37.912641</td>\n",
              "      <td>-123.253794</td>\n",
              "      <td>1.000000</td>\n",
              "      <td>1.000000</td>\n",
              "      <td>20.000000</td>\n",
              "      <td>2.000000</td>\n",
              "      <td>-37.801380</td>\n",
              "      <td>-123.250418</td>\n",
              "      <td>1.000000</td>\n",
              "      <td>1.000000</td>\n",
              "      <td>-8.984643e+18</td>\n",
              "    </tr>\n",
              "    <tr>\n",
              "      <th>25%</th>\n",
              "      <td>13573.000000</td>\n",
              "      <td>73.000000</td>\n",
              "      <td>139.000000</td>\n",
              "      <td>38.983057</td>\n",
              "      <td>-83.737582</td>\n",
              "      <td>11.000000</td>\n",
              "      <td>1.000000</td>\n",
              "      <td>85.250000</td>\n",
              "      <td>17.000000</td>\n",
              "      <td>39.953339</td>\n",
              "      <td>-83.737582</td>\n",
              "      <td>6.000000</td>\n",
              "      <td>8.000000</td>\n",
              "      <td>-8.984643e+18</td>\n",
              "    </tr>\n",
              "    <tr>\n",
              "      <th>50%</th>\n",
              "      <td>33403.000000</td>\n",
              "      <td>184.000000</td>\n",
              "      <td>361.000000</td>\n",
              "      <td>41.789922</td>\n",
              "      <td>-74.655533</td>\n",
              "      <td>24.000000</td>\n",
              "      <td>1.000000</td>\n",
              "      <td>217.000000</td>\n",
              "      <td>186.000000</td>\n",
              "      <td>41.313892</td>\n",
              "      <td>-74.655533</td>\n",
              "      <td>10.000000</td>\n",
              "      <td>14.000000</td>\n",
              "      <td>-8.984643e+18</td>\n",
              "    </tr>\n",
              "    <tr>\n",
              "      <th>75%</th>\n",
              "      <td>41955.250000</td>\n",
              "      <td>361.000000</td>\n",
              "      <td>886.000000</td>\n",
              "      <td>47.657111</td>\n",
              "      <td>-1.194493</td>\n",
              "      <td>57.750000</td>\n",
              "      <td>1.000000</td>\n",
              "      <td>406.000000</td>\n",
              "      <td>350.000000</td>\n",
              "      <td>42.376417</td>\n",
              "      <td>-71.083557</td>\n",
              "      <td>13.000000</td>\n",
              "      <td>24.000000</td>\n",
              "      <td>-8.984643e+18</td>\n",
              "    </tr>\n",
              "    <tr>\n",
              "      <th>max</th>\n",
              "      <td>47690.000000</td>\n",
              "      <td>1104.000000</td>\n",
              "      <td>5051.000000</td>\n",
              "      <td>59.362174</td>\n",
              "      <td>153.013491</td>\n",
              "      <td>100.000000</td>\n",
              "      <td>8.000000</td>\n",
              "      <td>1347.000000</td>\n",
              "      <td>1089.000000</td>\n",
              "      <td>59.362174</td>\n",
              "      <td>153.013491</td>\n",
              "      <td>34.000000</td>\n",
              "      <td>100.000000</td>\n",
              "      <td>5.398420e+18</td>\n",
              "    </tr>\n",
              "    <tr>\n",
              "      <th>skewness</th>\n",
              "      <td>-0.427576</td>\n",
              "      <td>1.229953</td>\n",
              "      <td>2.216633</td>\n",
              "      <td>-3.441758</td>\n",
              "      <td>1.396352</td>\n",
              "      <td>0.711909</td>\n",
              "      <td>3.229377</td>\n",
              "      <td>1.234817</td>\n",
              "      <td>1.066048</td>\n",
              "      <td>-4.929478</td>\n",
              "      <td>1.709218</td>\n",
              "      <td>0.706839</td>\n",
              "      <td>2.060622</td>\n",
              "      <td>2.094046e+00</td>\n",
              "    </tr>\n",
              "    <tr>\n",
              "      <th>kurtosis</th>\n",
              "      <td>-1.349272</td>\n",
              "      <td>0.681526</td>\n",
              "      <td>5.764407</td>\n",
              "      <td>12.416536</td>\n",
              "      <td>1.390454</td>\n",
              "      <td>-0.766935</td>\n",
              "      <td>12.683500</td>\n",
              "      <td>0.511837</td>\n",
              "      <td>-0.019915</td>\n",
              "      <td>32.668148</td>\n",
              "      <td>3.831658</td>\n",
              "      <td>0.720395</td>\n",
              "      <td>3.873360</td>\n",
              "      <td>2.782556e+00</td>\n",
              "    </tr>\n",
              "  </tbody>\n",
              "</table>\n",
              "</div>"
            ],
            "text/plain": [
              "                   aid  to_institution_id  ...         rank  revised_recruiter_hash\n",
              "count      1210.000000        1210.000000  ...  1210.000000            1.210000e+03\n",
              "mean      28022.109091         281.255372  ...    20.584298           -6.897116e+18\n",
              "std       14861.038705         279.052782  ...    20.640407            4.605921e+18\n",
              "min           7.000000           2.000000  ...     1.000000           -8.984643e+18\n",
              "25%       13573.000000          73.000000  ...     8.000000           -8.984643e+18\n",
              "50%       33403.000000         184.000000  ...    14.000000           -8.984643e+18\n",
              "75%       41955.250000         361.000000  ...    24.000000           -8.984643e+18\n",
              "max       47690.000000        1104.000000  ...   100.000000            5.398420e+18\n",
              "skewness     -0.427576           1.229953  ...     2.060622            2.094046e+00\n",
              "kurtosis     -1.349272           0.681526  ...     3.873360            2.782556e+00\n",
              "\n",
              "[10 rows x 14 columns]"
            ]
          },
          "metadata": {
            "tags": []
          },
          "execution_count": 18
        }
      ]
    },
    {
      "cell_type": "code",
      "metadata": {
        "id": "oeps6D9d-sYb",
        "colab_type": "code",
        "outputId": "6dc40abe-36c4-437d-9679-7107e91d9512",
        "colab": {
          "base_uri": "https://localhost:8080/",
          "height": 744
        }
      },
      "source": [
        "fig, ax = plt.subplots(figsize = (20, 20))\n",
        "sns.heatmap(data_clean_rank.corr(), annot = True)\n",
        "ax.set_title(\"Correlation Matrix\")"
      ],
      "execution_count": 19,
      "outputs": [
        {
          "output_type": "execute_result",
          "data": {
            "text/plain": [
              "Text(0.5, 1.0, 'Correlation Matrix')"
            ]
          },
          "metadata": {
            "tags": []
          },
          "execution_count": 19
        },
        {
          "output_type": "display_data",
          "data": {
            "image/png": "[encoded data removed]",
            "text/plain": [
              "<Figure size 1440x1440 with 2 Axes>"
            ]
          },
          "metadata": {
            "tags": []
          }
        }
      ]
    },
    {
      "cell_type": "code",
      "metadata": {
        "id": "ew-cqZRL_QOt",
        "colab_type": "code",
        "outputId": "a9c045b4-1703-4f05-b507-b49341cbd056",
        "colab": {
          "base_uri": "https://localhost:8080/",
          "height": 444
        }
      },
      "source": [
        "torank_rank_regression = smf.ols(formula = \"to_rank ~ rank\", data = data_clean_rank)\n",
        "torank_rank_regression = torank_rank_regression.fit()\n",
        "torank_rank_regression.summary()"
      ],
      "execution_count": 20,
      "outputs": [
        {
          "output_type": "execute_result",
          "data": {
            "text/html": [
              "<table class=\"simpletable\">\n",
              "<caption>OLS Regression Results</caption>\n",
              "<tr>\n",
              "  <th>Dep. Variable:</th>         <td>to_rank</td>     <th>  R-squared:         </th> <td>   0.033</td> \n",
              "</tr>\n",
              "<tr>\n",
              "  <th>Model:</th>                   <td>OLS</td>       <th>  Adj. R-squared:    </th> <td>   0.032</td> \n",
              "</tr>\n",
              "<tr>\n",
              "  <th>Method:</th>             <td>Least Squares</td>  <th>  F-statistic:       </th> <td>   41.14</td> \n",
              "</tr>\n",
              "<tr>\n",
              "  <th>Date:</th>             <td>Mon, 18 May 2020</td> <th>  Prob (F-statistic):</th> <td>2.03e-10</td> \n",
              "</tr>\n",
              "<tr>\n",
              "  <th>Time:</th>                 <td>04:57:19</td>     <th>  Log-Likelihood:    </th> <td> -5763.4</td> \n",
              "</tr>\n",
              "<tr>\n",
              "  <th>No. Observations:</th>      <td>  1210</td>      <th>  AIC:               </th> <td>1.153e+04</td>\n",
              "</tr>\n",
              "<tr>\n",
              "  <th>Df Residuals:</th>          <td>  1208</td>      <th>  BIC:               </th> <td>1.154e+04</td>\n",
              "</tr>\n",
              "<tr>\n",
              "  <th>Df Model:</th>              <td>     1</td>      <th>                     </th>     <td> </td>    \n",
              "</tr>\n",
              "<tr>\n",
              "  <th>Covariance Type:</th>      <td>nonrobust</td>    <th>                     </th>     <td> </td>    \n",
              "</tr>\n",
              "</table>\n",
              "<table class=\"simpletable\">\n",
              "<tr>\n",
              "      <td></td>         <th>coef</th>     <th>std err</th>      <th>t</th>      <th>P>|t|</th>  <th>[0.025</th>    <th>0.975]</th>  \n",
              "</tr>\n",
              "<tr>\n",
              "  <th>Intercept</th> <td>   29.2196</td> <td>    1.152</td> <td>   25.370</td> <td> 0.000</td> <td>   26.960</td> <td>   31.479</td>\n",
              "</tr>\n",
              "<tr>\n",
              "  <th>rank</th>      <td>    0.2535</td> <td>    0.040</td> <td>    6.414</td> <td> 0.000</td> <td>    0.176</td> <td>    0.331</td>\n",
              "</tr>\n",
              "</table>\n",
              "<table class=\"simpletable\">\n",
              "<tr>\n",
              "  <th>Omnibus:</th>       <td>132.544</td> <th>  Durbin-Watson:     </th> <td>   1.774</td>\n",
              "</tr>\n",
              "<tr>\n",
              "  <th>Prob(Omnibus):</th> <td> 0.000</td>  <th>  Jarque-Bera (JB):  </th> <td> 125.685</td>\n",
              "</tr>\n",
              "<tr>\n",
              "  <th>Skew:</th>          <td> 0.722</td>  <th>  Prob(JB):          </th> <td>5.10e-28</td>\n",
              "</tr>\n",
              "<tr>\n",
              "  <th>Kurtosis:</th>      <td> 2.362</td>  <th>  Cond. No.          </th> <td>    41.2</td>\n",
              "</tr>\n",
              "</table><br/><br/>Warnings:<br/>[1] Standard Errors assume that the covariance matrix of the errors is correctly specified."
            ],
            "text/plain": [
              "<class 'statsmodels.iolib.summary.Summary'>\n",
              "\"\"\"\n",
              "                            OLS Regression Results                            \n",
              "==============================================================================\n",
              "Dep. Variable:                to_rank   R-squared:                       0.033\n",
              "Model:                            OLS   Adj. R-squared:                  0.032\n",
              "Method:                 Least Squares   F-statistic:                     41.14\n",
              "Date:                Mon, 18 May 2020   Prob (F-statistic):           2.03e-10\n",
              "Time:                        04:57:19   Log-Likelihood:                -5763.4\n",
              "No. Observations:                1210   AIC:                         1.153e+04\n",
              "Df Residuals:                    1208   BIC:                         1.154e+04\n",
              "Df Model:                           1                                         \n",
              "Covariance Type:            nonrobust                                         \n",
              "==============================================================================\n",
              "                 coef    std err          t      P>|t|      [0.025      0.975]\n",
              "------------------------------------------------------------------------------\n",
              "Intercept     29.2196      1.152     25.370      0.000      26.960      31.479\n",
              "rank           0.2535      0.040      6.414      0.000       0.176       0.331\n",
              "==============================================================================\n",
              "Omnibus:                      132.544   Durbin-Watson:                   1.774\n",
              "Prob(Omnibus):                  0.000   Jarque-Bera (JB):              125.685\n",
              "Skew:                           0.722   Prob(JB):                     5.10e-28\n",
              "Kurtosis:                       2.362   Cond. No.                         41.2\n",
              "==============================================================================\n",
              "\n",
              "Warnings:\n",
              "[1] Standard Errors assume that the covariance matrix of the errors is correctly specified.\n",
              "\"\"\""
            ]
          },
          "metadata": {
            "tags": []
          },
          "execution_count": 20
        }
      ]
    },
    {
      "cell_type": "code",
      "metadata": {
        "id": "lAQ9xNKz_yCh",
        "colab_type": "code",
        "outputId": "7436ea0d-b06b-4d9c-ae81-f2ea379533bc",
        "colab": {
          "base_uri": "https://localhost:8080/",
          "height": 444
        }
      },
      "source": [
        "torank_rank_regression_hc1 = smf.ols(formula = \"to_rank ~ rank\", data = data_clean_rank)\n",
        "torank_rank_regression_hc1 = torank_rank_regression_hc1.fit(cov_type = \"HC1\")\n",
        "torank_rank_regression_hc1.summary()"
      ],
      "execution_count": 21,
      "outputs": [
        {
          "output_type": "execute_result",
          "data": {
            "text/html": [
              "<table class=\"simpletable\">\n",
              "<caption>OLS Regression Results</caption>\n",
              "<tr>\n",
              "  <th>Dep. Variable:</th>         <td>to_rank</td>     <th>  R-squared:         </th> <td>   0.033</td> \n",
              "</tr>\n",
              "<tr>\n",
              "  <th>Model:</th>                   <td>OLS</td>       <th>  Adj. R-squared:    </th> <td>   0.032</td> \n",
              "</tr>\n",
              "<tr>\n",
              "  <th>Method:</th>             <td>Least Squares</td>  <th>  F-statistic:       </th> <td>   35.39</td> \n",
              "</tr>\n",
              "<tr>\n",
              "  <th>Date:</th>             <td>Mon, 18 May 2020</td> <th>  Prob (F-statistic):</th> <td>3.54e-09</td> \n",
              "</tr>\n",
              "<tr>\n",
              "  <th>Time:</th>                 <td>04:57:20</td>     <th>  Log-Likelihood:    </th> <td> -5763.4</td> \n",
              "</tr>\n",
              "<tr>\n",
              "  <th>No. Observations:</th>      <td>  1210</td>      <th>  AIC:               </th> <td>1.153e+04</td>\n",
              "</tr>\n",
              "<tr>\n",
              "  <th>Df Residuals:</th>          <td>  1208</td>      <th>  BIC:               </th> <td>1.154e+04</td>\n",
              "</tr>\n",
              "<tr>\n",
              "  <th>Df Model:</th>              <td>     1</td>      <th>                     </th>     <td> </td>    \n",
              "</tr>\n",
              "<tr>\n",
              "  <th>Covariance Type:</th>         <td>HC1</td>       <th>                     </th>     <td> </td>    \n",
              "</tr>\n",
              "</table>\n",
              "<table class=\"simpletable\">\n",
              "<tr>\n",
              "      <td></td>         <th>coef</th>     <th>std err</th>      <th>z</th>      <th>P>|z|</th>  <th>[0.025</th>    <th>0.975]</th>  \n",
              "</tr>\n",
              "<tr>\n",
              "  <th>Intercept</th> <td>   29.2196</td> <td>    1.179</td> <td>   24.788</td> <td> 0.000</td> <td>   26.909</td> <td>   31.530</td>\n",
              "</tr>\n",
              "<tr>\n",
              "  <th>rank</th>      <td>    0.2535</td> <td>    0.043</td> <td>    5.949</td> <td> 0.000</td> <td>    0.170</td> <td>    0.337</td>\n",
              "</tr>\n",
              "</table>\n",
              "<table class=\"simpletable\">\n",
              "<tr>\n",
              "  <th>Omnibus:</th>       <td>132.544</td> <th>  Durbin-Watson:     </th> <td>   1.774</td>\n",
              "</tr>\n",
              "<tr>\n",
              "  <th>Prob(Omnibus):</th> <td> 0.000</td>  <th>  Jarque-Bera (JB):  </th> <td> 125.685</td>\n",
              "</tr>\n",
              "<tr>\n",
              "  <th>Skew:</th>          <td> 0.722</td>  <th>  Prob(JB):          </th> <td>5.10e-28</td>\n",
              "</tr>\n",
              "<tr>\n",
              "  <th>Kurtosis:</th>      <td> 2.362</td>  <th>  Cond. No.          </th> <td>    41.2</td>\n",
              "</tr>\n",
              "</table><br/><br/>Warnings:<br/>[1] Standard Errors are heteroscedasticity robust (HC1)"
            ],
            "text/plain": [
              "<class 'statsmodels.iolib.summary.Summary'>\n",
              "\"\"\"\n",
              "                            OLS Regression Results                            \n",
              "==============================================================================\n",
              "Dep. Variable:                to_rank   R-squared:                       0.033\n",
              "Model:                            OLS   Adj. R-squared:                  0.032\n",
              "Method:                 Least Squares   F-statistic:                     35.39\n",
              "Date:                Mon, 18 May 2020   Prob (F-statistic):           3.54e-09\n",
              "Time:                        04:57:20   Log-Likelihood:                -5763.4\n",
              "No. Observations:                1210   AIC:                         1.153e+04\n",
              "Df Residuals:                    1208   BIC:                         1.154e+04\n",
              "Df Model:                           1                                         \n",
              "Covariance Type:                  HC1                                         \n",
              "==============================================================================\n",
              "                 coef    std err          z      P>|z|      [0.025      0.975]\n",
              "------------------------------------------------------------------------------\n",
              "Intercept     29.2196      1.179     24.788      0.000      26.909      31.530\n",
              "rank           0.2535      0.043      5.949      0.000       0.170       0.337\n",
              "==============================================================================\n",
              "Omnibus:                      132.544   Durbin-Watson:                   1.774\n",
              "Prob(Omnibus):                  0.000   Jarque-Bera (JB):              125.685\n",
              "Skew:                           0.722   Prob(JB):                     5.10e-28\n",
              "Kurtosis:                       2.362   Cond. No.                         41.2\n",
              "==============================================================================\n",
              "\n",
              "Warnings:\n",
              "[1] Standard Errors are heteroscedasticity robust (HC1)\n",
              "\"\"\""
            ]
          },
          "metadata": {
            "tags": []
          },
          "execution_count": 21
        }
      ]
    },
    {
      "cell_type": "code",
      "metadata": {
        "id": "1xI3nfA-AZ6m",
        "colab_type": "code",
        "outputId": "0f921e85-965c-4a10-d7fd-86bf4ec60ada",
        "colab": {
          "base_uri": "https://localhost:8080/",
          "height": 298
        }
      },
      "source": [
        "torank_rank_resid = sns.residplot(data_clean_rank[\"rank\"], data_clean_rank[\"to_rank\"], lowess=True)\n",
        "torank_rank_resid.get_lines()[0].set_color(\"r\")\n",
        "torank_rank_resid.get_lines()[1].set_color(\"r\")"
      ],
      "execution_count": 22,
      "outputs": [
        {
          "output_type": "display_data",
          "data": {
            "image/png": "[encoded data removed]",
            "text/plain": [
              "<Figure size 432x288 with 1 Axes>"
            ]
          },
          "metadata": {
            "tags": []
          }
        }
      ]
    },
    {
      "cell_type": "code",
      "metadata": {
        "id": "MQfBIIlKBe3O",
        "colab_type": "code",
        "outputId": "c38f3386-b5b7-49ed-974a-a0c2b3fa8d71",
        "colab": {
          "base_uri": "https://localhost:8080/",
          "height": 315
        }
      },
      "source": [
        "fig, ax = plt.subplots()\n",
        "fit_resid = sns.residplot(torank_rank_regression_hc1.fittedvalues, data_clean_rank[\"to_rank\"], lowess = True, ax = ax)\n",
        "fit_resid.get_lines()[0].set_color(\"r\")\n",
        "fit_resid.get_lines()[1].set_color(\"r\")\n",
        "ax.set_xlabel(\"fitted_values\")"
      ],
      "execution_count": 23,
      "outputs": [
        {
          "output_type": "execute_result",
          "data": {
            "text/plain": [
              "Text(0.5, 0, 'fitted_values')"
            ]
          },
          "metadata": {
            "tags": []
          },
          "execution_count": 23
        },
        {
          "output_type": "display_data",
          "data": {
            "image/png": "[encoded data removed]",
            "text/plain": [
              "<Figure size 432x288 with 1 Axes>"
            ]
          },
          "metadata": {
            "tags": []
          }
        }
      ]
    },
    {
      "cell_type": "code",
      "metadata": {
        "id": "tRSeq5vQB-AG",
        "colab_type": "code",
        "outputId": "e2bc0c75-0d65-40c6-d858-871127a42691",
        "colab": {
          "base_uri": "https://localhost:8080/",
          "height": 34
        }
      },
      "source": [
        "st.shapiro(torank_rank_regression_hc1.resid) #tests null hypothesis that sample came from normally distributed population; if p value less than alpha, reject null i.e. evidence data tested not normally distributed"
      ],
      "execution_count": 24,
      "outputs": [
        {
          "output_type": "execute_result",
          "data": {
            "text/plain": [
              "(0.9091321229934692, 2.936445048387006e-26)"
            ]
          },
          "metadata": {
            "tags": []
          },
          "execution_count": 24
        }
      ]
    },
    {
      "cell_type": "code",
      "metadata": {
        "id": "tF32bsXvCp65",
        "colab_type": "code",
        "outputId": "9e98dbc8-c64e-4361-df3b-e1d57e4cdb92",
        "colab": {
          "base_uri": "https://localhost:8080/",
          "height": 173
        }
      },
      "source": [
        "white_test = het_white(torank_rank_regression_hc1.resid, torank_rank_regression_hc1.model.exog)\n",
        "labels = [\"LM Statistic\", \"LM-Test p-value\", \"F Statistic\", \"F-Test p-value\"]\n",
        "whitedict = dict(zip(labels, white_test))\n",
        "whitedata = pd.DataFrame.from_dict(whitedict, orient = 'index')\n",
        "whitedata = whitedata.rename(columns = {0 : \"White Test Values\"})\n",
        "whitedata"
      ],
      "execution_count": 25,
      "outputs": [
        {
          "output_type": "execute_result",
          "data": {
            "text/html": [
              "<div>\n",
              "<style scoped>\n",
              "    .dataframe tbody tr th:only-of-type {\n",
              "        vertical-align: middle;\n",
              "    }\n",
              "\n",
              "    .dataframe tbody tr th {\n",
              "        vertical-align: top;\n",
              "    }\n",
              "\n",
              "    .dataframe thead th {\n",
              "        text-align: right;\n",
              "    }\n",
              "</style>\n",
              "<table border=\"1\" class=\"dataframe\">\n",
              "  <thead>\n",
              "    <tr style=\"text-align: right;\">\n",
              "      <th></th>\n",
              "      <th>White Test Values</th>\n",
              "    </tr>\n",
              "  </thead>\n",
              "  <tbody>\n",
              "    <tr>\n",
              "      <th>LM Statistic</th>\n",
              "      <td>5.796547</td>\n",
              "    </tr>\n",
              "    <tr>\n",
              "      <th>LM-Test p-value</th>\n",
              "      <td>0.055118</td>\n",
              "    </tr>\n",
              "    <tr>\n",
              "      <th>F Statistic</th>\n",
              "      <td>2.905004</td>\n",
              "    </tr>\n",
              "    <tr>\n",
              "      <th>F-Test p-value</th>\n",
              "      <td>0.055131</td>\n",
              "    </tr>\n",
              "  </tbody>\n",
              "</table>\n",
              "</div>"
            ],
            "text/plain": [
              "                 White Test Values\n",
              "LM Statistic              5.796547\n",
              "LM-Test p-value           0.055118\n",
              "F Statistic               2.905004\n",
              "F-Test p-value            0.055131"
            ]
          },
          "metadata": {
            "tags": []
          },
          "execution_count": 25
        }
      ]
    },
    {
      "cell_type": "code",
      "metadata": {
        "id": "FR7CXLYFD77z",
        "colab_type": "code",
        "outputId": "f14ba88b-8b49-4346-9747-f3cdbeb1a0d7",
        "colab": {
          "base_uri": "https://localhost:8080/",
          "height": 173
        }
      },
      "source": [
        "breuschpagan_test = statsmodels.stats.diagnostic.het_breuschpagan(torank_rank_regression_hc1.resid, torank_rank_regression_hc1.model.exog)\n",
        "labels = [\"LM Statistic\", \"LM-Test p-value\", \"F Statistic\", \"F-Test p-value\"]\n",
        "breuschpagandict = dict(zip(labels, breuschpagan_test))\n",
        "breuschpagandata = pd.DataFrame.from_dict(breuschpagandict, orient = 'index')\n",
        "breuschpagandata = breuschpagandata.rename(columns = {0 : \"Breusch-Pagan Test Values\"})\n",
        "breuschpagandata"
      ],
      "execution_count": 26,
      "outputs": [
        {
          "output_type": "execute_result",
          "data": {
            "text/html": [
              "<div>\n",
              "<style scoped>\n",
              "    .dataframe tbody tr th:only-of-type {\n",
              "        vertical-align: middle;\n",
              "    }\n",
              "\n",
              "    .dataframe tbody tr th {\n",
              "        vertical-align: top;\n",
              "    }\n",
              "\n",
              "    .dataframe thead th {\n",
              "        text-align: right;\n",
              "    }\n",
              "</style>\n",
              "<table border=\"1\" class=\"dataframe\">\n",
              "  <thead>\n",
              "    <tr style=\"text-align: right;\">\n",
              "      <th></th>\n",
              "      <th>Breusch-Pagan Test Values</th>\n",
              "    </tr>\n",
              "  </thead>\n",
              "  <tbody>\n",
              "    <tr>\n",
              "      <th>LM Statistic</th>\n",
              "      <td>1.006099</td>\n",
              "    </tr>\n",
              "    <tr>\n",
              "      <th>LM-Test p-value</th>\n",
              "      <td>0.315839</td>\n",
              "    </tr>\n",
              "    <tr>\n",
              "      <th>F Statistic</th>\n",
              "      <td>1.005272</td>\n",
              "    </tr>\n",
              "    <tr>\n",
              "      <th>F-Test p-value</th>\n",
              "      <td>0.316239</td>\n",
              "    </tr>\n",
              "  </tbody>\n",
              "</table>\n",
              "</div>"
            ],
            "text/plain": [
              "                 Breusch-Pagan Test Values\n",
              "LM Statistic                      1.006099\n",
              "LM-Test p-value                   0.315839\n",
              "F Statistic                       1.005272\n",
              "F-Test p-value                    0.316239"
            ]
          },
          "metadata": {
            "tags": []
          },
          "execution_count": 26
        }
      ]
    },
    {
      "cell_type": "code",
      "metadata": {
        "id": "UbNLHhN0EVOC",
        "colab_type": "code",
        "outputId": "a2f46670-6676-4422-e810-4640d13bfa8e",
        "colab": {
          "base_uri": "https://localhost:8080/",
          "height": 222
        }
      },
      "source": [
        "resid_data = pd.DataFrame(torank_rank_regression_hc1.resid)\n",
        "all_data = pd.concat([data_clean_rank, resid_data], axis = 1)\n",
        "all_data = all_data.rename(columns = {0: \"residuals\"})\n",
        "sqp.qqplot(all_data, x = \"residuals\", y = st.norm)"
      ],
      "execution_count": 27,
      "outputs": [
        {
          "output_type": "execute_result",
          "data": {
            "text/plain": [
              "<seaborn.axisgrid.PairGrid at 0x7fa054399240>"
            ]
          },
          "metadata": {
            "tags": []
          },
          "execution_count": 27
        },
        {
          "output_type": "display_data",
          "data": {
            "image/png": "[encoded data removed]",
            "text/plain": [
              "<Figure size 180x180 with 1 Axes>"
            ]
          },
          "metadata": {
            "tags": []
          }
        }
      ]
    },
    {
      "cell_type": "code",
      "metadata": {
        "id": "XmkauIGIGZsp",
        "colab_type": "code",
        "outputId": "dbe5f473-a4f6-4579-d9cf-76f00005cb5d",
        "colab": {
          "base_uri": "https://localhost:8080/",
          "height": 293
        }
      },
      "source": [
        "torank_rank_regression_hc1.resid.plot.kde()"
      ],
      "execution_count": 28,
      "outputs": [
        {
          "output_type": "execute_result",
          "data": {
            "text/plain": [
              "<matplotlib.axes._subplots.AxesSubplot at 0x7fa05428fd68>"
            ]
          },
          "metadata": {
            "tags": []
          },
          "execution_count": 28
        },
        {
          "output_type": "display_data",
          "data": {
            "image/png": "[encoded data removed]",
            "text/plain": [
              "<Figure size 432x288 with 1 Axes>"
            ]
          },
          "metadata": {
            "tags": []
          }
        }
      ]
    },
    {
      "cell_type": "code",
      "metadata": {
        "id": "xvmEAXomE_Tz",
        "colab_type": "code",
        "colab": {}
      },
      "source": [
        "#create dummies for recruiter types\n",
        "data_dummies_rectype = pd.get_dummies(inst_data[\"revised_description\"])"
      ],
      "execution_count": 0,
      "outputs": []
    },
    {
      "cell_type": "code",
      "metadata": {
        "id": "6CuSzkZAGxAK",
        "colab_type": "code",
        "colab": {}
      },
      "source": [
        "data_with_dummies = pd.concat([inst_data, data_dummies_rectype], axis = 1)"
      ],
      "execution_count": 0,
      "outputs": []
    },
    {
      "cell_type": "code",
      "metadata": {
        "id": "E3JVvrlQG04L",
        "colab_type": "code",
        "colab": {}
      },
      "source": [
        "data_with_dummies = data_with_dummies.rename(columns = {\"Government agency or commission\": \"govt\", \"Academic organization (economics department)\": \"econ\", \"Academic organization (agricultural/resource economics department)\": \"ag_econ\", \"Academic organization (business school)\": \"bsns\", \"Academic organization (other than econ, business, or ag econ)\": \"ac_othr\", \"Private business or organization; Other type of organization\": \"priv\"})"
      ],
      "execution_count": 0,
      "outputs": []
    },
    {
      "cell_type": "code",
      "metadata": {
        "id": "mJ-zYruVG2vC",
        "colab_type": "code",
        "outputId": "3843dddc-6383-4d20-cff2-ca42bbf08f3b",
        "colab": {
          "base_uri": "https://localhost:8080/",
          "height": 207
        }
      },
      "source": [
        "data_with_dummies[\"academia\"] = 0\n",
        "\n",
        "for i in data_with_dummies.index:\n",
        "    if data_with_dummies.econ[i] == 1 or data_with_dummies.bsns[i] == 1 or data_with_dummies.ac_othr[i] == 1 or data_with_dummies.ag_econ[i] == 1:\n",
        "      data_with_dummies.academia[i] = 1\n",
        "    else:\n",
        "      data_with_dummies.academia[i] = 0"
      ],
      "execution_count": 32,
      "outputs": [
        {
          "output_type": "stream",
          "text": [
            "/usr/local/lib/python3.6/dist-packages/ipykernel_launcher.py:5: SettingWithCopyWarning: \n",
            "A value is trying to be set on a copy of a slice from a DataFrame\n",
            "\n",
            "See the caveats in the documentation: https://pandas.pydata.org/pandas-docs/stable/user_guide/indexing.html#returning-a-view-versus-a-copy\n",
            "  \"\"\"\n",
            "/usr/local/lib/python3.6/dist-packages/ipykernel_launcher.py:7: SettingWithCopyWarning: \n",
            "A value is trying to be set on a copy of a slice from a DataFrame\n",
            "\n",
            "See the caveats in the documentation: https://pandas.pydata.org/pandas-docs/stable/user_guide/indexing.html#returning-a-view-versus-a-copy\n",
            "  import sys\n"
          ],
          "name": "stderr"
        }
      ]
    },
    {
      "cell_type": "code",
      "metadata": {
        "id": "SpnW8Kx0HskU",
        "colab_type": "code",
        "outputId": "7afdeac3-9da6-4327-9920-f9a7e919cf42",
        "colab": {
          "base_uri": "https://localhost:8080/",
          "height": 299
        }
      },
      "source": [
        "from patsy import dmatrices\n",
        "\n",
        "y_govt, X_rank = dmatrices(\"govt ~ rank\", data_with_dummies, return_type = \"dataframe\")\n",
        "\n",
        "govt_regression = sm.Logit(y_govt, X_rank)\n",
        "govt_regression.fit().summary()"
      ],
      "execution_count": 33,
      "outputs": [
        {
          "output_type": "stream",
          "text": [
            "Optimization terminated successfully.\n",
            "         Current function value: 0.247266\n",
            "         Iterations 7\n"
          ],
          "name": "stdout"
        },
        {
          "output_type": "execute_result",
          "data": {
            "text/html": [
              "<table class=\"simpletable\">\n",
              "<caption>Logit Regression Results</caption>\n",
              "<tr>\n",
              "  <th>Dep. Variable:</th>         <td>govt</td>       <th>  No. Observations:  </th>  <td>  3427</td> \n",
              "</tr>\n",
              "<tr>\n",
              "  <th>Model:</th>                 <td>Logit</td>      <th>  Df Residuals:      </th>  <td>  3425</td> \n",
              "</tr>\n",
              "<tr>\n",
              "  <th>Method:</th>                 <td>MLE</td>       <th>  Df Model:          </th>  <td>     1</td> \n",
              "</tr>\n",
              "<tr>\n",
              "  <th>Date:</th>            <td>Mon, 18 May 2020</td> <th>  Pseudo R-squ.:     </th> <td>0.001519</td>\n",
              "</tr>\n",
              "<tr>\n",
              "  <th>Time:</th>                <td>04:57:28</td>     <th>  Log-Likelihood:    </th> <td> -847.38</td>\n",
              "</tr>\n",
              "<tr>\n",
              "  <th>converged:</th>             <td>True</td>       <th>  LL-Null:           </th> <td> -848.67</td>\n",
              "</tr>\n",
              "<tr>\n",
              "  <th>Covariance Type:</th>     <td>nonrobust</td>    <th>  LLR p-value:       </th>  <td>0.1084</td> \n",
              "</tr>\n",
              "</table>\n",
              "<table class=\"simpletable\">\n",
              "<tr>\n",
              "      <td></td>         <th>coef</th>     <th>std err</th>      <th>z</th>      <th>P>|z|</th>  <th>[0.025</th>    <th>0.975]</th>  \n",
              "</tr>\n",
              "<tr>\n",
              "  <th>Intercept</th> <td>   -2.7419</td> <td>    0.102</td> <td>  -26.964</td> <td> 0.000</td> <td>   -2.941</td> <td>   -2.543</td>\n",
              "</tr>\n",
              "<tr>\n",
              "  <th>rank</th>      <td>    0.0049</td> <td>    0.003</td> <td>    1.645</td> <td> 0.100</td> <td>   -0.001</td> <td>    0.011</td>\n",
              "</tr>\n",
              "</table>"
            ],
            "text/plain": [
              "<class 'statsmodels.iolib.summary.Summary'>\n",
              "\"\"\"\n",
              "                           Logit Regression Results                           \n",
              "==============================================================================\n",
              "Dep. Variable:                   govt   No. Observations:                 3427\n",
              "Model:                          Logit   Df Residuals:                     3425\n",
              "Method:                           MLE   Df Model:                            1\n",
              "Date:                Mon, 18 May 2020   Pseudo R-squ.:                0.001519\n",
              "Time:                        04:57:28   Log-Likelihood:                -847.38\n",
              "converged:                       True   LL-Null:                       -848.67\n",
              "Covariance Type:            nonrobust   LLR p-value:                    0.1084\n",
              "==============================================================================\n",
              "                 coef    std err          z      P>|z|      [0.025      0.975]\n",
              "------------------------------------------------------------------------------\n",
              "Intercept     -2.7419      0.102    -26.964      0.000      -2.941      -2.543\n",
              "rank           0.0049      0.003      1.645      0.100      -0.001       0.011\n",
              "==============================================================================\n",
              "\"\"\""
            ]
          },
          "metadata": {
            "tags": []
          },
          "execution_count": 33
        }
      ]
    },
    {
      "cell_type": "code",
      "metadata": {
        "id": "8NIBqrocIkOb",
        "colab_type": "code",
        "outputId": "fd6176dd-a4c6-4d60-9343-91b5f8429dc8",
        "colab": {
          "base_uri": "https://localhost:8080/",
          "height": 299
        }
      },
      "source": [
        "from patsy import dmatrices\n",
        "\n",
        "y_econ, X_rank = dmatrices(\"econ ~ rank\", data_with_dummies, return_type = \"dataframe\")\n",
        "\n",
        "econ_regression = sm.Logit(y_econ, X_rank)\n",
        "econ_regression.fit().summary()"
      ],
      "execution_count": 34,
      "outputs": [
        {
          "output_type": "stream",
          "text": [
            "Optimization terminated successfully.\n",
            "         Current function value: 0.675846\n",
            "         Iterations 4\n"
          ],
          "name": "stdout"
        },
        {
          "output_type": "execute_result",
          "data": {
            "text/html": [
              "<table class=\"simpletable\">\n",
              "<caption>Logit Regression Results</caption>\n",
              "<tr>\n",
              "  <th>Dep. Variable:</th>         <td>econ</td>       <th>  No. Observations:  </th>  <td>  3427</td>  \n",
              "</tr>\n",
              "<tr>\n",
              "  <th>Model:</th>                 <td>Logit</td>      <th>  Df Residuals:      </th>  <td>  3425</td>  \n",
              "</tr>\n",
              "<tr>\n",
              "  <th>Method:</th>                 <td>MLE</td>       <th>  Df Model:          </th>  <td>     1</td>  \n",
              "</tr>\n",
              "<tr>\n",
              "  <th>Date:</th>            <td>Mon, 18 May 2020</td> <th>  Pseudo R-squ.:     </th> <td>0.0002129</td>\n",
              "</tr>\n",
              "<tr>\n",
              "  <th>Time:</th>                <td>04:57:29</td>     <th>  Log-Likelihood:    </th> <td> -2316.1</td> \n",
              "</tr>\n",
              "<tr>\n",
              "  <th>converged:</th>             <td>True</td>       <th>  LL-Null:           </th> <td> -2316.6</td> \n",
              "</tr>\n",
              "<tr>\n",
              "  <th>Covariance Type:</th>     <td>nonrobust</td>    <th>  LLR p-value:       </th>  <td>0.3206</td>  \n",
              "</tr>\n",
              "</table>\n",
              "<table class=\"simpletable\">\n",
              "<tr>\n",
              "      <td></td>         <th>coef</th>     <th>std err</th>      <th>z</th>      <th>P>|z|</th>  <th>[0.025</th>    <th>0.975]</th>  \n",
              "</tr>\n",
              "<tr>\n",
              "  <th>Intercept</th> <td>    0.3355</td> <td>    0.052</td> <td>    6.477</td> <td> 0.000</td> <td>    0.234</td> <td>    0.437</td>\n",
              "</tr>\n",
              "<tr>\n",
              "  <th>rank</th>      <td>    0.0016</td> <td>    0.002</td> <td>    0.991</td> <td> 0.322</td> <td>   -0.002</td> <td>    0.005</td>\n",
              "</tr>\n",
              "</table>"
            ],
            "text/plain": [
              "<class 'statsmodels.iolib.summary.Summary'>\n",
              "\"\"\"\n",
              "                           Logit Regression Results                           \n",
              "==============================================================================\n",
              "Dep. Variable:                   econ   No. Observations:                 3427\n",
              "Model:                          Logit   Df Residuals:                     3425\n",
              "Method:                           MLE   Df Model:                            1\n",
              "Date:                Mon, 18 May 2020   Pseudo R-squ.:               0.0002129\n",
              "Time:                        04:57:29   Log-Likelihood:                -2316.1\n",
              "converged:                       True   LL-Null:                       -2316.6\n",
              "Covariance Type:            nonrobust   LLR p-value:                    0.3206\n",
              "==============================================================================\n",
              "                 coef    std err          z      P>|z|      [0.025      0.975]\n",
              "------------------------------------------------------------------------------\n",
              "Intercept      0.3355      0.052      6.477      0.000       0.234       0.437\n",
              "rank           0.0016      0.002      0.991      0.322      -0.002       0.005\n",
              "==============================================================================\n",
              "\"\"\""
            ]
          },
          "metadata": {
            "tags": []
          },
          "execution_count": 34
        }
      ]
    },
    {
      "cell_type": "code",
      "metadata": {
        "id": "r_2u51HVIm4V",
        "colab_type": "code",
        "outputId": "309491fc-ee7b-4038-d71f-af2336ff90c6",
        "colab": {
          "base_uri": "https://localhost:8080/",
          "height": 299
        }
      },
      "source": [
        "from patsy import dmatrices\n",
        "\n",
        "y_academia, X_rank = dmatrices(\"academia ~ rank\", data_with_dummies, return_type = \"dataframe\")\n",
        "\n",
        "academia_regression = sm.Logit(y_academia, X_rank)\n",
        "academia_regression.fit().summary()"
      ],
      "execution_count": 35,
      "outputs": [
        {
          "output_type": "stream",
          "text": [
            "Optimization terminated successfully.\n",
            "         Current function value: 0.529936\n",
            "         Iterations 5\n"
          ],
          "name": "stdout"
        },
        {
          "output_type": "execute_result",
          "data": {
            "text/html": [
              "<table class=\"simpletable\">\n",
              "<caption>Logit Regression Results</caption>\n",
              "<tr>\n",
              "  <th>Dep. Variable:</th>       <td>academia</td>     <th>  No. Observations:  </th>  <td>  3427</td>  \n",
              "</tr>\n",
              "<tr>\n",
              "  <th>Model:</th>                 <td>Logit</td>      <th>  Df Residuals:      </th>  <td>  3425</td>  \n",
              "</tr>\n",
              "<tr>\n",
              "  <th>Method:</th>                 <td>MLE</td>       <th>  Df Model:          </th>  <td>     1</td>  \n",
              "</tr>\n",
              "<tr>\n",
              "  <th>Date:</th>            <td>Mon, 18 May 2020</td> <th>  Pseudo R-squ.:     </th> <td>0.0005607</td>\n",
              "</tr>\n",
              "<tr>\n",
              "  <th>Time:</th>                <td>04:57:29</td>     <th>  Log-Likelihood:    </th> <td> -1816.1</td> \n",
              "</tr>\n",
              "<tr>\n",
              "  <th>converged:</th>             <td>True</td>       <th>  LL-Null:           </th> <td> -1817.1</td> \n",
              "</tr>\n",
              "<tr>\n",
              "  <th>Covariance Type:</th>     <td>nonrobust</td>    <th>  LLR p-value:       </th>  <td>0.1534</td>  \n",
              "</tr>\n",
              "</table>\n",
              "<table class=\"simpletable\">\n",
              "<tr>\n",
              "      <td></td>         <th>coef</th>     <th>std err</th>      <th>z</th>      <th>P>|z|</th>  <th>[0.025</th>    <th>0.975]</th>  \n",
              "</tr>\n",
              "<tr>\n",
              "  <th>Intercept</th> <td>    1.1852</td> <td>    0.061</td> <td>   19.362</td> <td> 0.000</td> <td>    1.065</td> <td>    1.305</td>\n",
              "</tr>\n",
              "<tr>\n",
              "  <th>rank</th>      <td>    0.0028</td> <td>    0.002</td> <td>    1.412</td> <td> 0.158</td> <td>   -0.001</td> <td>    0.007</td>\n",
              "</tr>\n",
              "</table>"
            ],
            "text/plain": [
              "<class 'statsmodels.iolib.summary.Summary'>\n",
              "\"\"\"\n",
              "                           Logit Regression Results                           \n",
              "==============================================================================\n",
              "Dep. Variable:               academia   No. Observations:                 3427\n",
              "Model:                          Logit   Df Residuals:                     3425\n",
              "Method:                           MLE   Df Model:                            1\n",
              "Date:                Mon, 18 May 2020   Pseudo R-squ.:               0.0005607\n",
              "Time:                        04:57:29   Log-Likelihood:                -1816.1\n",
              "converged:                       True   LL-Null:                       -1817.1\n",
              "Covariance Type:            nonrobust   LLR p-value:                    0.1534\n",
              "==============================================================================\n",
              "                 coef    std err          z      P>|z|      [0.025      0.975]\n",
              "------------------------------------------------------------------------------\n",
              "Intercept      1.1852      0.061     19.362      0.000       1.065       1.305\n",
              "rank           0.0028      0.002      1.412      0.158      -0.001       0.007\n",
              "==============================================================================\n",
              "\"\"\""
            ]
          },
          "metadata": {
            "tags": []
          },
          "execution_count": 35
        }
      ]
    },
    {
      "cell_type": "code",
      "metadata": {
        "id": "jWU4XHdLIr04",
        "colab_type": "code",
        "outputId": "18b5f1f3-8100-4c2c-8fd7-bc355830606d",
        "colab": {
          "base_uri": "https://localhost:8080/",
          "height": 299
        }
      },
      "source": [
        "from patsy import dmatrices\n",
        "\n",
        "y_priv, X_rank = dmatrices(\"priv ~ rank\", data_with_dummies, return_type = \"dataframe\")\n",
        "\n",
        "priv_regression = sm.Logit(y_econ, X_rank)\n",
        "priv_regression.fit().summary()"
      ],
      "execution_count": 36,
      "outputs": [
        {
          "output_type": "stream",
          "text": [
            "Optimization terminated successfully.\n",
            "         Current function value: 0.430005\n",
            "         Iterations 6\n"
          ],
          "name": "stdout"
        },
        {
          "output_type": "execute_result",
          "data": {
            "text/html": [
              "<table class=\"simpletable\">\n",
              "<caption>Logit Regression Results</caption>\n",
              "<tr>\n",
              "  <th>Dep. Variable:</th>         <td>priv</td>       <th>  No. Observations:  </th>  <td>  3427</td> \n",
              "</tr>\n",
              "<tr>\n",
              "  <th>Model:</th>                 <td>Logit</td>      <th>  Df Residuals:      </th>  <td>  3425</td> \n",
              "</tr>\n",
              "<tr>\n",
              "  <th>Method:</th>                 <td>MLE</td>       <th>  Df Model:          </th>  <td>     1</td> \n",
              "</tr>\n",
              "<tr>\n",
              "  <th>Date:</th>            <td>Mon, 18 May 2020</td> <th>  Pseudo R-squ.:     </th> <td>0.002755</td>\n",
              "</tr>\n",
              "<tr>\n",
              "  <th>Time:</th>                <td>04:57:30</td>     <th>  Log-Likelihood:    </th> <td> -1473.6</td>\n",
              "</tr>\n",
              "<tr>\n",
              "  <th>converged:</th>             <td>True</td>       <th>  LL-Null:           </th> <td> -1477.7</td>\n",
              "</tr>\n",
              "<tr>\n",
              "  <th>Covariance Type:</th>     <td>nonrobust</td>    <th>  LLR p-value:       </th> <td>0.004326</td>\n",
              "</tr>\n",
              "</table>\n",
              "<table class=\"simpletable\">\n",
              "<tr>\n",
              "      <td></td>         <th>coef</th>     <th>std err</th>      <th>z</th>      <th>P>|z|</th>  <th>[0.025</th>    <th>0.975]</th>  \n",
              "</tr>\n",
              "<tr>\n",
              "  <th>Intercept</th> <td>   -1.5449</td> <td>    0.071</td> <td>  -21.869</td> <td> 0.000</td> <td>   -1.683</td> <td>   -1.406</td>\n",
              "</tr>\n",
              "<tr>\n",
              "  <th>rank</th>      <td>   -0.0067</td> <td>    0.002</td> <td>   -2.759</td> <td> 0.006</td> <td>   -0.012</td> <td>   -0.002</td>\n",
              "</tr>\n",
              "</table>"
            ],
            "text/plain": [
              "<class 'statsmodels.iolib.summary.Summary'>\n",
              "\"\"\"\n",
              "                           Logit Regression Results                           \n",
              "==============================================================================\n",
              "Dep. Variable:                   priv   No. Observations:                 3427\n",
              "Model:                          Logit   Df Residuals:                     3425\n",
              "Method:                           MLE   Df Model:                            1\n",
              "Date:                Mon, 18 May 2020   Pseudo R-squ.:                0.002755\n",
              "Time:                        04:57:30   Log-Likelihood:                -1473.6\n",
              "converged:                       True   LL-Null:                       -1477.7\n",
              "Covariance Type:            nonrobust   LLR p-value:                  0.004326\n",
              "==============================================================================\n",
              "                 coef    std err          z      P>|z|      [0.025      0.975]\n",
              "------------------------------------------------------------------------------\n",
              "Intercept     -1.5449      0.071    -21.869      0.000      -1.683      -1.406\n",
              "rank          -0.0067      0.002     -2.759      0.006      -0.012      -0.002\n",
              "==============================================================================\n",
              "\"\"\""
            ]
          },
          "metadata": {
            "tags": []
          },
          "execution_count": 36
        }
      ]
    },
    {
      "cell_type": "code",
      "metadata": {
        "id": "GCCY9daZIvNc",
        "colab_type": "code",
        "colab": {}
      },
      "source": [
        "import string \n",
        "\n",
        "#create dummies for applicants primary fields\n",
        "#dummy variable trap\n",
        "data_dummies_appfie = pd.get_dummies(inst_data[\"name\"], drop_first = True)\n",
        "\n",
        "#rename columns that may cause issues with regression\n",
        "foo = pd.Series(data_dummies_appfie.columns.str.lower())\n",
        "\n",
        "for i in foo.index:\n",
        "  foo[i] = foo[i].translate(str.maketrans(\"\", \"\", string.punctuation)) #strips punctutation\n",
        "  foo[i] = foo[i].replace(\" \", \"_\") #replace space with underscore\n",
        "\n",
        "appfie_col = pd.Series(data_dummies_appfie.columns)\n",
        "appfie_dict = pd.concat([foo, appfie_col], axis = 1)\n",
        "appfie_dict = dict(zip(appfie_dict[1], appfie_dict[0]))\n",
        "\n",
        "data_dummies_appfie = data_dummies_appfie.rename(columns = appfie_dict)\n"
      ],
      "execution_count": 0,
      "outputs": []
    },
    {
      "cell_type": "code",
      "metadata": {
        "id": "cmFVmE6RUuEY",
        "colab_type": "code",
        "colab": {
          "base_uri": "https://localhost:8080/",
          "height": 54
        },
        "outputId": "b4ee1ad4-b8f7-4cd3-8549-9ba99266f48b"
      },
      "source": [
        "app_fields_ser = pd.Series(foo)\n",
        "app_fields_ser.str.cat(sep=\" + \")"
      ],
      "execution_count": 168,
      "outputs": [
        {
          "output_type": "execute_result",
          "data": {
            "text/plain": [
              "'any_field + behavioral_economics + business_economics + computational_economics + decision_sciences + development_growth + econometrics + economic_history + environmental_ag_econ + experimental_economics + finance + health_education_welfare + industrial_organization + insurance + international_financemacro + international_trade + labor_demographic_economics + law_and_economics + macroeconomics_monetary + management_general + management_information_technology + marketing + microeconomics + operations_research + organizational_behavior + other + political_economy + public_economics + real_estate + statistics + theory + urban_rural_regional_economics'"
            ]
          },
          "metadata": {
            "tags": []
          },
          "execution_count": 168
        }
      ]
    },
    {
      "cell_type": "code",
      "metadata": {
        "id": "zJTWnM4-KlXP",
        "colab_type": "code",
        "colab": {
          "base_uri": "https://localhost:8080/",
          "height": 207
        },
        "outputId": "faa2f620-8e35-428c-afd8-060973efb13e"
      },
      "source": [
        "data_with_dummies = pd.concat([inst_data, data_dummies_rectype, data_dummies_appfie], axis = 1)\n",
        "data_with_dummies = data_with_dummies.rename(columns = {\"Government agency or commission\": \"govt\", \"Academic organization (economics department)\": \"econ\", \"Academic organization (agricultural/resource economics department)\": \"ag_econ\", \"Academic organization (business school)\": \"bsns\", \"Academic organization (other than econ, business, or ag econ)\": \"ac_othr\", \"Private business or organization; Other type of organization\": \"priv\"})\n",
        "\n",
        "data_with_dummies[\"academia\"] = 0\n",
        "\n",
        "for i in data_with_dummies.index:\n",
        "    if data_with_dummies.econ[i] == 1 or data_with_dummies.bsns[i] == 1 or data_with_dummies.ac_othr[i] == 1 or data_with_dummies.ag_econ[i] == 1:\n",
        "      data_with_dummies.academia[i] = 1\n",
        "    else:\n",
        "      data_with_dummies.academia[i] = 0"
      ],
      "execution_count": 180,
      "outputs": [
        {
          "output_type": "stream",
          "text": [
            "/usr/local/lib/python3.6/dist-packages/ipykernel_launcher.py:8: SettingWithCopyWarning: \n",
            "A value is trying to be set on a copy of a slice from a DataFrame\n",
            "\n",
            "See the caveats in the documentation: https://pandas.pydata.org/pandas-docs/stable/user_guide/indexing.html#returning-a-view-versus-a-copy\n",
            "  \n",
            "/usr/local/lib/python3.6/dist-packages/ipykernel_launcher.py:10: SettingWithCopyWarning: \n",
            "A value is trying to be set on a copy of a slice from a DataFrame\n",
            "\n",
            "See the caveats in the documentation: https://pandas.pydata.org/pandas-docs/stable/user_guide/indexing.html#returning-a-view-versus-a-copy\n",
            "  # Remove the CWD from sys.path while we load stuff.\n"
          ],
          "name": "stderr"
        }
      ]
    },
    {
      "cell_type": "code",
      "metadata": {
        "id": "d5PY36VCKy89",
        "colab_type": "code",
        "colab": {
          "base_uri": "https://localhost:8080/",
          "height": 1000
        },
        "outputId": "6e2c29b2-314c-4315-9e86-d7e2f3a3b2a5"
      },
      "source": [
        "from patsy import dmatrices\n",
        "\n",
        "y_govt, X_rank = dmatrices(\"govt ~ rank + \" + app_fields_ser.str.cat(sep=\" + \"), data_with_dummies, return_type = \"dataframe\")\n",
        "\n",
        "govt_regression = sm.Logit(y_govt, X_rank)\n",
        "govt_regression.fit().summary()"
      ],
      "execution_count": 181,
      "outputs": [
        {
          "output_type": "stream",
          "text": [
            "Warning: Maximum number of iterations has been exceeded.\n",
            "         Current function value: 0.229502\n",
            "         Iterations: 35\n"
          ],
          "name": "stdout"
        },
        {
          "output_type": "stream",
          "text": [
            "/usr/local/lib/python3.6/dist-packages/statsmodels/base/model.py:512: ConvergenceWarning: Maximum Likelihood optimization failed to converge. Check mle_retvals\n",
            "  \"Check mle_retvals\", ConvergenceWarning)\n"
          ],
          "name": "stderr"
        },
        {
          "output_type": "execute_result",
          "data": {
            "text/html": [
              "<table class=\"simpletable\">\n",
              "<caption>Logit Regression Results</caption>\n",
              "<tr>\n",
              "  <th>Dep. Variable:</th>         <td>govt</td>       <th>  No. Observations:  </th>  <td>  3427</td>  \n",
              "</tr>\n",
              "<tr>\n",
              "  <th>Model:</th>                 <td>Logit</td>      <th>  Df Residuals:      </th>  <td>  3393</td>  \n",
              "</tr>\n",
              "<tr>\n",
              "  <th>Method:</th>                 <td>MLE</td>       <th>  Df Model:          </th>  <td>    33</td>  \n",
              "</tr>\n",
              "<tr>\n",
              "  <th>Date:</th>            <td>Mon, 18 May 2020</td> <th>  Pseudo R-squ.:     </th>  <td>0.07325</td> \n",
              "</tr>\n",
              "<tr>\n",
              "  <th>Time:</th>                <td>05:57:27</td>     <th>  Log-Likelihood:    </th> <td> -786.50</td> \n",
              "</tr>\n",
              "<tr>\n",
              "  <th>converged:</th>             <td>False</td>      <th>  LL-Null:           </th> <td> -848.67</td> \n",
              "</tr>\n",
              "<tr>\n",
              "  <th>Covariance Type:</th>     <td>nonrobust</td>    <th>  LLR p-value:       </th> <td>1.615e-12</td>\n",
              "</tr>\n",
              "</table>\n",
              "<table class=\"simpletable\">\n",
              "<tr>\n",
              "                  <td></td>                     <th>coef</th>     <th>std err</th>      <th>z</th>      <th>P>|z|</th>  <th>[0.025</th>    <th>0.975]</th>  \n",
              "</tr>\n",
              "<tr>\n",
              "  <th>Intercept</th>                         <td>  -20.8852</td> <td> 7224.096</td> <td>   -0.003</td> <td> 0.998</td> <td>-1.42e+04</td> <td> 1.41e+04</td>\n",
              "</tr>\n",
              "<tr>\n",
              "  <th>rank</th>                              <td>    0.0057</td> <td>    0.003</td> <td>    1.888</td> <td> 0.059</td> <td>   -0.000</td> <td>    0.012</td>\n",
              "</tr>\n",
              "<tr>\n",
              "  <th>any_field</th>                         <td>   -9.6822</td> <td> 5.47e+05</td> <td>-1.77e-05</td> <td> 1.000</td> <td>-1.07e+06</td> <td> 1.07e+06</td>\n",
              "</tr>\n",
              "<tr>\n",
              "  <th>behavioral_economics</th>              <td>   16.3690</td> <td> 7224.096</td> <td>    0.002</td> <td> 0.998</td> <td>-1.41e+04</td> <td> 1.42e+04</td>\n",
              "</tr>\n",
              "<tr>\n",
              "  <th>business_economics</th>                <td>   17.9282</td> <td> 7224.096</td> <td>    0.002</td> <td> 0.998</td> <td>-1.41e+04</td> <td> 1.42e+04</td>\n",
              "</tr>\n",
              "<tr>\n",
              "  <th>computational_economics</th>           <td>   -2.4888</td> <td> 1.11e+05</td> <td>-2.24e-05</td> <td> 1.000</td> <td>-2.18e+05</td> <td> 2.18e+05</td>\n",
              "</tr>\n",
              "<tr>\n",
              "  <th>decision_sciences</th>                 <td>  -24.4522</td> <td> 2.93e+09</td> <td>-8.33e-09</td> <td> 1.000</td> <td>-5.75e+09</td> <td> 5.75e+09</td>\n",
              "</tr>\n",
              "<tr>\n",
              "  <th>development_growth</th>                <td>   17.2906</td> <td> 7224.096</td> <td>    0.002</td> <td> 0.998</td> <td>-1.41e+04</td> <td> 1.42e+04</td>\n",
              "</tr>\n",
              "<tr>\n",
              "  <th>econometrics</th>                      <td>   17.1425</td> <td> 7224.096</td> <td>    0.002</td> <td> 0.998</td> <td>-1.41e+04</td> <td> 1.42e+04</td>\n",
              "</tr>\n",
              "<tr>\n",
              "  <th>economic_history</th>                  <td>   16.9633</td> <td> 7224.096</td> <td>    0.002</td> <td> 0.998</td> <td>-1.41e+04</td> <td> 1.42e+04</td>\n",
              "</tr>\n",
              "<tr>\n",
              "  <th>environmental_ag_econ</th>             <td>   17.8583</td> <td> 7224.096</td> <td>    0.002</td> <td> 0.998</td> <td>-1.41e+04</td> <td> 1.42e+04</td>\n",
              "</tr>\n",
              "<tr>\n",
              "  <th>experimental_economics</th>            <td>   16.6242</td> <td> 7224.096</td> <td>    0.002</td> <td> 0.998</td> <td>-1.41e+04</td> <td> 1.42e+04</td>\n",
              "</tr>\n",
              "<tr>\n",
              "  <th>finance</th>                           <td>   18.4443</td> <td> 7224.096</td> <td>    0.003</td> <td> 0.998</td> <td>-1.41e+04</td> <td> 1.42e+04</td>\n",
              "</tr>\n",
              "<tr>\n",
              "  <th>health_education_welfare</th>          <td>   17.8483</td> <td> 7224.096</td> <td>    0.002</td> <td> 0.998</td> <td>-1.41e+04</td> <td> 1.42e+04</td>\n",
              "</tr>\n",
              "<tr>\n",
              "  <th>industrial_organization</th>           <td>   18.3821</td> <td> 7224.096</td> <td>    0.003</td> <td> 0.998</td> <td>-1.41e+04</td> <td> 1.42e+04</td>\n",
              "</tr>\n",
              "<tr>\n",
              "  <th>insurance</th>                         <td>  -10.0673</td> <td> 3.35e+06</td> <td>   -3e-06</td> <td> 1.000</td> <td>-6.57e+06</td> <td> 6.57e+06</td>\n",
              "</tr>\n",
              "<tr>\n",
              "  <th>international_financemacro</th>        <td>   18.6616</td> <td> 7224.096</td> <td>    0.003</td> <td> 0.998</td> <td>-1.41e+04</td> <td> 1.42e+04</td>\n",
              "</tr>\n",
              "<tr>\n",
              "  <th>international_trade</th>               <td>   17.5066</td> <td> 7224.096</td> <td>    0.002</td> <td> 0.998</td> <td>-1.41e+04</td> <td> 1.42e+04</td>\n",
              "</tr>\n",
              "<tr>\n",
              "  <th>labor_demographic_economics</th>       <td>   18.0323</td> <td> 7224.096</td> <td>    0.002</td> <td> 0.998</td> <td>-1.41e+04</td> <td> 1.42e+04</td>\n",
              "</tr>\n",
              "<tr>\n",
              "  <th>law_and_economics</th>                 <td>   19.6331</td> <td> 7224.096</td> <td>    0.003</td> <td> 0.998</td> <td>-1.41e+04</td> <td> 1.42e+04</td>\n",
              "</tr>\n",
              "<tr>\n",
              "  <th>macroeconomics_monetary</th>           <td>   19.0929</td> <td> 7224.096</td> <td>    0.003</td> <td> 0.998</td> <td>-1.41e+04</td> <td> 1.42e+04</td>\n",
              "</tr>\n",
              "<tr>\n",
              "  <th>management_general</th>                <td>   -6.8975</td> <td> 2.49e+05</td> <td>-2.77e-05</td> <td> 1.000</td> <td>-4.89e+05</td> <td> 4.89e+05</td>\n",
              "</tr>\n",
              "<tr>\n",
              "  <th>management_information_technology</th> <td>   -2.4313</td> <td> 1.11e+05</td> <td>-2.18e-05</td> <td> 1.000</td> <td>-2.18e+05</td> <td> 2.18e+05</td>\n",
              "</tr>\n",
              "<tr>\n",
              "  <th>marketing</th>                         <td>   -1.1562</td> <td>  3.3e+04</td> <td>-3.51e-05</td> <td> 1.000</td> <td>-6.46e+04</td> <td> 6.46e+04</td>\n",
              "</tr>\n",
              "<tr>\n",
              "  <th>microeconomics</th>                    <td>   17.7134</td> <td> 7224.096</td> <td>    0.002</td> <td> 0.998</td> <td>-1.41e+04</td> <td> 1.42e+04</td>\n",
              "</tr>\n",
              "<tr>\n",
              "  <th>operations_research</th>               <td>    3.5397</td> <td> 7894.753</td> <td>    0.000</td> <td> 1.000</td> <td>-1.55e+04</td> <td> 1.55e+04</td>\n",
              "</tr>\n",
              "<tr>\n",
              "  <th>organizational_behavior</th>           <td>   -9.9427</td> <td> 3.36e+06</td> <td>-2.96e-06</td> <td> 1.000</td> <td>-6.58e+06</td> <td> 6.58e+06</td>\n",
              "</tr>\n",
              "<tr>\n",
              "  <th>other</th>                             <td>  -24.3559</td> <td> 2.81e+09</td> <td>-8.66e-09</td> <td> 1.000</td> <td>-5.51e+09</td> <td> 5.51e+09</td>\n",
              "</tr>\n",
              "<tr>\n",
              "  <th>political_economy</th>                 <td>   16.6877</td> <td> 7224.096</td> <td>    0.002</td> <td> 0.998</td> <td>-1.41e+04</td> <td> 1.42e+04</td>\n",
              "</tr>\n",
              "<tr>\n",
              "  <th>public_economics</th>                  <td>   18.6480</td> <td> 7224.096</td> <td>    0.003</td> <td> 0.998</td> <td>-1.41e+04</td> <td> 1.42e+04</td>\n",
              "</tr>\n",
              "<tr>\n",
              "  <th>real_estate</th>                       <td>   -1.5262</td> <td> 2.04e+04</td> <td>-7.49e-05</td> <td> 1.000</td> <td>-3.99e+04</td> <td> 3.99e+04</td>\n",
              "</tr>\n",
              "<tr>\n",
              "  <th>statistics</th>                        <td>  -26.9430</td> <td> 9.95e+09</td> <td>-2.71e-09</td> <td> 1.000</td> <td>-1.95e+10</td> <td> 1.95e+10</td>\n",
              "</tr>\n",
              "<tr>\n",
              "  <th>theory</th>                            <td>   16.1062</td> <td> 7224.096</td> <td>    0.002</td> <td> 0.998</td> <td>-1.41e+04</td> <td> 1.42e+04</td>\n",
              "</tr>\n",
              "<tr>\n",
              "  <th>urban_rural_regional_economics</th>    <td>   17.5206</td> <td> 7224.096</td> <td>    0.002</td> <td> 0.998</td> <td>-1.41e+04</td> <td> 1.42e+04</td>\n",
              "</tr>\n",
              "</table>"
            ],
            "text/plain": [
              "<class 'statsmodels.iolib.summary.Summary'>\n",
              "\"\"\"\n",
              "                           Logit Regression Results                           \n",
              "==============================================================================\n",
              "Dep. Variable:                   govt   No. Observations:                 3427\n",
              "Model:                          Logit   Df Residuals:                     3393\n",
              "Method:                           MLE   Df Model:                           33\n",
              "Date:                Mon, 18 May 2020   Pseudo R-squ.:                 0.07325\n",
              "Time:                        05:57:27   Log-Likelihood:                -786.50\n",
              "converged:                      False   LL-Null:                       -848.67\n",
              "Covariance Type:            nonrobust   LLR p-value:                 1.615e-12\n",
              "=====================================================================================================\n",
              "                                        coef    std err          z      P>|z|      [0.025      0.975]\n",
              "-----------------------------------------------------------------------------------------------------\n",
              "Intercept                           -20.8852   7224.096     -0.003      0.998   -1.42e+04    1.41e+04\n",
              "rank                                  0.0057      0.003      1.888      0.059      -0.000       0.012\n",
              "any_field                            -9.6822   5.47e+05  -1.77e-05      1.000   -1.07e+06    1.07e+06\n",
              "behavioral_economics                 16.3690   7224.096      0.002      0.998   -1.41e+04    1.42e+04\n",
              "business_economics                   17.9282   7224.096      0.002      0.998   -1.41e+04    1.42e+04\n",
              "computational_economics              -2.4888   1.11e+05  -2.24e-05      1.000   -2.18e+05    2.18e+05\n",
              "decision_sciences                   -24.4522   2.93e+09  -8.33e-09      1.000   -5.75e+09    5.75e+09\n",
              "development_growth                   17.2906   7224.096      0.002      0.998   -1.41e+04    1.42e+04\n",
              "econometrics                         17.1425   7224.096      0.002      0.998   -1.41e+04    1.42e+04\n",
              "economic_history                     16.9633   7224.096      0.002      0.998   -1.41e+04    1.42e+04\n",
              "environmental_ag_econ                17.8583   7224.096      0.002      0.998   -1.41e+04    1.42e+04\n",
              "experimental_economics               16.6242   7224.096      0.002      0.998   -1.41e+04    1.42e+04\n",
              "finance                              18.4443   7224.096      0.003      0.998   -1.41e+04    1.42e+04\n",
              "health_education_welfare             17.8483   7224.096      0.002      0.998   -1.41e+04    1.42e+04\n",
              "industrial_organization              18.3821   7224.096      0.003      0.998   -1.41e+04    1.42e+04\n",
              "insurance                           -10.0673   3.35e+06     -3e-06      1.000   -6.57e+06    6.57e+06\n",
              "international_financemacro           18.6616   7224.096      0.003      0.998   -1.41e+04    1.42e+04\n",
              "international_trade                  17.5066   7224.096      0.002      0.998   -1.41e+04    1.42e+04\n",
              "labor_demographic_economics          18.0323   7224.096      0.002      0.998   -1.41e+04    1.42e+04\n",
              "law_and_economics                    19.6331   7224.096      0.003      0.998   -1.41e+04    1.42e+04\n",
              "macroeconomics_monetary              19.0929   7224.096      0.003      0.998   -1.41e+04    1.42e+04\n",
              "management_general                   -6.8975   2.49e+05  -2.77e-05      1.000   -4.89e+05    4.89e+05\n",
              "management_information_technology    -2.4313   1.11e+05  -2.18e-05      1.000   -2.18e+05    2.18e+05\n",
              "marketing                            -1.1562    3.3e+04  -3.51e-05      1.000   -6.46e+04    6.46e+04\n",
              "microeconomics                       17.7134   7224.096      0.002      0.998   -1.41e+04    1.42e+04\n",
              "operations_research                   3.5397   7894.753      0.000      1.000   -1.55e+04    1.55e+04\n",
              "organizational_behavior              -9.9427   3.36e+06  -2.96e-06      1.000   -6.58e+06    6.58e+06\n",
              "other                               -24.3559   2.81e+09  -8.66e-09      1.000   -5.51e+09    5.51e+09\n",
              "political_economy                    16.6877   7224.096      0.002      0.998   -1.41e+04    1.42e+04\n",
              "public_economics                     18.6480   7224.096      0.003      0.998   -1.41e+04    1.42e+04\n",
              "real_estate                          -1.5262   2.04e+04  -7.49e-05      1.000   -3.99e+04    3.99e+04\n",
              "statistics                          -26.9430   9.95e+09  -2.71e-09      1.000   -1.95e+10    1.95e+10\n",
              "theory                               16.1062   7224.096      0.002      0.998   -1.41e+04    1.42e+04\n",
              "urban_rural_regional_economics       17.5206   7224.096      0.002      0.998   -1.41e+04    1.42e+04\n",
              "=====================================================================================================\n",
              "\"\"\""
            ]
          },
          "metadata": {
            "tags": []
          },
          "execution_count": 181
        }
      ]
    },
    {
      "cell_type": "code",
      "metadata": {
        "id": "3PT_a3JAJffr",
        "colab_type": "code",
        "colab": {
          "base_uri": "https://localhost:8080/",
          "height": 446
        },
        "outputId": "d56ce42e-0e7a-47f5-f500-a3e0f3c4d3d9"
      },
      "source": [
        "from patsy import dmatrices\n",
        "\n",
        "y_econ, X_rank = dmatrices(\"econ ~ rank + \" + app_fields_ser.str.cat(sep=\" + \"), data_with_dummies, return_type = \"dataframe\")\n",
        "\n",
        "econ_regression = sm.Logit(y_econ, X_rank)\n",
        "econ_regression.fit().summary()"
      ],
      "execution_count": 182,
      "outputs": [
        {
          "output_type": "stream",
          "text": [
            "Warning: Maximum number of iterations has been exceeded.\n",
            "         Current function value: 0.653948\n",
            "         Iterations: 35\n"
          ],
          "name": "stdout"
        },
        {
          "output_type": "error",
          "ename": "LinAlgError",
          "evalue": "ignored",
          "traceback": [
            "\u001b[0;31m---------------------------------------------------------------------------\u001b[0m",
            "\u001b[0;31mLinAlgError\u001b[0m                               Traceback (most recent call last)",
            "\u001b[0;32m<ipython-input-182-9845d4fc3b35>\u001b[0m in \u001b[0;36m<module>\u001b[0;34m()\u001b[0m\n\u001b[1;32m      4\u001b[0m \u001b[0;34m\u001b[0m\u001b[0m\n\u001b[1;32m      5\u001b[0m \u001b[0mecon_regression\u001b[0m \u001b[0;34m=\u001b[0m \u001b[0msm\u001b[0m\u001b[0;34m.\u001b[0m\u001b[0mLogit\u001b[0m\u001b[0;34m(\u001b[0m\u001b[0my_econ\u001b[0m\u001b[0;34m,\u001b[0m \u001b[0mX_rank\u001b[0m\u001b[0;34m)\u001b[0m\u001b[0;34m\u001b[0m\u001b[0;34m\u001b[0m\u001b[0m\n\u001b[0;32m----> 6\u001b[0;31m \u001b[0mecon_regression\u001b[0m\u001b[0;34m.\u001b[0m\u001b[0mfit\u001b[0m\u001b[0;34m(\u001b[0m\u001b[0;34m)\u001b[0m\u001b[0;34m.\u001b[0m\u001b[0msummary\u001b[0m\u001b[0;34m(\u001b[0m\u001b[0;34m)\u001b[0m\u001b[0;34m\u001b[0m\u001b[0;34m\u001b[0m\u001b[0m\n\u001b[0m",
            "\u001b[0;32m/usr/local/lib/python3.6/dist-packages/statsmodels/discrete/discrete_model.py\u001b[0m in \u001b[0;36mfit\u001b[0;34m(self, start_params, method, maxiter, full_output, disp, callback, **kwargs)\u001b[0m\n\u001b[1;32m   1900\u001b[0m         bnryfit = super(Logit, self).fit(start_params=start_params,\n\u001b[1;32m   1901\u001b[0m                 \u001b[0mmethod\u001b[0m\u001b[0;34m=\u001b[0m\u001b[0mmethod\u001b[0m\u001b[0;34m,\u001b[0m \u001b[0mmaxiter\u001b[0m\u001b[0;34m=\u001b[0m\u001b[0mmaxiter\u001b[0m\u001b[0;34m,\u001b[0m \u001b[0mfull_output\u001b[0m\u001b[0;34m=\u001b[0m\u001b[0mfull_output\u001b[0m\u001b[0;34m,\u001b[0m\u001b[0;34m\u001b[0m\u001b[0;34m\u001b[0m\u001b[0m\n\u001b[0;32m-> 1902\u001b[0;31m                 disp=disp, callback=callback, **kwargs)\n\u001b[0m\u001b[1;32m   1903\u001b[0m \u001b[0;34m\u001b[0m\u001b[0m\n\u001b[1;32m   1904\u001b[0m         \u001b[0mdiscretefit\u001b[0m \u001b[0;34m=\u001b[0m \u001b[0mLogitResults\u001b[0m\u001b[0;34m(\u001b[0m\u001b[0mself\u001b[0m\u001b[0;34m,\u001b[0m \u001b[0mbnryfit\u001b[0m\u001b[0;34m)\u001b[0m\u001b[0;34m\u001b[0m\u001b[0;34m\u001b[0m\u001b[0m\n",
            "\u001b[0;32m/usr/local/lib/python3.6/dist-packages/statsmodels/discrete/discrete_model.py\u001b[0m in \u001b[0;36mfit\u001b[0;34m(self, start_params, method, maxiter, full_output, disp, callback, **kwargs)\u001b[0m\n\u001b[1;32m    215\u001b[0m         mlefit = super(DiscreteModel, self).fit(start_params=start_params,\n\u001b[1;32m    216\u001b[0m                 \u001b[0mmethod\u001b[0m\u001b[0;34m=\u001b[0m\u001b[0mmethod\u001b[0m\u001b[0;34m,\u001b[0m \u001b[0mmaxiter\u001b[0m\u001b[0;34m=\u001b[0m\u001b[0mmaxiter\u001b[0m\u001b[0;34m,\u001b[0m \u001b[0mfull_output\u001b[0m\u001b[0;34m=\u001b[0m\u001b[0mfull_output\u001b[0m\u001b[0;34m,\u001b[0m\u001b[0;34m\u001b[0m\u001b[0;34m\u001b[0m\u001b[0m\n\u001b[0;32m--> 217\u001b[0;31m                 disp=disp, callback=callback, **kwargs)\n\u001b[0m\u001b[1;32m    218\u001b[0m \u001b[0;34m\u001b[0m\u001b[0m\n\u001b[1;32m    219\u001b[0m         \u001b[0;32mreturn\u001b[0m \u001b[0mmlefit\u001b[0m \u001b[0;31m# up to subclasses to wrap results\u001b[0m\u001b[0;34m\u001b[0m\u001b[0;34m\u001b[0m\u001b[0m\n",
            "\u001b[0;32m/usr/local/lib/python3.6/dist-packages/statsmodels/base/model.py\u001b[0m in \u001b[0;36mfit\u001b[0;34m(self, start_params, method, maxiter, full_output, disp, fargs, callback, retall, skip_hessian, **kwargs)\u001b[0m\n\u001b[1;32m    475\u001b[0m             \u001b[0mHinv\u001b[0m \u001b[0;34m=\u001b[0m \u001b[0mcov_params_func\u001b[0m\u001b[0;34m(\u001b[0m\u001b[0mself\u001b[0m\u001b[0;34m,\u001b[0m \u001b[0mxopt\u001b[0m\u001b[0;34m,\u001b[0m \u001b[0mretvals\u001b[0m\u001b[0;34m)\u001b[0m\u001b[0;34m\u001b[0m\u001b[0;34m\u001b[0m\u001b[0m\n\u001b[1;32m    476\u001b[0m         \u001b[0;32melif\u001b[0m \u001b[0mmethod\u001b[0m \u001b[0;34m==\u001b[0m \u001b[0;34m'newton'\u001b[0m \u001b[0;32mand\u001b[0m \u001b[0mfull_output\u001b[0m\u001b[0;34m:\u001b[0m\u001b[0;34m\u001b[0m\u001b[0;34m\u001b[0m\u001b[0m\n\u001b[0;32m--> 477\u001b[0;31m             \u001b[0mHinv\u001b[0m \u001b[0;34m=\u001b[0m \u001b[0mnp\u001b[0m\u001b[0;34m.\u001b[0m\u001b[0mlinalg\u001b[0m\u001b[0;34m.\u001b[0m\u001b[0minv\u001b[0m\u001b[0;34m(\u001b[0m\u001b[0;34m-\u001b[0m\u001b[0mretvals\u001b[0m\u001b[0;34m[\u001b[0m\u001b[0;34m'Hessian'\u001b[0m\u001b[0;34m]\u001b[0m\u001b[0;34m)\u001b[0m \u001b[0;34m/\u001b[0m \u001b[0mnobs\u001b[0m\u001b[0;34m\u001b[0m\u001b[0;34m\u001b[0m\u001b[0m\n\u001b[0m\u001b[1;32m    478\u001b[0m         \u001b[0;32melif\u001b[0m \u001b[0;32mnot\u001b[0m \u001b[0mskip_hessian\u001b[0m\u001b[0;34m:\u001b[0m\u001b[0;34m\u001b[0m\u001b[0;34m\u001b[0m\u001b[0m\n\u001b[1;32m    479\u001b[0m             \u001b[0mH\u001b[0m \u001b[0;34m=\u001b[0m \u001b[0;34m-\u001b[0m\u001b[0;36m1\u001b[0m \u001b[0;34m*\u001b[0m \u001b[0mself\u001b[0m\u001b[0;34m.\u001b[0m\u001b[0mhessian\u001b[0m\u001b[0;34m(\u001b[0m\u001b[0mxopt\u001b[0m\u001b[0;34m)\u001b[0m\u001b[0;34m\u001b[0m\u001b[0;34m\u001b[0m\u001b[0m\n",
            "\u001b[0;32m<__array_function__ internals>\u001b[0m in \u001b[0;36minv\u001b[0;34m(*args, **kwargs)\u001b[0m\n",
            "\u001b[0;32m/usr/local/lib/python3.6/dist-packages/numpy/linalg/linalg.py\u001b[0m in \u001b[0;36minv\u001b[0;34m(a)\u001b[0m\n\u001b[1;32m    545\u001b[0m     \u001b[0msignature\u001b[0m \u001b[0;34m=\u001b[0m \u001b[0;34m'D->D'\u001b[0m \u001b[0;32mif\u001b[0m \u001b[0misComplexType\u001b[0m\u001b[0;34m(\u001b[0m\u001b[0mt\u001b[0m\u001b[0;34m)\u001b[0m \u001b[0;32melse\u001b[0m \u001b[0;34m'd->d'\u001b[0m\u001b[0;34m\u001b[0m\u001b[0;34m\u001b[0m\u001b[0m\n\u001b[1;32m    546\u001b[0m     \u001b[0mextobj\u001b[0m \u001b[0;34m=\u001b[0m \u001b[0mget_linalg_error_extobj\u001b[0m\u001b[0;34m(\u001b[0m\u001b[0m_raise_linalgerror_singular\u001b[0m\u001b[0;34m)\u001b[0m\u001b[0;34m\u001b[0m\u001b[0;34m\u001b[0m\u001b[0m\n\u001b[0;32m--> 547\u001b[0;31m     \u001b[0mainv\u001b[0m \u001b[0;34m=\u001b[0m \u001b[0m_umath_linalg\u001b[0m\u001b[0;34m.\u001b[0m\u001b[0minv\u001b[0m\u001b[0;34m(\u001b[0m\u001b[0ma\u001b[0m\u001b[0;34m,\u001b[0m \u001b[0msignature\u001b[0m\u001b[0;34m=\u001b[0m\u001b[0msignature\u001b[0m\u001b[0;34m,\u001b[0m \u001b[0mextobj\u001b[0m\u001b[0;34m=\u001b[0m\u001b[0mextobj\u001b[0m\u001b[0;34m)\u001b[0m\u001b[0;34m\u001b[0m\u001b[0;34m\u001b[0m\u001b[0m\n\u001b[0m\u001b[1;32m    548\u001b[0m     \u001b[0;32mreturn\u001b[0m \u001b[0mwrap\u001b[0m\u001b[0;34m(\u001b[0m\u001b[0mainv\u001b[0m\u001b[0;34m.\u001b[0m\u001b[0mastype\u001b[0m\u001b[0;34m(\u001b[0m\u001b[0mresult_t\u001b[0m\u001b[0;34m,\u001b[0m \u001b[0mcopy\u001b[0m\u001b[0;34m=\u001b[0m\u001b[0;32mFalse\u001b[0m\u001b[0;34m)\u001b[0m\u001b[0;34m)\u001b[0m\u001b[0;34m\u001b[0m\u001b[0;34m\u001b[0m\u001b[0m\n\u001b[1;32m    549\u001b[0m \u001b[0;34m\u001b[0m\u001b[0m\n",
            "\u001b[0;32m/usr/local/lib/python3.6/dist-packages/numpy/linalg/linalg.py\u001b[0m in \u001b[0;36m_raise_linalgerror_singular\u001b[0;34m(err, flag)\u001b[0m\n\u001b[1;32m     95\u001b[0m \u001b[0;34m\u001b[0m\u001b[0m\n\u001b[1;32m     96\u001b[0m \u001b[0;32mdef\u001b[0m \u001b[0m_raise_linalgerror_singular\u001b[0m\u001b[0;34m(\u001b[0m\u001b[0merr\u001b[0m\u001b[0;34m,\u001b[0m \u001b[0mflag\u001b[0m\u001b[0;34m)\u001b[0m\u001b[0;34m:\u001b[0m\u001b[0;34m\u001b[0m\u001b[0;34m\u001b[0m\u001b[0m\n\u001b[0;32m---> 97\u001b[0;31m     \u001b[0;32mraise\u001b[0m \u001b[0mLinAlgError\u001b[0m\u001b[0;34m(\u001b[0m\u001b[0;34m\"Singular matrix\"\u001b[0m\u001b[0;34m)\u001b[0m\u001b[0;34m\u001b[0m\u001b[0;34m\u001b[0m\u001b[0m\n\u001b[0m\u001b[1;32m     98\u001b[0m \u001b[0;34m\u001b[0m\u001b[0m\n\u001b[1;32m     99\u001b[0m \u001b[0;32mdef\u001b[0m \u001b[0m_raise_linalgerror_nonposdef\u001b[0m\u001b[0;34m(\u001b[0m\u001b[0merr\u001b[0m\u001b[0;34m,\u001b[0m \u001b[0mflag\u001b[0m\u001b[0;34m)\u001b[0m\u001b[0;34m:\u001b[0m\u001b[0;34m\u001b[0m\u001b[0;34m\u001b[0m\u001b[0m\n",
            "\u001b[0;31mLinAlgError\u001b[0m: Singular matrix"
          ]
        }
      ]
    },
    {
      "cell_type": "code",
      "metadata": {
        "id": "ir2WB-FvVb3L",
        "colab_type": "code",
        "colab": {
          "base_uri": "https://localhost:8080/",
          "height": 1000
        },
        "outputId": "0e0ac081-c23a-4778-dacc-ae24534bacb2"
      },
      "source": [
        "from patsy import dmatrices\n",
        "\n",
        "y_academia, X_rank = dmatrices(\"academia ~ rank + \" + app_fields_ser.str.cat(sep=\" + \"), data_with_dummies, return_type = \"dataframe\")\n",
        "\n",
        "academia_regression = sm.Logit(y_academia, X_rank)\n",
        "academia_regression.fit().summary()"
      ],
      "execution_count": 183,
      "outputs": [
        {
          "output_type": "stream",
          "text": [
            "Warning: Maximum number of iterations has been exceeded.\n",
            "         Current function value: 0.508113\n",
            "         Iterations: 35\n"
          ],
          "name": "stdout"
        },
        {
          "output_type": "stream",
          "text": [
            "/usr/local/lib/python3.6/dist-packages/statsmodels/base/model.py:512: ConvergenceWarning: Maximum Likelihood optimization failed to converge. Check mle_retvals\n",
            "  \"Check mle_retvals\", ConvergenceWarning)\n"
          ],
          "name": "stderr"
        },
        {
          "output_type": "execute_result",
          "data": {
            "text/html": [
              "<table class=\"simpletable\">\n",
              "<caption>Logit Regression Results</caption>\n",
              "<tr>\n",
              "  <th>Dep. Variable:</th>       <td>academia</td>     <th>  No. Observations:  </th>  <td>  3427</td>  \n",
              "</tr>\n",
              "<tr>\n",
              "  <th>Model:</th>                 <td>Logit</td>      <th>  Df Residuals:      </th>  <td>  3393</td>  \n",
              "</tr>\n",
              "<tr>\n",
              "  <th>Method:</th>                 <td>MLE</td>       <th>  Df Model:          </th>  <td>    33</td>  \n",
              "</tr>\n",
              "<tr>\n",
              "  <th>Date:</th>            <td>Mon, 18 May 2020</td> <th>  Pseudo R-squ.:     </th>  <td>0.04172</td> \n",
              "</tr>\n",
              "<tr>\n",
              "  <th>Time:</th>                <td>05:57:27</td>     <th>  Log-Likelihood:    </th> <td> -1741.3</td> \n",
              "</tr>\n",
              "<tr>\n",
              "  <th>converged:</th>             <td>False</td>      <th>  LL-Null:           </th> <td> -1817.1</td> \n",
              "</tr>\n",
              "<tr>\n",
              "  <th>Covariance Type:</th>     <td>nonrobust</td>    <th>  LLR p-value:       </th> <td>3.938e-17</td>\n",
              "</tr>\n",
              "</table>\n",
              "<table class=\"simpletable\">\n",
              "<tr>\n",
              "                  <td></td>                     <th>coef</th>     <th>std err</th>      <th>z</th>      <th>P>|z|</th>  <th>[0.025</th>    <th>0.975]</th>  \n",
              "</tr>\n",
              "<tr>\n",
              "  <th>Intercept</th>                         <td>    2.8182</td> <td>    1.029</td> <td>    2.739</td> <td> 0.006</td> <td>    0.802</td> <td>    4.835</td>\n",
              "</tr>\n",
              "<tr>\n",
              "  <th>rank</th>                              <td>    0.0027</td> <td>    0.002</td> <td>    1.302</td> <td> 0.193</td> <td>   -0.001</td> <td>    0.007</td>\n",
              "</tr>\n",
              "<tr>\n",
              "  <th>any_field</th>                         <td>   -1.2262</td> <td>    1.097</td> <td>   -1.117</td> <td> 0.264</td> <td>   -3.377</td> <td>    0.925</td>\n",
              "</tr>\n",
              "<tr>\n",
              "  <th>behavioral_economics</th>              <td>   -0.7250</td> <td>    1.093</td> <td>   -0.663</td> <td> 0.507</td> <td>   -2.868</td> <td>    1.418</td>\n",
              "</tr>\n",
              "<tr>\n",
              "  <th>business_economics</th>                <td>   -0.7933</td> <td>    1.272</td> <td>   -0.624</td> <td> 0.533</td> <td>   -3.287</td> <td>    1.700</td>\n",
              "</tr>\n",
              "<tr>\n",
              "  <th>computational_economics</th>           <td>   14.5577</td> <td> 6124.206</td> <td>    0.002</td> <td> 0.998</td> <td> -1.2e+04</td> <td>  1.2e+04</td>\n",
              "</tr>\n",
              "<tr>\n",
              "  <th>decision_sciences</th>                 <td>   12.3309</td> <td>  896.964</td> <td>    0.014</td> <td> 0.989</td> <td>-1745.686</td> <td> 1770.348</td>\n",
              "</tr>\n",
              "<tr>\n",
              "  <th>development_growth</th>                <td>   -1.6367</td> <td>    1.037</td> <td>   -1.579</td> <td> 0.114</td> <td>   -3.669</td> <td>    0.395</td>\n",
              "</tr>\n",
              "<tr>\n",
              "  <th>econometrics</th>                      <td>   -0.8228</td> <td>    1.049</td> <td>   -0.784</td> <td> 0.433</td> <td>   -2.879</td> <td>    1.234</td>\n",
              "</tr>\n",
              "<tr>\n",
              "  <th>economic_history</th>                  <td>   -0.9380</td> <td>    1.117</td> <td>   -0.840</td> <td> 0.401</td> <td>   -3.127</td> <td>    1.251</td>\n",
              "</tr>\n",
              "<tr>\n",
              "  <th>environmental_ag_econ</th>             <td>   -1.7680</td> <td>    1.045</td> <td>   -1.692</td> <td> 0.091</td> <td>   -3.816</td> <td>    0.280</td>\n",
              "</tr>\n",
              "<tr>\n",
              "  <th>experimental_economics</th>            <td>   -0.6749</td> <td>    1.114</td> <td>   -0.606</td> <td> 0.545</td> <td>   -2.858</td> <td>    1.508</td>\n",
              "</tr>\n",
              "<tr>\n",
              "  <th>finance</th>                           <td>   -1.6143</td> <td>    1.036</td> <td>   -1.558</td> <td> 0.119</td> <td>   -3.645</td> <td>    0.416</td>\n",
              "</tr>\n",
              "<tr>\n",
              "  <th>health_education_welfare</th>          <td>   -1.8799</td> <td>    1.046</td> <td>   -1.797</td> <td> 0.072</td> <td>   -3.931</td> <td>    0.171</td>\n",
              "</tr>\n",
              "<tr>\n",
              "  <th>industrial_organization</th>           <td>   -1.7837</td> <td>    1.040</td> <td>   -1.715</td> <td> 0.086</td> <td>   -3.822</td> <td>    0.254</td>\n",
              "</tr>\n",
              "<tr>\n",
              "  <th>insurance</th>                         <td>   16.9496</td> <td> 1.46e+04</td> <td>    0.001</td> <td> 0.999</td> <td>-2.85e+04</td> <td> 2.86e+04</td>\n",
              "</tr>\n",
              "<tr>\n",
              "  <th>international_financemacro</th>        <td>   -2.3352</td> <td>    1.043</td> <td>   -2.239</td> <td> 0.025</td> <td>   -4.380</td> <td>   -0.291</td>\n",
              "</tr>\n",
              "<tr>\n",
              "  <th>international_trade</th>               <td>   -1.0964</td> <td>    1.049</td> <td>   -1.045</td> <td> 0.296</td> <td>   -3.153</td> <td>    0.960</td>\n",
              "</tr>\n",
              "<tr>\n",
              "  <th>labor_demographic_economics</th>       <td>   -1.6599</td> <td>    1.035</td> <td>   -1.604</td> <td> 0.109</td> <td>   -3.688</td> <td>    0.369</td>\n",
              "</tr>\n",
              "<tr>\n",
              "  <th>law_and_economics</th>                 <td>   -1.7891</td> <td>    1.225</td> <td>   -1.461</td> <td> 0.144</td> <td>   -4.190</td> <td>    0.612</td>\n",
              "</tr>\n",
              "<tr>\n",
              "  <th>macroeconomics_monetary</th>           <td>   -2.3340</td> <td>    1.033</td> <td>   -2.260</td> <td> 0.024</td> <td>   -4.358</td> <td>   -0.310</td>\n",
              "</tr>\n",
              "<tr>\n",
              "  <th>management_general</th>                <td>   -0.1793</td> <td>    1.457</td> <td>   -0.123</td> <td> 0.902</td> <td>   -3.035</td> <td>    2.676</td>\n",
              "</tr>\n",
              "<tr>\n",
              "  <th>management_information_technology</th> <td>   14.5844</td> <td> 6124.214</td> <td>    0.002</td> <td> 0.998</td> <td> -1.2e+04</td> <td>  1.2e+04</td>\n",
              "</tr>\n",
              "<tr>\n",
              "  <th>marketing</th>                         <td>   15.7923</td> <td> 6624.652</td> <td>    0.002</td> <td> 0.998</td> <td> -1.3e+04</td> <td>  1.3e+04</td>\n",
              "</tr>\n",
              "<tr>\n",
              "  <th>microeconomics</th>                    <td>   -1.3626</td> <td>    1.040</td> <td>   -1.310</td> <td> 0.190</td> <td>   -3.401</td> <td>    0.676</td>\n",
              "</tr>\n",
              "<tr>\n",
              "  <th>operations_research</th>               <td>   16.6963</td> <td> 1.02e+04</td> <td>    0.002</td> <td> 0.999</td> <td>-2.01e+04</td> <td> 2.01e+04</td>\n",
              "</tr>\n",
              "<tr>\n",
              "  <th>organizational_behavior</th>           <td>   14.5956</td> <td> 4354.455</td> <td>    0.003</td> <td> 0.997</td> <td>-8519.979</td> <td> 8549.170</td>\n",
              "</tr>\n",
              "<tr>\n",
              "  <th>other</th>                             <td>   -1.4851</td> <td>    1.519</td> <td>   -0.978</td> <td> 0.328</td> <td>   -4.461</td> <td>    1.491</td>\n",
              "</tr>\n",
              "<tr>\n",
              "  <th>political_economy</th>                 <td>   -0.9732</td> <td>    1.095</td> <td>   -0.888</td> <td> 0.374</td> <td>   -3.120</td> <td>    1.174</td>\n",
              "</tr>\n",
              "<tr>\n",
              "  <th>public_economics</th>                  <td>   -1.9219</td> <td>    1.040</td> <td>   -1.847</td> <td> 0.065</td> <td>   -3.961</td> <td>    0.117</td>\n",
              "</tr>\n",
              "<tr>\n",
              "  <th>real_estate</th>                       <td>   -2.3874</td> <td>    1.205</td> <td>   -1.982</td> <td> 0.048</td> <td>   -4.749</td> <td>   -0.026</td>\n",
              "</tr>\n",
              "<tr>\n",
              "  <th>statistics</th>                        <td>   -1.5094</td> <td>    1.519</td> <td>   -0.994</td> <td> 0.320</td> <td>   -4.486</td> <td>    1.467</td>\n",
              "</tr>\n",
              "<tr>\n",
              "  <th>theory</th>                            <td>   -0.3797</td> <td>    1.091</td> <td>   -0.348</td> <td> 0.728</td> <td>   -2.519</td> <td>    1.759</td>\n",
              "</tr>\n",
              "<tr>\n",
              "  <th>urban_rural_regional_economics</th>    <td>   -1.2383</td> <td>    1.163</td> <td>   -1.064</td> <td> 0.287</td> <td>   -3.519</td> <td>    1.042</td>\n",
              "</tr>\n",
              "</table>"
            ],
            "text/plain": [
              "<class 'statsmodels.iolib.summary.Summary'>\n",
              "\"\"\"\n",
              "                           Logit Regression Results                           \n",
              "==============================================================================\n",
              "Dep. Variable:               academia   No. Observations:                 3427\n",
              "Model:                          Logit   Df Residuals:                     3393\n",
              "Method:                           MLE   Df Model:                           33\n",
              "Date:                Mon, 18 May 2020   Pseudo R-squ.:                 0.04172\n",
              "Time:                        05:57:27   Log-Likelihood:                -1741.3\n",
              "converged:                      False   LL-Null:                       -1817.1\n",
              "Covariance Type:            nonrobust   LLR p-value:                 3.938e-17\n",
              "=====================================================================================================\n",
              "                                        coef    std err          z      P>|z|      [0.025      0.975]\n",
              "-----------------------------------------------------------------------------------------------------\n",
              "Intercept                             2.8182      1.029      2.739      0.006       0.802       4.835\n",
              "rank                                  0.0027      0.002      1.302      0.193      -0.001       0.007\n",
              "any_field                            -1.2262      1.097     -1.117      0.264      -3.377       0.925\n",
              "behavioral_economics                 -0.7250      1.093     -0.663      0.507      -2.868       1.418\n",
              "business_economics                   -0.7933      1.272     -0.624      0.533      -3.287       1.700\n",
              "computational_economics              14.5577   6124.206      0.002      0.998    -1.2e+04     1.2e+04\n",
              "decision_sciences                    12.3309    896.964      0.014      0.989   -1745.686    1770.348\n",
              "development_growth                   -1.6367      1.037     -1.579      0.114      -3.669       0.395\n",
              "econometrics                         -0.8228      1.049     -0.784      0.433      -2.879       1.234\n",
              "economic_history                     -0.9380      1.117     -0.840      0.401      -3.127       1.251\n",
              "environmental_ag_econ                -1.7680      1.045     -1.692      0.091      -3.816       0.280\n",
              "experimental_economics               -0.6749      1.114     -0.606      0.545      -2.858       1.508\n",
              "finance                              -1.6143      1.036     -1.558      0.119      -3.645       0.416\n",
              "health_education_welfare             -1.8799      1.046     -1.797      0.072      -3.931       0.171\n",
              "industrial_organization              -1.7837      1.040     -1.715      0.086      -3.822       0.254\n",
              "insurance                            16.9496   1.46e+04      0.001      0.999   -2.85e+04    2.86e+04\n",
              "international_financemacro           -2.3352      1.043     -2.239      0.025      -4.380      -0.291\n",
              "international_trade                  -1.0964      1.049     -1.045      0.296      -3.153       0.960\n",
              "labor_demographic_economics          -1.6599      1.035     -1.604      0.109      -3.688       0.369\n",
              "law_and_economics                    -1.7891      1.225     -1.461      0.144      -4.190       0.612\n",
              "macroeconomics_monetary              -2.3340      1.033     -2.260      0.024      -4.358      -0.310\n",
              "management_general                   -0.1793      1.457     -0.123      0.902      -3.035       2.676\n",
              "management_information_technology    14.5844   6124.214      0.002      0.998    -1.2e+04     1.2e+04\n",
              "marketing                            15.7923   6624.652      0.002      0.998    -1.3e+04     1.3e+04\n",
              "microeconomics                       -1.3626      1.040     -1.310      0.190      -3.401       0.676\n",
              "operations_research                  16.6963   1.02e+04      0.002      0.999   -2.01e+04    2.01e+04\n",
              "organizational_behavior              14.5956   4354.455      0.003      0.997   -8519.979    8549.170\n",
              "other                                -1.4851      1.519     -0.978      0.328      -4.461       1.491\n",
              "political_economy                    -0.9732      1.095     -0.888      0.374      -3.120       1.174\n",
              "public_economics                     -1.9219      1.040     -1.847      0.065      -3.961       0.117\n",
              "real_estate                          -2.3874      1.205     -1.982      0.048      -4.749      -0.026\n",
              "statistics                           -1.5094      1.519     -0.994      0.320      -4.486       1.467\n",
              "theory                               -0.3797      1.091     -0.348      0.728      -2.519       1.759\n",
              "urban_rural_regional_economics       -1.2383      1.163     -1.064      0.287      -3.519       1.042\n",
              "=====================================================================================================\n",
              "\"\"\""
            ]
          },
          "metadata": {
            "tags": []
          },
          "execution_count": 183
        }
      ]
    },
    {
      "cell_type": "code",
      "metadata": {
        "id": "J3U1QiXPWsil",
        "colab_type": "code",
        "colab": {
          "base_uri": "https://localhost:8080/",
          "height": 1000
        },
        "outputId": "92c1b45a-1fd4-4df4-e873-f0ef14df0e60"
      },
      "source": [
        "from patsy import dmatrices\n",
        "\n",
        "y_priv, X_rank = dmatrices(\"priv ~ rank + \" + app_fields_ser.str.cat(sep=\" + \"), data_with_dummies, return_type = \"dataframe\")\n",
        "\n",
        "priv_regression = sm.Logit(y_priv, X_rank)\n",
        "priv_regression.fit().summary()"
      ],
      "execution_count": 184,
      "outputs": [
        {
          "output_type": "stream",
          "text": [
            "Warning: Maximum number of iterations has been exceeded.\n",
            "         Current function value: 0.419118\n",
            "         Iterations: 35\n"
          ],
          "name": "stdout"
        },
        {
          "output_type": "stream",
          "text": [
            "/usr/local/lib/python3.6/dist-packages/statsmodels/base/model.py:512: ConvergenceWarning: Maximum Likelihood optimization failed to converge. Check mle_retvals\n",
            "  \"Check mle_retvals\", ConvergenceWarning)\n"
          ],
          "name": "stderr"
        },
        {
          "output_type": "execute_result",
          "data": {
            "text/html": [
              "<table class=\"simpletable\">\n",
              "<caption>Logit Regression Results</caption>\n",
              "<tr>\n",
              "  <th>Dep. Variable:</th>         <td>priv</td>       <th>  No. Observations:  </th>  <td>  3427</td>  \n",
              "</tr>\n",
              "<tr>\n",
              "  <th>Model:</th>                 <td>Logit</td>      <th>  Df Residuals:      </th>  <td>  3393</td>  \n",
              "</tr>\n",
              "<tr>\n",
              "  <th>Method:</th>                 <td>MLE</td>       <th>  Df Model:          </th>  <td>    33</td>  \n",
              "</tr>\n",
              "<tr>\n",
              "  <th>Date:</th>            <td>Mon, 18 May 2020</td> <th>  Pseudo R-squ.:     </th>  <td>0.02800</td> \n",
              "</tr>\n",
              "<tr>\n",
              "  <th>Time:</th>                <td>06:00:06</td>     <th>  Log-Likelihood:    </th> <td> -1436.3</td> \n",
              "</tr>\n",
              "<tr>\n",
              "  <th>converged:</th>             <td>False</td>      <th>  LL-Null:           </th> <td> -1477.7</td> \n",
              "</tr>\n",
              "<tr>\n",
              "  <th>Covariance Type:</th>     <td>nonrobust</td>    <th>  LLR p-value:       </th> <td>3.700e-06</td>\n",
              "</tr>\n",
              "</table>\n",
              "<table class=\"simpletable\">\n",
              "<tr>\n",
              "                  <td></td>                     <th>coef</th>     <th>std err</th>      <th>z</th>      <th>P>|z|</th>  <th>[0.025</th>    <th>0.975]</th>  \n",
              "</tr>\n",
              "<tr>\n",
              "  <th>Intercept</th>                         <td>   -2.7114</td> <td>    1.030</td> <td>   -2.633</td> <td> 0.008</td> <td>   -4.730</td> <td>   -0.693</td>\n",
              "</tr>\n",
              "<tr>\n",
              "  <th>rank</th>                              <td>   -0.0069</td> <td>    0.002</td> <td>   -2.770</td> <td> 0.006</td> <td>   -0.012</td> <td>   -0.002</td>\n",
              "</tr>\n",
              "<tr>\n",
              "  <th>any_field</th>                         <td>    1.2534</td> <td>    1.098</td> <td>    1.141</td> <td> 0.254</td> <td>   -0.899</td> <td>    3.406</td>\n",
              "</tr>\n",
              "<tr>\n",
              "  <th>behavioral_economics</th>              <td>    0.5857</td> <td>    1.102</td> <td>    0.532</td> <td> 0.595</td> <td>   -1.574</td> <td>    2.745</td>\n",
              "</tr>\n",
              "<tr>\n",
              "  <th>business_economics</th>                <td>    0.0148</td> <td>    1.455</td> <td>    0.010</td> <td> 0.992</td> <td>   -2.837</td> <td>    2.866</td>\n",
              "</tr>\n",
              "<tr>\n",
              "  <th>computational_economics</th>           <td>  -14.5630</td> <td> 6124.200</td> <td>   -0.002</td> <td> 0.998</td> <td> -1.2e+04</td> <td>  1.2e+04</td>\n",
              "</tr>\n",
              "<tr>\n",
              "  <th>decision_sciences</th>                 <td>  -18.1003</td> <td> 1.59e+04</td> <td>   -0.001</td> <td> 0.999</td> <td>-3.12e+04</td> <td> 3.12e+04</td>\n",
              "</tr>\n",
              "<tr>\n",
              "  <th>development_growth</th>                <td>    1.4260</td> <td>    1.038</td> <td>    1.373</td> <td> 0.170</td> <td>   -0.609</td> <td>    3.461</td>\n",
              "</tr>\n",
              "<tr>\n",
              "  <th>econometrics</th>                      <td>    0.5148</td> <td>    1.056</td> <td>    0.488</td> <td> 0.626</td> <td>   -1.554</td> <td>    2.584</td>\n",
              "</tr>\n",
              "<tr>\n",
              "  <th>economic_history</th>                  <td>    0.6887</td> <td>    1.132</td> <td>    0.608</td> <td> 0.543</td> <td>   -1.530</td> <td>    2.907</td>\n",
              "</tr>\n",
              "<tr>\n",
              "  <th>environmental_ag_econ</th>             <td>    1.4502</td> <td>    1.049</td> <td>    1.383</td> <td> 0.167</td> <td>   -0.605</td> <td>    3.506</td>\n",
              "</tr>\n",
              "<tr>\n",
              "  <th>experimental_economics</th>            <td>    0.4767</td> <td>    1.129</td> <td>    0.422</td> <td> 0.673</td> <td>   -1.736</td> <td>    2.690</td>\n",
              "</tr>\n",
              "<tr>\n",
              "  <th>finance</th>                           <td>    0.9554</td> <td>    1.041</td> <td>    0.918</td> <td> 0.359</td> <td>   -1.085</td> <td>    2.996</td>\n",
              "</tr>\n",
              "<tr>\n",
              "  <th>health_education_welfare</th>          <td>    1.5863</td> <td>    1.050</td> <td>    1.511</td> <td> 0.131</td> <td>   -0.472</td> <td>    3.644</td>\n",
              "</tr>\n",
              "<tr>\n",
              "  <th>industrial_organization</th>           <td>    1.2393</td> <td>    1.045</td> <td>    1.186</td> <td> 0.236</td> <td>   -0.809</td> <td>    3.288</td>\n",
              "</tr>\n",
              "<tr>\n",
              "  <th>insurance</th>                         <td>   -7.5376</td> <td>  134.766</td> <td>   -0.056</td> <td> 0.955</td> <td> -271.674</td> <td>  256.599</td>\n",
              "</tr>\n",
              "<tr>\n",
              "  <th>international_financemacro</th>        <td>    1.8038</td> <td>    1.047</td> <td>    1.723</td> <td> 0.085</td> <td>   -0.248</td> <td>    3.856</td>\n",
              "</tr>\n",
              "<tr>\n",
              "  <th>international_trade</th>               <td>    0.7379</td> <td>    1.056</td> <td>    0.699</td> <td> 0.485</td> <td>   -1.332</td> <td>    2.808</td>\n",
              "</tr>\n",
              "<tr>\n",
              "  <th>labor_demographic_economics</th>       <td>    1.2493</td> <td>    1.037</td> <td>    1.204</td> <td> 0.229</td> <td>   -0.784</td> <td>    3.283</td>\n",
              "</tr>\n",
              "<tr>\n",
              "  <th>law_and_economics</th>                 <td>  -25.1120</td> <td> 3.47e+05</td> <td>-7.24e-05</td> <td> 1.000</td> <td> -6.8e+05</td> <td>  6.8e+05</td>\n",
              "</tr>\n",
              "<tr>\n",
              "  <th>macroeconomics_monetary</th>           <td>    1.5148</td> <td>    1.035</td> <td>    1.463</td> <td> 0.143</td> <td>   -0.514</td> <td>    3.544</td>\n",
              "</tr>\n",
              "<tr>\n",
              "  <th>management_general</th>                <td>    0.1776</td> <td>    1.458</td> <td>    0.122</td> <td> 0.903</td> <td>   -2.679</td> <td>    3.034</td>\n",
              "</tr>\n",
              "<tr>\n",
              "  <th>management_information_technology</th> <td>  -14.6320</td> <td> 6124.231</td> <td>   -0.002</td> <td> 0.998</td> <td> -1.2e+04</td> <td>  1.2e+04</td>\n",
              "</tr>\n",
              "<tr>\n",
              "  <th>marketing</th>                         <td>  -17.7260</td> <td> 1.77e+04</td> <td>   -0.001</td> <td> 0.999</td> <td>-3.46e+04</td> <td> 3.46e+04</td>\n",
              "</tr>\n",
              "<tr>\n",
              "  <th>microeconomics</th>                    <td>    0.9965</td> <td>    1.044</td> <td>    0.955</td> <td> 0.340</td> <td>   -1.050</td> <td>    3.043</td>\n",
              "</tr>\n",
              "<tr>\n",
              "  <th>operations_research</th>               <td>  -16.7191</td> <td> 1.02e+04</td> <td>   -0.002</td> <td> 0.999</td> <td>-2.01e+04</td> <td> 2.01e+04</td>\n",
              "</tr>\n",
              "<tr>\n",
              "  <th>organizational_behavior</th>           <td>  -21.2818</td> <td>  1.2e+05</td> <td>   -0.000</td> <td> 1.000</td> <td>-2.36e+05</td> <td> 2.36e+05</td>\n",
              "</tr>\n",
              "<tr>\n",
              "  <th>other</th>                             <td>    1.4616</td> <td>    1.519</td> <td>    0.962</td> <td> 0.336</td> <td>   -1.516</td> <td>    4.439</td>\n",
              "</tr>\n",
              "<tr>\n",
              "  <th>political_economy</th>                 <td>    0.7845</td> <td>    1.104</td> <td>    0.711</td> <td> 0.477</td> <td>   -1.379</td> <td>    2.948</td>\n",
              "</tr>\n",
              "<tr>\n",
              "  <th>public_economics</th>                  <td>    1.2747</td> <td>    1.046</td> <td>    1.219</td> <td> 0.223</td> <td>   -0.775</td> <td>    3.325</td>\n",
              "</tr>\n",
              "<tr>\n",
              "  <th>real_estate</th>                       <td>    2.4785</td> <td>    1.208</td> <td>    2.052</td> <td> 0.040</td> <td>    0.111</td> <td>    4.846</td>\n",
              "</tr>\n",
              "<tr>\n",
              "  <th>statistics</th>                        <td>    1.5211</td> <td>    1.520</td> <td>    1.001</td> <td> 0.317</td> <td>   -1.458</td> <td>    4.501</td>\n",
              "</tr>\n",
              "<tr>\n",
              "  <th>theory</th>                            <td>    0.2130</td> <td>    1.100</td> <td>    0.194</td> <td> 0.846</td> <td>   -1.943</td> <td>    2.369</td>\n",
              "</tr>\n",
              "<tr>\n",
              "  <th>urban_rural_regional_economics</th>    <td>    0.9118</td> <td>    1.199</td> <td>    0.761</td> <td> 0.447</td> <td>   -1.438</td> <td>    3.261</td>\n",
              "</tr>\n",
              "</table>"
            ],
            "text/plain": [
              "<class 'statsmodels.iolib.summary.Summary'>\n",
              "\"\"\"\n",
              "                           Logit Regression Results                           \n",
              "==============================================================================\n",
              "Dep. Variable:                   priv   No. Observations:                 3427\n",
              "Model:                          Logit   Df Residuals:                     3393\n",
              "Method:                           MLE   Df Model:                           33\n",
              "Date:                Mon, 18 May 2020   Pseudo R-squ.:                 0.02800\n",
              "Time:                        06:00:06   Log-Likelihood:                -1436.3\n",
              "converged:                      False   LL-Null:                       -1477.7\n",
              "Covariance Type:            nonrobust   LLR p-value:                 3.700e-06\n",
              "=====================================================================================================\n",
              "                                        coef    std err          z      P>|z|      [0.025      0.975]\n",
              "-----------------------------------------------------------------------------------------------------\n",
              "Intercept                            -2.7114      1.030     -2.633      0.008      -4.730      -0.693\n",
              "rank                                 -0.0069      0.002     -2.770      0.006      -0.012      -0.002\n",
              "any_field                             1.2534      1.098      1.141      0.254      -0.899       3.406\n",
              "behavioral_economics                  0.5857      1.102      0.532      0.595      -1.574       2.745\n",
              "business_economics                    0.0148      1.455      0.010      0.992      -2.837       2.866\n",
              "computational_economics             -14.5630   6124.200     -0.002      0.998    -1.2e+04     1.2e+04\n",
              "decision_sciences                   -18.1003   1.59e+04     -0.001      0.999   -3.12e+04    3.12e+04\n",
              "development_growth                    1.4260      1.038      1.373      0.170      -0.609       3.461\n",
              "econometrics                          0.5148      1.056      0.488      0.626      -1.554       2.584\n",
              "economic_history                      0.6887      1.132      0.608      0.543      -1.530       2.907\n",
              "environmental_ag_econ                 1.4502      1.049      1.383      0.167      -0.605       3.506\n",
              "experimental_economics                0.4767      1.129      0.422      0.673      -1.736       2.690\n",
              "finance                               0.9554      1.041      0.918      0.359      -1.085       2.996\n",
              "health_education_welfare              1.5863      1.050      1.511      0.131      -0.472       3.644\n",
              "industrial_organization               1.2393      1.045      1.186      0.236      -0.809       3.288\n",
              "insurance                            -7.5376    134.766     -0.056      0.955    -271.674     256.599\n",
              "international_financemacro            1.8038      1.047      1.723      0.085      -0.248       3.856\n",
              "international_trade                   0.7379      1.056      0.699      0.485      -1.332       2.808\n",
              "labor_demographic_economics           1.2493      1.037      1.204      0.229      -0.784       3.283\n",
              "law_and_economics                   -25.1120   3.47e+05  -7.24e-05      1.000    -6.8e+05     6.8e+05\n",
              "macroeconomics_monetary               1.5148      1.035      1.463      0.143      -0.514       3.544\n",
              "management_general                    0.1776      1.458      0.122      0.903      -2.679       3.034\n",
              "management_information_technology   -14.6320   6124.231     -0.002      0.998    -1.2e+04     1.2e+04\n",
              "marketing                           -17.7260   1.77e+04     -0.001      0.999   -3.46e+04    3.46e+04\n",
              "microeconomics                        0.9965      1.044      0.955      0.340      -1.050       3.043\n",
              "operations_research                 -16.7191   1.02e+04     -0.002      0.999   -2.01e+04    2.01e+04\n",
              "organizational_behavior             -21.2818    1.2e+05     -0.000      1.000   -2.36e+05    2.36e+05\n",
              "other                                 1.4616      1.519      0.962      0.336      -1.516       4.439\n",
              "political_economy                     0.7845      1.104      0.711      0.477      -1.379       2.948\n",
              "public_economics                      1.2747      1.046      1.219      0.223      -0.775       3.325\n",
              "real_estate                           2.4785      1.208      2.052      0.040       0.111       4.846\n",
              "statistics                            1.5211      1.520      1.001      0.317      -1.458       4.501\n",
              "theory                                0.2130      1.100      0.194      0.846      -1.943       2.369\n",
              "urban_rural_regional_economics        0.9118      1.199      0.761      0.447      -1.438       3.261\n",
              "=====================================================================================================\n",
              "\"\"\""
            ]
          },
          "metadata": {
            "tags": []
          },
          "execution_count": 184
        }
      ]
    },
    {
      "cell_type": "code",
      "metadata": {
        "id": "UBfGNJfhXi57",
        "colab_type": "code",
        "colab": {}
      },
      "source": [
        ""
      ],
      "execution_count": 0,
      "outputs": []
    }
  ]
}