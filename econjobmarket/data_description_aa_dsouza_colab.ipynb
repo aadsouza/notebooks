{
  "nbformat": 4,
  "nbformat_minor": 0,
  "metadata": {
    "colab": {
      "name": "data_description_aa_dsouza_colab.ipynb",
      "provenance": [],
      "collapsed_sections": [],
      "toc_visible": true,
      "machine_shape": "hm"
    },
    "kernelspec": {
      "display_name": "Python 3",
      "language": "python",
      "name": "python3"
    },
    "language_info": {
      "codemirror_mode": {
        "name": "ipython",
        "version": 3
      },
      "file_extension": ".py",
      "mimetype": "text/x-python",
      "name": "python",
      "nbconvert_exporter": "python",
      "pygments_lexer": "ipython3",
      "version": "3.7.6"
    }
  },
  "cells": [
    {
      "cell_type": "markdown",
      "metadata": {
        "colab_type": "text",
        "id": "4tPXIITRxjnC"
      },
      "source": [
        "**Please run required sections of notebook as necessary.**"
      ]
    },
    {
      "cell_type": "code",
      "metadata": {
        "id": "Uj4S8cXxQZPs",
        "colab_type": "code",
        "colab": {}
      },
      "source": [
        "! pip install qeds fiona geopandas xgboost gensim folium pyLDAvis descartes psaw pyarrow"
      ],
      "execution_count": 0,
      "outputs": []
    },
    {
      "cell_type": "code",
      "metadata": {
        "id": "CVU4DN0OQ3XN",
        "colab_type": "code",
        "colab": {}
      },
      "source": [
        "!apt-get install libproj-dev proj-data proj-bin  \n",
        "!apt-get install libgeos-dev  \n",
        "!pip install cython  \n",
        "!pip install cartopy  "
      ],
      "execution_count": 0,
      "outputs": []
    },
    {
      "cell_type": "code",
      "metadata": {
        "id": "q-koj2YkT-yx",
        "colab_type": "code",
        "colab": {}
      },
      "source": [
        "# Install proj and geos using brew\n",
        "!brew install proj geos\n",
        "# If shapely is already installed, first uninstall it\n",
        "!pip3 uninstall shapely\n",
        "# Install the cython, numpy, pyshp, and six dependencies using pip\n",
        "!pip3 install --upgrade cython numpy pyshp six\n",
        "# Install shapely from source with pip (the binary may not be linked to the correct version of geos\n",
        "!pip3 install shapely --no-binary shapely\n",
        "# Finally, install cartopy using pip. The version on pypi does not yet work with the most recent\n",
        "# release of proj, so instead install cartopy from source using the most recent version on github\n",
        "!pip3 install git+https://github.com/SciTools/cartopy.git --no-binary cartopy"
      ],
      "execution_count": 0,
      "outputs": []
    },
    {
      "cell_type": "code",
      "metadata": {
        "colab_type": "code",
        "id": "XcKzLVnZuCGd",
        "colab": {}
      },
      "source": [
        "import pandas as pd \n",
        "import os\n",
        "import IPython\n",
        "\n",
        "import json\n",
        "with open(\"to_from_data.json\", \"r\") as read_file:\n",
        "    rankings = json.load(read_file)\n",
        "data = pd.DataFrame(rankings)"
      ],
      "execution_count": 0,
      "outputs": []
    },
    {
      "cell_type": "code",
      "metadata": {
        "colab_type": "code",
        "id": "Mizo-s6NuE_v",
        "colab": {}
      },
      "source": [
        "import numpy as np\n",
        "import matplotlib.pyplot as plt\n",
        "\n",
        "%matplotlib inline\n",
        "\n",
        "import qeds\n",
        "qeds.themes.mpl_style();\n",
        "\n",
        "import cartopy.crs as ccrs #cartopy documentation: https://scitools.org.uk/cartopy/docs/latest/\n",
        "import cartopy.feature as cfeature\n",
        "\n",
        "#import geopandas as gpd\n",
        "#from shapely.geometry import Point"
      ],
      "execution_count": 0,
      "outputs": []
    },
    {
      "cell_type": "code",
      "metadata": {
        "colab_type": "code",
        "id": "iAd5eI_EuH_s",
        "colab": {}
      },
      "source": [
        "inst_data = pd.read_json(\"to_from_data.json\") #set directory as necessary"
      ],
      "execution_count": 0,
      "outputs": []
    },
    {
      "cell_type": "code",
      "metadata": {
        "colab_type": "code",
        "id": "kfiaEeHBuKpz",
        "colab": {}
      },
      "source": [
        "inst_data #same as data ^"
      ],
      "execution_count": 0,
      "outputs": []
    },
    {
      "cell_type": "code",
      "metadata": {
        "colab_type": "code",
        "id": "lHwn0c6tuM18",
        "colab": {}
      },
      "source": [
        "inst_data = inst_data.dropna(subset = [\"to_latitude\", \"to_longitude\", \"latitude\", \"longitude\"]) #drop observations with missing geocoordinates"
      ],
      "execution_count": 0,
      "outputs": []
    },
    {
      "cell_type": "code",
      "metadata": {
        "colab_type": "code",
        "id": "zKOcCUCTuQnD",
        "colab": {}
      },
      "source": [
        "inst_data[\"startdate\"] = pd.to_datetime(inst_data[\"startdate\"]) #convert object to datetime\n",
        "\n",
        "inst_data = inst_data[inst_data[\"startdate\"].dt.year == 2019] #select rows with start date in year 2019"
      ],
      "execution_count": 0,
      "outputs": []
    },
    {
      "cell_type": "code",
      "metadata": {
        "colab_type": "code",
        "id": "68NnnIFfuUXN",
        "colab": {}
      },
      "source": [
        "inst_data.name.unique().shape #note 33 unique categories, names"
      ],
      "execution_count": 0,
      "outputs": []
    },
    {
      "cell_type": "code",
      "metadata": {
        "colab_type": "code",
        "id": "XmslP6fHuWlT",
        "colab": {}
      },
      "source": [
        "inst_data.description.unique() #note 10 unique recruiter_types, descriptions"
      ],
      "execution_count": 0,
      "outputs": []
    },
    {
      "cell_type": "code",
      "metadata": {
        "colab_type": "code",
        "id": "tGYqLFOBuZUe",
        "colab": {}
      },
      "source": [
        "import nltk\n",
        "nltk.download(\"punkt\")\n",
        "\n",
        "def desc_reviser(string):\n",
        "    string = string.lower()\n",
        "    tokens = [i for i in nltk.tokenize.word_tokenize(string)]\n",
        "    return(tokens)\n",
        "\n",
        "#desc_reviser(inst_data.description[6])"
      ],
      "execution_count": 0,
      "outputs": []
    },
    {
      "cell_type": "code",
      "metadata": {
        "colab_type": "code",
        "id": "U4x_es5Fuc2Q",
        "colab": {}
      },
      "source": [
        "desc_tokens = [desc_reviser(i) for i in inst_data.description]\n",
        "inst_data[\"desc_tokens\"] = desc_tokens"
      ],
      "execution_count": 0,
      "outputs": []
    },
    {
      "cell_type": "code",
      "metadata": {
        "colab_type": "code",
        "id": "4zbm7x1Luh64",
        "colab": {}
      },
      "source": [
        "inst_data[\"revised_description\"] = 0\n",
        "\n",
        "for i in inst_data.index:\n",
        "    if \"academic\" in inst_data.desc_tokens[i]:\n",
        "        inst_data.revised_description[i] = inst_data.description[i]\n",
        "        \n",
        "    elif \"government\" in inst_data.desc_tokens[i]:\n",
        "        inst_data.revised_description[i] = inst_data.description[i]\n",
        "        \n",
        "    elif \"private\" or \"other\" in inst_data.desc_tokens[i]:\n",
        "        inst_data.revised_description[i] = \"Private business or organization; Other type of organization\"\n",
        "        \n",
        "    else: inst_data[\"revised_description\"][i] = np.nan"
      ],
      "execution_count": 0,
      "outputs": []
    },
    {
      "cell_type": "code",
      "metadata": {
        "id": "J-3gJmZuf5Dx",
        "colab_type": "code",
        "colab": {}
      },
      "source": [
        "inst_data[inst_data[\"description\"] == \"Other type of organization\"]"
      ],
      "execution_count": 0,
      "outputs": []
    },
    {
      "cell_type": "code",
      "metadata": {
        "colab_type": "code",
        "id": "vs5IXl_Hui8n",
        "colab": {}
      },
      "source": [
        "inst_data[inst_data[\"description\"] == \"Academic organization (other than econ, business, or ag econ)\"] #check to ensure conditional in correct order - notice word \"other\""
      ],
      "execution_count": 0,
      "outputs": []
    },
    {
      "cell_type": "code",
      "metadata": {
        "colab_type": "code",
        "id": "Aymxc4Ryumva",
        "colab": {}
      },
      "source": [
        "inst_data['revised_recruiter_hash'] = inst_data.revised_description.map(hash) #create column of revised recruiter types"
      ],
      "execution_count": 0,
      "outputs": []
    },
    {
      "cell_type": "code",
      "metadata": {
        "colab_type": "code",
        "id": "Wwek3P3Ou2ea",
        "colab": {}
      },
      "source": [
        "inst_data[\"rank\"].unique()#.shape"
      ],
      "execution_count": 0,
      "outputs": []
    },
    {
      "cell_type": "code",
      "metadata": {
        "colab_type": "code",
        "id": "gZKF568-u4yh",
        "colab": {}
      },
      "source": [
        "inst_data[\"from_coordinates\"] = list(zip(inst_data.longitude, inst_data.latitude))\n",
        "inst_data[\"to_coordinates\"] = list(zip(inst_data.to_longitude, inst_data.to_latitude))"
      ],
      "execution_count": 0,
      "outputs": []
    },
    {
      "cell_type": "code",
      "metadata": {
        "colab_type": "code",
        "id": "U93xvPQZu-Sr",
        "colab": {}
      },
      "source": [
        "#before dropping NaN and restricting analysis\n",
        "inst_data.category_id.unique() #no category 28?\n",
        "#inst_data[inst_data.category_id == 28]"
      ],
      "execution_count": 0,
      "outputs": []
    },
    {
      "cell_type": "code",
      "metadata": {
        "colab_type": "code",
        "id": "y4Sultq-u_sF",
        "colab": {}
      },
      "source": [
        "data_subsets = {}\n",
        "for i in inst_data.category_id.unique():\n",
        "    inst_data_subset_iteration = inst_data[inst_data.category_id == i]\n",
        "    data_subsets[i] = inst_data_subset_iteration"
      ],
      "execution_count": 0,
      "outputs": []
    },
    {
      "cell_type": "markdown",
      "metadata": {
        "colab_type": "text",
        "id": "OzNgYeHBvIBT"
      },
      "source": [
        "## Maps by Applicant Primary Field (Names) - using scatter-plot arrow proxy"
      ]
    },
    {
      "cell_type": "code",
      "metadata": {
        "colab_type": "code",
        "id": "VZ2xGPL5vL7-",
        "colab": {}
      },
      "source": [
        "#note that points converging at Gulf of Guinea are at intersection of Equator and Prime Meridian\n",
        "\n",
        "#NaN probably coded as (0, 0) - dropped na above\n",
        "\n",
        "#FIXME some institutions such as IMF, CBO, BEA coded as (0, 0) for example uncomment and run the next line\n",
        "#inst_data.loc[inst_data[\"to_latitude\"] == 0]"
      ],
      "execution_count": 0,
      "outputs": []
    },
    {
      "cell_type": "code",
      "metadata": {
        "colab_type": "code",
        "id": "uOSasGZnvPPq",
        "scrolled": false,
        "colab": {}
      },
      "source": [
        "for j in inst_data.category_id.unique():\n",
        "    fig = plt.figure(figsize=(80, 80)) #on GitHub (25, 20)\n",
        "    ax = fig.add_subplot(projection = ccrs.PlateCarree()) #Projection list: https://scitools.org.uk/cartopy/docs/latest/crs/projections.html\n",
        "\n",
        "    ax.coastlines()\n",
        "    ax.add_feature(cfeature.OCEAN)\n",
        "    ax.add_feature(cfeature.BORDERS)\n",
        "    ax.add_feature(cfeature.LAND)\n",
        "    ax.set_title(\"category_id_\" + str(j) + \": \" + data_subsets[j].name.unique()[0], fontsize = 32) #added fontsize\n",
        "    \n",
        "    for i in data_subsets[j].index:\n",
        "        ax.scatter(inst_data.longitude[i], inst_data.latitude[i], transform = ccrs.Geodetic(), color = \"blue\", marker = \"o\") #use scatter point method from maps emailed\n",
        "        ax.plot([inst_data.longitude[i], inst_data.to_longitude[i]], [inst_data.latitude[i], inst_data.to_latitude[i]], transform=ccrs.Geodetic())\n",
        "        ax.scatter(inst_data.to_longitude[i], inst_data.to_latitude[i], transform = ccrs.Geodetic(), color = \"red\", marker = \"^\") #use scatter point method from maps emailed, ideally cartopy adaptation of basemap https://stackoverflow.com/questions/45512429/python-basemap-drawgreatcircle-with-arrow-end-cap?rq=1\n",
        "\n"
      ],
      "execution_count": 0,
      "outputs": []
    },
    {
      "cell_type": "markdown",
      "metadata": {
        "colab_type": "text",
        "id": "QqdFc7qdvWxf"
      },
      "source": [
        "## Maps by Applicant Primary Field (Names) - using annotation arrow proxy"
      ]
    },
    {
      "cell_type": "code",
      "metadata": {
        "colab_type": "code",
        "id": "ykKi-4WkvSdY",
        "scrolled": false,
        "colab": {}
      },
      "source": [
        "#with arrows but not great circle plot\n",
        "\n",
        "for j in inst_data.category_id.unique():\n",
        "    fig = plt.figure(figsize=(80, 80)) #on GitHub (25, 20)\n",
        "    ax = fig.add_subplot(projection = ccrs.Mercator()) #Projection list: https://scitools.org.uk/cartopy/docs/latest/crs/projections.html\n",
        "\n",
        "    ax.coastlines()\n",
        "    ax.add_feature(cfeature.OCEAN)\n",
        "    ax.add_feature(cfeature.BORDERS)\n",
        "    ax.add_feature(cfeature.LAND)\n",
        "    ax.set_title(\"category_id_\" + str(j) + \": \" + data_subsets[j].name.unique()[0], fontsize = 32) #added fontsize\n",
        "    transform = ccrs.PlateCarree()._as_mpl_transform(ax)\n",
        "    for i in data_subsets[j].index:\n",
        "        ax.annotate(\" \", xy = (inst_data.to_longitude[i], inst_data.to_latitude[i]), xytext = (inst_data.longitude[i], inst_data.latitude[i]), arrowprops = dict(arrowstyle = \"->\", connectionstyle=\"arc3, rad = -0.8\", color = \"red\"), xycoords = transform, ha = 'right', va = 'top', annotation_clip = False)\n",
        "\n"
      ],
      "execution_count": 0,
      "outputs": []
    },
    {
      "cell_type": "markdown",
      "metadata": {
        "colab_type": "text",
        "id": "_MYhn-pxvjp3"
      },
      "source": [
        "## Maps by Recruiter Type and Applicant Primary Field "
      ]
    },
    {
      "cell_type": "code",
      "metadata": {
        "colab_type": "code",
        "id": "iolmM5m4vnCh",
        "colab": {}
      },
      "source": [
        "data_subsets[1][data_subsets[1].recruiter_type == 1]"
      ],
      "execution_count": 0,
      "outputs": []
    },
    {
      "cell_type": "code",
      "metadata": {
        "colab_type": "code",
        "id": "Ga9qgqe-vph3",
        "colab": {}
      },
      "source": [
        "for j in inst_data.category_id.unique():\n",
        "    for k in data_subsets[j].recruiter_type.unique():\n",
        "        fig = plt.figure(figsize=(80, 80)) #on GitHub (25, 20)\n",
        "        ax = fig.add_subplot(projection = ccrs.PlateCarree()) #Projection list: https://scitools.org.uk/cartopy/docs/latest/crs/projections.html\n",
        "    \n",
        "        ax.coastlines()\n",
        "        ax.add_feature(cfeature.OCEAN)\n",
        "        ax.add_feature(cfeature.BORDERS)\n",
        "        ax.add_feature(cfeature.LAND)\n",
        "        ax.set_title(\"category_id_\" + str(j) + \": \" + data_subsets[j].name.unique()[0] + \"; recruiter_type_\" + str(k) + \": \" + data_subsets[j][data_subsets[j].recruiter_type == k].description.unique()[0], fontsize = 32)\n",
        "    \n",
        "        for i in data_subsets[j][data_subsets[j].recruiter_type == k].index:\n",
        "            ax.scatter(inst_data.longitude[i], inst_data.latitude[i], transform = ccrs.Geodetic(), color = \"blue\", marker = \"o\") #use scatter point method from maps emailed\n",
        "            ax.plot([inst_data.longitude[i], inst_data.to_longitude[i]], [inst_data.latitude[i], inst_data.to_latitude[i]], transform=ccrs.Geodetic())\n",
        "            ax.scatter(inst_data.to_longitude[i], inst_data.to_latitude[i], transform = ccrs.Geodetic(), color = \"red\", marker = \"^\") #use scatter point method from maps emailed, ideally cartopy adaptation of basemap https://stackoverflow.com/questions/45512429/python-basemap-drawgreatcircle-with-arrow-end-cap?rq=1\n",
        "     "
      ],
      "execution_count": 0,
      "outputs": []
    },
    {
      "cell_type": "markdown",
      "metadata": {
        "colab_type": "text",
        "id": "Pj7Qu-Ccvv8-"
      },
      "source": [
        "##  Interactive Map - no arrows"
      ]
    },
    {
      "cell_type": "code",
      "metadata": {
        "colab_type": "code",
        "id": "X7juP9xXvr_m",
        "colab": {}
      },
      "source": [
        "import plotly.graph_objects as go"
      ],
      "execution_count": 0,
      "outputs": []
    },
    {
      "cell_type": "code",
      "metadata": {
        "colab_type": "code",
        "id": "ZwvHXOMWvzTd",
        "colab": {}
      },
      "source": [
        "from_location_data = pd.DataFrame(inst_data.loc[:, [\"latitude\", \"longitude\", \"from_institution_name\", \"rank\"]])\n",
        "to_location_data = pd.DataFrame(inst_data.loc[:, [\"to_latitude\", \"to_longitude\", \"to_name\", \"to_rank\"]])\n",
        "location_data_1 = from_location_data.rename(columns = {\"from_institution_name\": \"institution_name\"})\n",
        "location_data_2 = to_location_data.rename(columns = {\"to_latitude\": \"latitude\", \"to_longitude\": \"longitude\", \"to_name\": \"institution_name\", \"to_rank\": \"rank\"})\n",
        "\n",
        "location_data = pd.concat([location_data_1, location_data_2], ignore_index = True)\n",
        "location_data = location_data.loc[:, [\"latitude\", \"longitude\", \"institution_name\", \"rank\"]]\n",
        "location_data = location_data.drop_duplicates(ignore_index = True)"
      ],
      "execution_count": 0,
      "outputs": []
    },
    {
      "cell_type": "code",
      "metadata": {
        "colab_type": "code",
        "id": "j5yt3DcPv2r8",
        "colab": {}
      },
      "source": [
        "location_data"
      ],
      "execution_count": 0,
      "outputs": []
    },
    {
      "cell_type": "code",
      "metadata": {
        "colab_type": "code",
        "id": "svJqLJgUv66z",
        "colab": {}
      },
      "source": [
        "fig = go.Figure()"
      ],
      "execution_count": 0,
      "outputs": []
    },
    {
      "cell_type": "code",
      "metadata": {
        "colab_type": "code",
        "id": "UaXNLMPZv9eT",
        "colab": {}
      },
      "source": [
        "fig.add_trace(go.Scattergeo(lon = location_data[\"longitude\"], lat = location_data[\"latitude\"], hoverinfo = \"text\", text = location_data.loc[:, [\"institution_name\", \"rank\"]], mode = \"markers\", marker = dict(size = 2, color = \"rgb(255, 0, 0)\", line = dict(width = 3, color = \"rgba(68, 68, 68, 0)\"))))"
      ],
      "execution_count": 0,
      "outputs": []
    },
    {
      "cell_type": "code",
      "metadata": {
        "colab_type": "code",
        "id": "sV19VW_2wCWS",
        "colab": {}
      },
      "source": [
        "for i in inst_data.index:\n",
        "    fig.add_trace(go.Scattergeo(lon = [inst_data[\"longitude\"][i], inst_data[\"to_longitude\"][i]], lat = [inst_data[\"latitude\"][i], inst_data[\"to_latitude\"][i]], mode = \"lines\", line = dict(width = 1, color = \"red\")))\n",
        "    \n",
        "#opacity = float(df[\"count\"][i]) / float(df[\"count\"].max()) "
      ],
      "execution_count": 0,
      "outputs": []
    },
    {
      "cell_type": "code",
      "metadata": {
        "colab_type": "code",
        "id": "7aA0cx87wJEa",
        "colab": {}
      },
      "source": [
        "fig.update_layout(\n",
        "    title_text = \"Interactive Map\", showlegend = False, geo = dict(projection_type = \"equirectangular\", showland = True, landcolor = \"rgb(243, 243, 243)\", countrycolor = \"rgb(204, 204, 204)\",))\n",
        "\n",
        "#to add markers https://plotly.com/python/marker-style/\n",
        "\n",
        "#FIXME institution name and rank instead of lat, lon"
      ],
      "execution_count": 0,
      "outputs": []
    },
    {
      "cell_type": "markdown",
      "metadata": {
        "colab_type": "text",
        "id": "IqC5MLegwL7c"
      },
      "source": [
        "## Ranking Scatterplot"
      ]
    },
    {
      "cell_type": "code",
      "metadata": {
        "colab_type": "code",
        "id": "_YmVVe7BwQvH",
        "colab": {}
      },
      "source": [
        "import seaborn as sns"
      ],
      "execution_count": 0,
      "outputs": []
    },
    {
      "cell_type": "code",
      "metadata": {
        "colab_type": "code",
        "id": "tkkarSbZwTr3",
        "colab": {}
      },
      "source": [
        "data_clean_rank = data.dropna(subset = [\"rank\", \"to_rank\"])"
      ],
      "execution_count": 0,
      "outputs": []
    },
    {
      "cell_type": "code",
      "metadata": {
        "colab_type": "code",
        "id": "huwD1jk-wYmr",
        "colab": {}
      },
      "source": [
        "fig, ax = plt.subplots(figsize = (10, 10))\n",
        "rank_scat = sns.regplot(x = \"rank\", y = \"to_rank\", data = data_clean_rank, ax = ax)\n",
        "rank_scat.get_lines()[0].set_color(\"red\")"
      ],
      "execution_count": 0,
      "outputs": []
    },
    {
      "cell_type": "markdown",
      "metadata": {
        "colab_type": "text",
        "id": "m-oMQJX-wd63"
      },
      "source": [
        "## Maps by Applicant Primary Field (Names) - East to West: Red; West to East: Black - Great Circle Plots"
      ]
    },
    {
      "cell_type": "code",
      "metadata": {
        "colab_type": "code",
        "id": "d-Sau6IDwe3B",
        "colab": {}
      },
      "source": [
        "# note longitude 180 == -180 "
      ],
      "execution_count": 0,
      "outputs": []
    },
    {
      "cell_type": "code",
      "metadata": {
        "colab_type": "code",
        "id": "1qJD1WzrwjOJ",
        "colab": {}
      },
      "source": [
        "for j in inst_data.category_id.unique():\n",
        "    fig = plt.figure(figsize=(80, 80)) #on GitHub (25, 20)\n",
        "    ax = fig.add_subplot(projection = ccrs.PlateCarree()) #Projection list: https://scitools.org.uk/cartopy/docs/latest/crs/projections.html\n",
        "    \n",
        "    ax.set_global() #sets extent of map to be global, choose this to avoid indiscernible plot in terms of country, note lines close together now very small, comment for zoom default\n",
        "    ax.coastlines()\n",
        "    ax.add_feature(cfeature.OCEAN)\n",
        "    ax.add_feature(cfeature.BORDERS)\n",
        "    ax.add_feature(cfeature.LAND)\n",
        "    ax.set_title(\"category_id_\" + str(j) + \": \" + data_subsets[j].name.unique()[0], fontsize = 32)\n",
        "    \n",
        "    for i in data_subsets[j].index:\n",
        "        \n",
        "        if inst_data.longitude[i] >= inst_data.to_longitude[i]:\n",
        "            colors = \"red\"\n",
        "        else: colors = \"black\"\n",
        "        \n",
        "        ax.plot([inst_data.longitude[i], inst_data.to_longitude[i]], [inst_data.latitude[i], inst_data.to_latitude[i]], transform=ccrs.Geodetic(), color = colors)\n",
        "        "
      ],
      "execution_count": 0,
      "outputs": []
    },
    {
      "cell_type": "markdown",
      "metadata": {
        "colab_type": "text",
        "id": "Baf2N4JKwnme"
      },
      "source": [
        "## B/W Maps by Applicant Primary Field (Names) - East to West: Red; West to East: Blue - Great Circle Plots"
      ]
    },
    {
      "cell_type": "code",
      "metadata": {
        "colab_type": "code",
        "id": "wjHkwu94wmP3",
        "colab": {}
      },
      "source": [
        "for j in inst_data.category_id.unique():\n",
        "    fig = plt.figure(figsize=(80, 80)) #on GitHub (25, 20)\n",
        "    ax = fig.add_subplot(projection = ccrs.PlateCarree()) #Projection list: https://scitools.org.uk/cartopy/docs/latest/crs/projections.html\n",
        "    \n",
        "    ax.set_global() #sets extent of map to be global, choose this to avoid indiscernible plot in terms of country, note lines close together now very small, comment for zoom default\n",
        "    ax.coastlines()\n",
        "    ax.add_feature(cfeature.BORDERS)\n",
        "    ax.set_title(\"category_id_\" + str(j) + \": \" + data_subsets[j].name.unique()[0], fontsize = 32)\n",
        "    \n",
        "    for i in data_subsets[j].index:\n",
        "        \n",
        "        if inst_data.longitude[i] >= inst_data.to_longitude[i]:\n",
        "            colors = \"red\"\n",
        "        else: colors = \"blue\"\n",
        "        \n",
        "        ax.plot([inst_data.longitude[i], inst_data.to_longitude[i]], [inst_data.latitude[i], inst_data.to_latitude[i]], transform=ccrs.Geodetic(), color = colors)\n",
        "        "
      ],
      "execution_count": 0,
      "outputs": []
    },
    {
      "cell_type": "markdown",
      "metadata": {
        "colab_type": "text",
        "id": "MOS0p_lHw-29"
      },
      "source": [
        "## Maps by Applicant Primary Field (Names) - East to West: Red; West to East: Black - using annotation arrow proxy"
      ]
    },
    {
      "cell_type": "code",
      "metadata": {
        "colab_type": "code",
        "id": "pVELVSKDw9wT",
        "colab": {}
      },
      "source": [
        "#with arrows but not great circle plot\n",
        "\n",
        "for j in inst_data.category_id.unique():\n",
        "    fig = plt.figure(figsize=(80, 80)) #on GitHub (25, 20)\n",
        "    ax = fig.add_subplot(projection = ccrs.Mercator()) #Projection list: https://scitools.org.uk/cartopy/docs/latest/crs/projections.html\n",
        "\n",
        "    ax.coastlines()\n",
        "    ax.add_feature(cfeature.OCEAN)\n",
        "    ax.add_feature(cfeature.BORDERS)\n",
        "    ax.add_feature(cfeature.LAND)\n",
        "    ax.set_title(\"category_id_\" + str(j) + \": \" + data_subsets[j].name.unique()[0], fontsize = 32)\n",
        "    transform = ccrs.PlateCarree()._as_mpl_transform(ax)\n",
        "    for i in data_subsets[j].index:\n",
        "        \n",
        "        if inst_data.longitude[i] >= inst_data.to_longitude[i]:\n",
        "            colors = \"red\"\n",
        "        else: colors = \"black\"\n",
        "        \n",
        "        ax.annotate(\" \", xy = (inst_data.to_longitude[i], inst_data.to_latitude[i]), xytext = (inst_data.longitude[i], inst_data.latitude[i]), arrowprops = dict(arrowstyle = \"->\", connectionstyle=\"arc3, rad = -0.8\", color = colors), xycoords = transform, ha = 'right', va = 'top', annotation_clip = False)\n",
        "\n"
      ],
      "execution_count": 0,
      "outputs": []
    },
    {
      "cell_type": "markdown",
      "metadata": {
        "colab_type": "text",
        "id": "o1vQpHD-yFpa"
      },
      "source": [
        "## B/W Maps by Applicant Primary Field (Names) - East to West: Red; West to East: Blue - using annotation arrow proxy"
      ]
    },
    {
      "cell_type": "code",
      "metadata": {
        "colab_type": "code",
        "id": "Qjj7_DwqyLSA",
        "colab": {}
      },
      "source": [
        "#with arrows but not great circle plot\n",
        "\n",
        "for j in inst_data.category_id.unique():\n",
        "    fig = plt.figure(figsize=(80, 80))\n",
        "    ax = fig.add_subplot(projection = ccrs.Mercator()) #Projection list: https://scitools.org.uk/cartopy/docs/latest/crs/projections.html\n",
        "\n",
        "    ax.coastlines()\n",
        "    ax.add_feature(cfeature.BORDERS)\n",
        "    ax.set_title(\"category_id_\" + str(j) + \": \" + data_subsets[j].name.unique()[0], fontsize = 32)\n",
        "    transform = ccrs.PlateCarree()._as_mpl_transform(ax)\n",
        "    for i in data_subsets[j].index:\n",
        "        \n",
        "        if inst_data.longitude[i] >= inst_data.to_longitude[i]:\n",
        "            colors = \"red\"\n",
        "        else: colors = \"blue\"\n",
        "        \n",
        "        ax.annotate(\" \", xy = (inst_data.to_longitude[i], inst_data.to_latitude[i]), xytext = (inst_data.longitude[i], inst_data.latitude[i]), arrowprops = dict(arrowstyle = \"->\", connectionstyle=\"arc3, rad = -0.8\", color = colors), xycoords = transform, ha = 'right', va = 'top', annotation_clip = False)\n"
      ],
      "execution_count": 0,
      "outputs": []
    },
    {
      "cell_type": "markdown",
      "metadata": {
        "colab_type": "text",
        "id": "5KRVoyR0xILh"
      },
      "source": [
        "## Maps by Revised Recruiter Type and Applicant Primary Field"
      ]
    },
    {
      "cell_type": "code",
      "metadata": {
        "colab_type": "code",
        "id": "7RDfr_sCxPZE",
        "colab": {}
      },
      "source": [
        "for j in inst_data.category_id.unique():\n",
        "    for k in data_subsets[j].revised_recruiter_hash.unique():\n",
        "        fig = plt.figure(figsize=(80, 80)) #on GitHub (25, 20)\n",
        "        ax = fig.add_subplot(projection = ccrs.PlateCarree()) #Projection list: https://scitools.org.uk/cartopy/docs/latest/crs/projections.html\n",
        "        \n",
        "        ax.set_global() #sets extent of map to be global, choose this to avoid indiscernible plot in terms of country, note lines close together now very small, comment for zoomed in default extent\n",
        "        ax.coastlines()\n",
        "        ax.add_feature(cfeature.OCEAN)\n",
        "        ax.add_feature(cfeature.BORDERS)\n",
        "        ax.add_feature(cfeature.LAND)\n",
        "        ax.set_title(\"category_id_\" + str(j) + \": \" + data_subsets[j].name.unique()[0] + \"; revised_recruiter_hash_\" + str(k) + \": \" + data_subsets[j][data_subsets[j].revised_recruiter_hash == k].revised_description.unique()[0], fontsize = 32)\n",
        "    \n",
        "        for i in data_subsets[j][data_subsets[j].revised_recruiter_hash == k].index:\n",
        "            ax.scatter(inst_data.longitude[i], inst_data.latitude[i], transform = ccrs.Geodetic(), color = \"blue\", marker = \"o\") #use scatter point method from maps emailed\n",
        "            ax.plot([inst_data.longitude[i], inst_data.to_longitude[i]], [inst_data.latitude[i], inst_data.to_latitude[i]], transform=ccrs.Geodetic())\n",
        "            ax.scatter(inst_data.to_longitude[i], inst_data.to_latitude[i], transform = ccrs.Geodetic(), color = \"red\", marker = \"^\") #use scatter point method from maps emailed, ideally cartopy adaptation of basemap https://stackoverflow.com/questions/45512429/python-basemap-drawgreatcircle-with-arrow-end-cap?rq=1\n",
        "     "
      ],
      "execution_count": 0,
      "outputs": []
    },
    {
      "cell_type": "markdown",
      "metadata": {
        "colab_type": "text",
        "id": "JgtgNhqUxYGw"
      },
      "source": [
        "## Maps by Revised Recruiter Type and Applicant Primary Field - East to West: Red; West to East: Black"
      ]
    },
    {
      "cell_type": "code",
      "metadata": {
        "id": "uP3Apt75ciWo",
        "colab_type": "code",
        "colab": {}
      },
      "source": [
        "for j in inst_data.category_id.unique():\n",
        "    for k in data_subsets[j].revised_recruiter_hash.unique():\n",
        "        fig = plt.figure(figsize=(80, 80))\n",
        "        ax = fig.add_subplot(projection = ccrs.PlateCarree()) #Projection list: https://scitools.org.uk/cartopy/docs/latest/crs/projections.html\n",
        "        \n",
        "        ax.set_global() #sets extent of map to be global, choose this to avoid indiscernible plot in terms of country, note lines close together now very small, comment for zoomed in default extent\n",
        "        ax.coastlines()\n",
        "        ax.add_feature(cfeature.OCEAN)\n",
        "        ax.add_feature(cfeature.BORDERS)\n",
        "        ax.add_feature(cfeature.LAND)\n",
        "        ax.set_title(\"category_id_\" + str(j) + \": \" + data_subsets[j].name.unique()[0] + \"; revised_recruiter_hash_\" + str(k) + \": \" + data_subsets[j][data_subsets[j].revised_recruiter_hash == k].revised_description.unique()[0], fontsize = 32)\n",
        "    \n",
        "        for i in data_subsets[j][data_subsets[j].revised_recruiter_hash == k].index:\n",
        "            \n",
        "            if inst_data.longitude[i] >= inst_data.to_longitude[i]:\n",
        "                colors = \"red\"\n",
        "            else: colors = \"black\"\n",
        "                \n",
        "            ax.plot([inst_data.longitude[i], inst_data.to_longitude[i]], [inst_data.latitude[i], inst_data.to_latitude[i]], transform=ccrs.Geodetic(), color = colors)\n",
        "\n"
      ],
      "execution_count": 0,
      "outputs": []
    },
    {
      "cell_type": "markdown",
      "metadata": {
        "colab_type": "text",
        "id": "Ye7ozK70yhZW"
      },
      "source": [
        "## B/W Maps by Revised Recruiter Type and Applicant Primary Field - East to West: Red; West to East: Blue"
      ]
    },
    {
      "cell_type": "code",
      "metadata": {
        "colab_type": "code",
        "id": "BsSLneOhynLg",
        "colab": {}
      },
      "source": [
        "for j in inst_data.category_id.unique():\n",
        "    for k in data_subsets[j].revised_recruiter_hash.unique():\n",
        "        fig = plt.figure(figsize=(80, 80))\n",
        "        ax = fig.add_subplot(projection = ccrs.PlateCarree()) #Projection list: https://scitools.org.uk/cartopy/docs/latest/crs/projections.html\n",
        "        \n",
        "        ax.set_global() #sets extent of map to be global, choose this to avoid indiscernible plot in terms of country, note lines close together now very small, comment for zoomed in default extent\n",
        "        ax.coastlines()\n",
        "        ax.add_feature(cfeature.BORDERS)\n",
        "        ax.set_title(\"category_id_\" + str(j) + \": \" + data_subsets[j].name.unique()[0] + \"; revised_recruiter_hash_\" + str(k) + \": \" + data_subsets[j][data_subsets[j].revised_recruiter_hash == k].revised_description.unique()[0], fontsize = 32)\n",
        "    \n",
        "        for i in data_subsets[j][data_subsets[j].revised_recruiter_hash == k].index:\n",
        "            \n",
        "            if inst_data.longitude[i] >= inst_data.to_longitude[i]:\n",
        "                colors = \"red\"\n",
        "            else: colors = \"blue\"\n",
        "                \n",
        "            ax.plot([inst_data.longitude[i], inst_data.to_longitude[i]], [inst_data.latitude[i], inst_data.to_latitude[i]], transform=ccrs.Geodetic(), color = colors)\n",
        "\n"
      ],
      "execution_count": 0,
      "outputs": []
    },
    {
      "cell_type": "code",
      "metadata": {
        "id": "ksWcq2Y0P1aO",
        "colab_type": "code",
        "colab": {}
      },
      "source": [
        ""
      ],
      "execution_count": 0,
      "outputs": []
    }
  ]
}