{
 "cells": [
  {
   "cell_type": "code",
   "execution_count": null,
   "metadata": {},
   "outputs": [],
   "source": [
    "import pandas as pd \n",
    "import os\n",
    "import IPython\n",
    "\n",
    "import json\n",
    "with open(\"to_from_data.json\", \"r\") as read_file:\n",
    "    rankings = json.load(read_file)\n",
    "data = pd.DataFrame(rankings)"
   ]
  },
  {
   "cell_type": "code",
   "execution_count": null,
   "metadata": {},
   "outputs": [],
   "source": [
    "import matplotlib.pyplot as plt\n",
    "\n",
    "%matplotlib inline\n",
    "\n",
    "import qeds\n",
    "qeds.themes.mpl_style();\n",
    "\n",
    "import cartopy.crs as ccrs #cartopy documentation: https://scitools.org.uk/cartopy/docs/latest/\n",
    "import cartopy.feature as cfeature\n",
    "\n",
    "#import geopandas as gpd\n",
    "#from shapely.geometry import Point"
   ]
  },
  {
   "cell_type": "code",
   "execution_count": null,
   "metadata": {},
   "outputs": [],
   "source": [
    "inst_data = pd.read_json(\"/home/jupyter/notebooks/econjobmarket/to_from_data.json\")"
   ]
  },
  {
   "cell_type": "code",
   "execution_count": null,
   "metadata": {},
   "outputs": [],
   "source": [
    "inst_data #same as data ^"
   ]
  },
  {
   "cell_type": "code",
   "execution_count": null,
   "metadata": {},
   "outputs": [],
   "source": [
    "inst_data = inst_data.dropna(subset = [\"to_latitude\", \"to_longitude\", \"latitude\", \"longitude\"]) #drop observations with missing geocoordinates"
   ]
  },
  {
   "cell_type": "code",
   "execution_count": null,
   "metadata": {
    "scrolled": true
   },
   "outputs": [],
   "source": [
    "inst_data.name.unique().shape #note 33 unique categories, names"
   ]
  },
  {
   "cell_type": "code",
   "execution_count": null,
   "metadata": {},
   "outputs": [],
   "source": [
    "inst_data.description.unique().shape #note 10 unique recruiter_types, descriptions"
   ]
  },
  {
   "cell_type": "code",
   "execution_count": null,
   "metadata": {},
   "outputs": [],
   "source": [
    "inst_data[\"rank\"].unique()#.shape"
   ]
  },
  {
   "cell_type": "code",
   "execution_count": null,
   "metadata": {},
   "outputs": [],
   "source": [
    "inst_data[\"from_coordinates\"] = list(zip(inst_data.longitude, inst_data.latitude))\n",
    "inst_data[\"to_coordinates\"] = list(zip(inst_data.to_longitude, inst_data.to_latitude))"
   ]
  },
  {
   "cell_type": "code",
   "execution_count": null,
   "metadata": {
    "scrolled": true
   },
   "outputs": [],
   "source": [
    "inst_data.category_id.unique() #no category 28?\n",
    "#inst_data[inst_data.category_id == 28]"
   ]
  },
  {
   "cell_type": "code",
   "execution_count": null,
   "metadata": {},
   "outputs": [],
   "source": [
    "data_subsets = {}\n",
    "for i in inst_data.category_id.unique():\n",
    "    inst_data_subset_iteration = inst_data[inst_data.category_id == i]\n",
    "    data_subsets[i] = inst_data_subset_iteration"
   ]
  },
  {
   "cell_type": "markdown",
   "metadata": {},
   "source": [
    "## Maps by Applicant Primary Field (Names) - using scatter-plot arrow proxy"
   ]
  },
  {
   "cell_type": "code",
   "execution_count": null,
   "metadata": {},
   "outputs": [],
   "source": [
    "#note that points converging at Gulf of Guinea are at intersection of Equator and Prime Meridian\n",
    "\n",
    "#NaN probably coded as (0, 0) - dropped na above\n",
    "\n",
    "#FIXME some institutions such as IMF, CBO, BEA coded as (0, 0) for example uncomment and run the next line\n",
    "#inst_data.loc[inst_data[\"to_latitude\"] == 0]"
   ]
  },
  {
   "cell_type": "code",
   "execution_count": null,
   "metadata": {
    "scrolled": true
   },
   "outputs": [],
   "source": [
    "for j in inst_data.category_id.unique():\n",
    "    fig = plt.figure(figsize=(25, 20))\n",
    "    ax = fig.add_subplot(projection = ccrs.PlateCarree()) #Projection list: https://scitools.org.uk/cartopy/docs/latest/crs/projections.html\n",
    "\n",
    "    ax.coastlines()\n",
    "    ax.add_feature(cfeature.OCEAN)\n",
    "    ax.add_feature(cfeature.BORDERS)\n",
    "    ax.add_feature(cfeature.LAND)\n",
    "    ax.set_title(\"category_id_\" + str(j) + \": \" + data_subsets[j].name.unique()[0])\n",
    "    \n",
    "    for i in data_subsets[j].index:\n",
    "        ax.scatter(inst_data.longitude[i], inst_data.latitude[i], transform = ccrs.Geodetic(), color = \"blue\", marker = \"o\") #use scatter point method from maps emailed\n",
    "        ax.plot([inst_data.longitude[i], inst_data.to_longitude[i]], [inst_data.latitude[i], inst_data.to_latitude[i]], transform=ccrs.Geodetic())\n",
    "        ax.scatter(inst_data.to_longitude[i], inst_data.to_latitude[i], transform = ccrs.Geodetic(), color = \"red\", marker = \"^\") #use scatter point method from maps emailed, ideally cartopy adaptation of basemap https://stackoverflow.com/questions/45512429/python-basemap-drawgreatcircle-with-arrow-end-cap?rq=1\n"
   ]
  },
  {
   "cell_type": "markdown",
   "metadata": {},
   "source": [
    "## Maps by Applicant Primary Field (Names) - using annotation arrow proxy"
   ]
  },
  {
   "cell_type": "code",
   "execution_count": null,
   "metadata": {
    "scrolled": true
   },
   "outputs": [],
   "source": [
    "#with arrows but not great circle plot\n",
    "\n",
    "#FIXME need to work on colour using colormaps\n",
    "\n",
    "for j in inst_data.category_id.unique():\n",
    "    fig = plt.figure(figsize=(25, 20))\n",
    "    ax = fig.add_subplot(projection = ccrs.Mercator()) #Projection list: https://scitools.org.uk/cartopy/docs/latest/crs/projections.html\n",
    "\n",
    "    ax.coastlines()\n",
    "    ax.add_feature(cfeature.OCEAN)\n",
    "    ax.add_feature(cfeature.BORDERS)\n",
    "    ax.add_feature(cfeature.LAND)\n",
    "    ax.set_title(\"category_id_\" + str(j) + \": \" + data_subsets[j].name.unique()[0])\n",
    "    transform = ccrs.PlateCarree()._as_mpl_transform(ax)\n",
    "    for i in data_subsets[j].index:\n",
    "        ax.annotate(\" \", xy = (inst_data.to_longitude[i], inst_data.to_latitude[i]), xytext = (inst_data.longitude[i], inst_data.latitude[i]), arrowprops = dict(arrowstyle = \"->\", connectionstyle=\"arc3, rad = -0.8\", color = \"red\"), xycoords = transform, ha = 'right', va = 'top', annotation_clip = False)\n"
   ]
  },
  {
   "cell_type": "markdown",
   "metadata": {},
   "source": [
    "## Maps by Recruiter Type and Applicant Primary Field "
   ]
  },
  {
   "cell_type": "code",
   "execution_count": null,
   "metadata": {},
   "outputs": [],
   "source": [
    "data_subsets[1][data_subsets[1].recruiter_type == 1]"
   ]
  },
  {
   "cell_type": "code",
   "execution_count": null,
   "metadata": {},
   "outputs": [],
   "source": [
    "for j in inst_data.category_id.unique():\n",
    "    for k in data_subsets[j].recruiter_type.unique():\n",
    "        fig = plt.figure(figsize=(25, 20))\n",
    "        ax = fig.add_subplot(projection = ccrs.PlateCarree()) #Projection list: https://scitools.org.uk/cartopy/docs/latest/crs/projections.html\n",
    "    \n",
    "        ax.coastlines()\n",
    "        ax.add_feature(cfeature.OCEAN)\n",
    "        ax.add_feature(cfeature.BORDERS)\n",
    "        ax.add_feature(cfeature.LAND)\n",
    "        ax.set_title(\"category_id_\" + str(j) + \": \" + data_subsets[j].name.unique()[0] + \"; recruiter_type_\" + str(k) + \": \" + data_subsets[j][data_subsets[j].recruiter_type == k].description.unique()[0])\n",
    "    \n",
    "        for i in data_subsets[j][data_subsets[j].recruiter_type == k].index:\n",
    "            ax.scatter(inst_data.longitude[i], inst_data.latitude[i], transform = ccrs.Geodetic(), color = \"blue\", marker = \"o\") #use scatter point method from maps emailed\n",
    "            ax.plot([inst_data.longitude[i], inst_data.to_longitude[i]], [inst_data.latitude[i], inst_data.to_latitude[i]], transform=ccrs.Geodetic())\n",
    "            ax.scatter(inst_data.to_longitude[i], inst_data.to_latitude[i], transform = ccrs.Geodetic(), color = \"red\", marker = \"^\") #use scatter point method from maps emailed, ideally cartopy adaptation of basemap https://stackoverflow.com/questions/45512429/python-basemap-drawgreatcircle-with-arrow-end-cap?rq=1\n",
    "     "
   ]
  },
  {
   "cell_type": "markdown",
   "metadata": {},
   "source": [
    "##  Interactive Map - no arrows"
   ]
  },
  {
   "cell_type": "code",
   "execution_count": null,
   "metadata": {},
   "outputs": [],
   "source": [
    "import plotly.graph_objects as go"
   ]
  },
  {
   "cell_type": "code",
   "execution_count": null,
   "metadata": {},
   "outputs": [],
   "source": [
    "from_location_data = pd.DataFrame(inst_data.loc[:, [\"latitude\", \"longitude\", \"from_institution_name\", \"rank\"]])\n",
    "to_location_data = pd.DataFrame(inst_data.loc[:, [\"to_latitude\", \"to_longitude\", \"to_name\", \"to_rank\"]])\n",
    "location_data_1 = from_location_data.rename(columns = {\"from_institution_name\": \"institution_name\"})\n",
    "location_data_2 = to_location_data.rename(columns = {\"to_latitude\": \"latitude\", \"to_longitude\": \"longitude\", \"to_name\": \"institution_name\", \"to_rank\": \"rank\"})\n",
    "\n",
    "location_data = pd.concat([location_data_1, location_data_2], ignore_index = True)\n",
    "location_data = location_data.loc[:, [\"latitude\", \"longitude\", \"institution_name\", \"rank\"]]\n",
    "location_data = location_data.drop_duplicates(ignore_index = True)"
   ]
  },
  {
   "cell_type": "code",
   "execution_count": null,
   "metadata": {},
   "outputs": [],
   "source": [
    "location_data"
   ]
  },
  {
   "cell_type": "code",
   "execution_count": null,
   "metadata": {},
   "outputs": [],
   "source": [
    "fig = go.Figure()"
   ]
  },
  {
   "cell_type": "code",
   "execution_count": null,
   "metadata": {},
   "outputs": [],
   "source": [
    "fig.add_trace(go.Scattergeo(lon = location_data[\"longitude\"], lat = location_data[\"latitude\"], hoverinfo = \"text\", text = location_data.loc[:, [\"institution_name\", \"rank\"]], mode = \"markers\", marker = dict(size = 2, color = \"rgb(255, 0, 0)\", line = dict(width = 3, color = \"rgba(68, 68, 68, 0)\"))))"
   ]
  },
  {
   "cell_type": "code",
   "execution_count": null,
   "metadata": {},
   "outputs": [],
   "source": [
    "for i in inst_data.index:\n",
    "    fig.add_trace(go.Scattergeo(lon = [inst_data[\"longitude\"][i], inst_data[\"to_longitude\"][i]], lat = [inst_data[\"latitude\"][i], inst_data[\"to_latitude\"][i]], mode = \"lines\", line = dict(width = 1, color = \"red\")))\n",
    "    \n",
    "#opacity = float(df[\"count\"][i]) / float(df[\"count\"].max()) "
   ]
  },
  {
   "cell_type": "code",
   "execution_count": null,
   "metadata": {},
   "outputs": [],
   "source": [
    "fig.update_layout(\n",
    "    title_text = \"Interactive Map\", showlegend = False, geo = dict(projection_type = \"equirectangular\", showland = True, landcolor = \"rgb(243, 243, 243)\", countrycolor = \"rgb(204, 204, 204)\",))\n",
    "\n",
    "#to add markers https://plotly.com/python/marker-style/"
   ]
  },
  {
   "cell_type": "markdown",
   "metadata": {},
   "source": [
    "## Ranking Scatterplot"
   ]
  },
  {
   "cell_type": "code",
   "execution_count": null,
   "metadata": {},
   "outputs": [],
   "source": [
    "import seaborn as sns"
   ]
  },
  {
   "cell_type": "code",
   "execution_count": null,
   "metadata": {},
   "outputs": [],
   "source": [
    "data_clean_rank = data.dropna(subset = [\"rank\", \"to_rank\"])"
   ]
  },
  {
   "cell_type": "code",
   "execution_count": null,
   "metadata": {
    "scrolled": false
   },
   "outputs": [],
   "source": [
    "fig, ax = plt.subplots(figsize = (10, 10))\n",
    "rank_scat = sns.regplot(x = \"rank\", y = \"to_rank\", data = data_clean_rank, ax = ax)\n",
    "rank_scat.get_lines()[0].set_color(\"red\")"
   ]
  }
 ],
 "metadata": {
  "kernelspec": {
   "display_name": "Python 3",
   "language": "python",
   "name": "python3"
  },
  "language_info": {
   "codemirror_mode": {
    "name": "ipython",
    "version": 3
   },
   "file_extension": ".py",
   "mimetype": "text/x-python",
   "name": "python",
   "nbconvert_exporter": "python",
   "pygments_lexer": "ipython3",
   "version": "3.7.6"
  }
 },
 "nbformat": 4,
 "nbformat_minor": 4
}
