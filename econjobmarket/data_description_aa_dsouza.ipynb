{
 "cells": [
  {
   "cell_type": "code",
   "execution_count": null,
   "metadata": {},
   "outputs": [],
   "source": [
    "import pandas as pd \n",
    "import os\n",
    "import IPython\n",
    "\n",
    "import json\n",
    "with open(\"to_from_data.json\", \"r\") as read_file:\n",
    "    rankings = json.load(read_file)\n",
    "data = pd.DataFrame(rankings)"
   ]
  },
  {
   "cell_type": "code",
   "execution_count": null,
   "metadata": {},
   "outputs": [],
   "source": [
    "import matplotlib.pyplot as plt\n",
    "\n",
    "%matplotlib inline\n",
    "\n",
    "import qeds\n",
    "qeds.themes.mpl_style();\n",
    "\n",
    "import cartopy.crs as ccrs #cartopy documentation: https://scitools.org.uk/cartopy/docs/latest/\n",
    "import cartopy.feature as cfeature\n",
    "\n",
    "#import geopandas as gpd\n",
    "#from shapely.geometry import Point"
   ]
  },
  {
   "cell_type": "code",
   "execution_count": null,
   "metadata": {},
   "outputs": [],
   "source": [
    "inst_data = pd.read_json(\"/home/jupyter/notebooks/econjobmarket/to_from_data.json\")"
   ]
  },
  {
   "cell_type": "code",
   "execution_count": null,
   "metadata": {},
   "outputs": [],
   "source": [
    "inst_data"
   ]
  },
  {
   "cell_type": "code",
   "execution_count": null,
   "metadata": {},
   "outputs": [],
   "source": [
    "inst_data = inst_data.dropna(subset = [\"to_latitude\", \"to_longitude\", \"latitude\", \"longitude\"]) #drop observations with missing geocoordinates"
   ]
  },
  {
   "cell_type": "code",
   "execution_count": null,
   "metadata": {
    "scrolled": true
   },
   "outputs": [],
   "source": [
    "inst_data.name.unique().shape #note 33 unique categories, names"
   ]
  },
  {
   "cell_type": "code",
   "execution_count": null,
   "metadata": {},
   "outputs": [],
   "source": [
    "inst_data.description.unique().shape #note 10 unique recruiter_types, descriptions"
   ]
  },
  {
   "cell_type": "code",
   "execution_count": null,
   "metadata": {},
   "outputs": [],
   "source": [
    "inst_data[\"rank\"].unique()#.shape"
   ]
  },
  {
   "cell_type": "code",
   "execution_count": null,
   "metadata": {},
   "outputs": [],
   "source": [
    "inst_data[\"from_coordinates\"] = list(zip(inst_data.longitude, inst_data.latitude))\n",
    "inst_data[\"to_coordinates\"] = list(zip(inst_data.to_longitude, inst_data.to_latitude))"
   ]
  },
  {
   "cell_type": "code",
   "execution_count": null,
   "metadata": {
    "scrolled": true
   },
   "outputs": [],
   "source": [
    "inst_data.category_id.unique() #no category 28?\n",
    "#inst_data[inst_data.category_id == 28]"
   ]
  },
  {
   "cell_type": "code",
   "execution_count": null,
   "metadata": {},
   "outputs": [],
   "source": [
    "data_subsets = {}\n",
    "for i in inst_data.category_id.unique():\n",
    "    inst_data_subset_iteration = inst_data[inst_data.category_id == i]\n",
    "    data_subsets[i] = inst_data_subset_iteration"
   ]
  },
  {
   "cell_type": "markdown",
   "metadata": {},
   "source": [
    "## Maps by Applicant Primary Field (Names) - using scatter-plot arrow proxy"
   ]
  },
  {
   "cell_type": "code",
   "execution_count": null,
   "metadata": {
    "scrolled": true
   },
   "outputs": [],
   "source": [
    "for j in inst_data.category_id.unique():\n",
    "    fig = plt.figure(figsize=(25, 20))\n",
    "    ax = fig.add_subplot(projection = ccrs.PlateCarree()) #Projection list: https://scitools.org.uk/cartopy/docs/latest/crs/projections.html\n",
    "\n",
    "    ax.coastlines()\n",
    "    ax.add_feature(cfeature.OCEAN)\n",
    "    ax.add_feature(cfeature.BORDERS)\n",
    "    ax.add_feature(cfeature.LAND)\n",
    "    ax.set_title(\"category_id_\" + str(j) + \": \" + data_subsets[j].name.unique()[0])\n",
    "    \n",
    "    for i in data_subsets[j].index:\n",
    "        ax.scatter(inst_data.longitude[i], inst_data.latitude[i], transform = ccrs.Geodetic(), color = \"blue\", marker = \"o\") #use scatter point method from maps emailed\n",
    "        ax.plot([inst_data.longitude[i], inst_data.to_longitude[i]], [inst_data.latitude[i], inst_data.to_latitude[i]], transform=ccrs.Geodetic())\n",
    "        ax.scatter(inst_data.to_longitude[i], inst_data.to_latitude[i], transform = ccrs.Geodetic(), color = \"red\", marker = \"^\") #use scatter point method from maps emailed, ideally cartopy adaptation of basemap https://stackoverflow.com/questions/45512429/python-basemap-drawgreatcircle-with-arrow-end-cap?rq=1\n",
    "       \n",
    "    \n",
    "#note that points converging at Gulf of Guinea are at intersection of Equator and Prime Meridian\n",
    "#therefore NaN probably coded as (0, 0) - dropped na\n",
    "#FIXME some institutions such as IMF, CBO, BEA coded as (0, 0) inst_data.loc[inst_data[\"to_latitude\"] == 0]"
   ]
  },
  {
   "cell_type": "markdown",
   "metadata": {},
   "source": [
    "## Maps by Applicant Primary Field (Names) - using annotation arrow proxy"
   ]
  },
  {
   "cell_type": "code",
   "execution_count": null,
   "metadata": {},
   "outputs": [],
   "source": [
    "#with arrows but not great circle plot, also very messy\n",
    "for j in inst_data.category_id.unique():\n",
    "    fig = plt.figure(figsize=(25, 20))\n",
    "    ax = fig.add_subplot(projection = ccrs.PlateCarree()) #Projection list: https://scitools.org.uk/cartopy/docs/latest/crs/projections.html\n",
    "\n",
    "    ax.coastlines()\n",
    "    ax.add_feature(cfeature.OCEAN)\n",
    "    ax.add_feature(cfeature.BORDERS)\n",
    "    ax.add_feature(cfeature.LAND)\n",
    "    ax.set_title(\"category_id_\" + str(j) + \": \" + data_subsets[j].name.unique()[0])\n",
    "    transform = ccrs.PlateCarree()._as_mpl_transform(ax)\n",
    "    for i in data_subsets[j].index:\n",
    "         ax.annotate('', xy=(inst_data.to_longitude[i], inst_data.to_latitude[i]), xytext=(inst_data.longitude[i], inst_data.latitude[i]), arrowprops=dict(arrowstyle=\"simple\", connectionstyle=\"arc3,rad=-0.2\", color = \"red\"), xycoords=transform, ha='right', va='top')\n",
    "\n"
   ]
  },
  {
   "cell_type": "markdown",
   "metadata": {},
   "source": [
    "## Maps by Recruiter Type and Applicant Primary Field "
   ]
  },
  {
   "cell_type": "code",
   "execution_count": null,
   "metadata": {},
   "outputs": [],
   "source": [
    "data_subsets[1][data_subsets[1].recruiter_type == 1]"
   ]
  },
  {
   "cell_type": "code",
   "execution_count": null,
   "metadata": {},
   "outputs": [],
   "source": [
    "for j in inst_data.category_id.unique():\n",
    "    for k in data_subsets[j].recruiter_type.unique():\n",
    "        fig = plt.figure(figsize=(25, 20))\n",
    "        ax = fig.add_subplot(projection = ccrs.PlateCarree()) #Projection list: https://scitools.org.uk/cartopy/docs/latest/crs/projections.html\n",
    "    \n",
    "        ax.coastlines()\n",
    "        ax.add_feature(cfeature.OCEAN)\n",
    "        ax.add_feature(cfeature.BORDERS)\n",
    "        ax.add_feature(cfeature.LAND)\n",
    "        ax.set_title(\"category_id_\" + str(j) + \": \" + data_subsets[j].name.unique()[0] + \"; recruiter_type_\" + str(k) + \": \" + data_subsets[j][data_subsets[j].recruiter_type == k].description.unique()[0])\n",
    "    \n",
    "        for i in data_subsets[j][data_subsets[j].recruiter_type == k].index:\n",
    "            ax.scatter(inst_data.longitude[i], inst_data.latitude[i], transform = ccrs.Geodetic(), color = \"blue\", marker = \"o\") #use scatter point method from maps emailed\n",
    "            ax.plot([inst_data.longitude[i], inst_data.to_longitude[i]], [inst_data.latitude[i], inst_data.to_latitude[i]], transform=ccrs.Geodetic())\n",
    "            ax.scatter(inst_data.to_longitude[i], inst_data.to_latitude[i], transform = ccrs.Geodetic(), color = \"red\", marker = \"^\") #use scatter point method from maps emailed, ideally cartopy adaptation of basemap https://stackoverflow.com/questions/45512429/python-basemap-drawgreatcircle-with-arrow-end-cap?rq=1\n",
    "     "
   ]
  },
  {
   "cell_type": "code",
   "execution_count": null,
   "metadata": {},
   "outputs": [],
   "source": []
  }
 ],
 "metadata": {
  "kernelspec": {
   "display_name": "Python 3",
   "language": "python",
   "name": "python3"
  },
  "language_info": {
   "codemirror_mode": {
    "name": "ipython",
    "version": 3
   },
   "file_extension": ".py",
   "mimetype": "text/x-python",
   "name": "python",
   "nbconvert_exporter": "python",
   "pygments_lexer": "ipython3",
   "version": "3.7.6"
  }
 },
 "nbformat": 4,
 "nbformat_minor": 4
}
