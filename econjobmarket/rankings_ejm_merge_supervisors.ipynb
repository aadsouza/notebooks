{
 "cells": [
  {
   "cell_type": "code",
   "execution_count": null,
   "metadata": {},
   "outputs": [],
   "source": [
    "#copy ranking data paste into Google Sheets\n",
    "#split text into columns\n",
    "#save as csv\n",
    "#upload into Google Sheets\n",
    "#split text into columns\n",
    "#take of crosses for dead\n",
    "!pip install fuzzywuzzy\n",
    "!pip install python-Levenshtein"
   ]
  },
  {
   "cell_type": "code",
   "execution_count": null,
   "metadata": {},
   "outputs": [],
   "source": [
    "import pandas as pd\n",
    "import numpy as np\n",
    "import mysql.connector as sql\n",
    "from fuzzywuzzy import fuzz\n",
    "from fuzzywuzzy import process"
   ]
  },
  {
   "cell_type": "code",
   "execution_count": null,
   "metadata": {},
   "outputs": [],
   "source": [
    "rankings_data = pd.read_csv(\"/Users/amedeusdsouza/Desktop/ura-mike/rankings_top_five_pct_aug_2020_cleaned.csv\")"
   ]
  },
  {
   "cell_type": "code",
   "execution_count": null,
   "metadata": {
    "scrolled": true
   },
   "outputs": [],
   "source": [
    "rankings_data"
   ]
  },
  {
   "cell_type": "code",
   "execution_count": null,
   "metadata": {},
   "outputs": [],
   "source": [
    "db_connection = sql.connect(host=\"_____\", database=\"_____\", user=\"_____\", password=\"_____\")\n",
    "\n",
    "db_cursor = db_connection.cursor()\n",
    "\n",
    "db_cursor.execute('select * from recommenders')\n",
    "\n",
    "table_rows = db_cursor.fetchall()\n",
    "\n",
    "mike_data = pd.DataFrame(table_rows)"
   ]
  },
  {
   "cell_type": "code",
   "execution_count": null,
   "metadata": {},
   "outputs": [],
   "source": [
    "mike_data = mike_data.rename(columns = {0: \"sid\",\n",
    "                                       1: \"firstname\",\n",
    "                                       2: \"lastname\",\n",
    "                                       3: \"email\",\n",
    "                                       4: \"orgid\",\n",
    "                                       5: \"inst_name\",\n",
    "                                       6: \"inst_shortname\",\n",
    "                                       7: \"deptname\"})"
   ]
  },
  {
   "cell_type": "code",
   "execution_count": null,
   "metadata": {},
   "outputs": [],
   "source": [
    "mike_data"
   ]
  },
  {
   "cell_type": "code",
   "execution_count": null,
   "metadata": {},
   "outputs": [],
   "source": [
    "rankings_data = rankings_data.applymap(lambda i:i.lower() if type(i) == str else i) #lowercase strings\n",
    "mike_data = mike_data.applymap(lambda i:i.lower() if type(i) == str else i)"
   ]
  },
  {
   "cell_type": "code",
   "execution_count": null,
   "metadata": {},
   "outputs": [],
   "source": [
    "rankings_data"
   ]
  },
  {
   "cell_type": "code",
   "execution_count": null,
   "metadata": {},
   "outputs": [],
   "source": [
    "mike_data[\"name\"] = mike_data[\"firstname\"] + \" \" + mike_data[\"lastname\"]"
   ]
  },
  {
   "cell_type": "code",
   "execution_count": null,
   "metadata": {},
   "outputs": [],
   "source": [
    "merge_1 = pd.merge(left = rankings_data, right = mike_data, on = \"name\", how = \"left\")"
   ]
  },
  {
   "cell_type": "code",
   "execution_count": null,
   "metadata": {},
   "outputs": [],
   "source": [
    "merge_1.columns"
   ]
  },
  {
   "cell_type": "code",
   "execution_count": null,
   "metadata": {},
   "outputs": [],
   "source": [
    "merge_1[merge_1.sid.notnull()]"
   ]
  },
  {
   "cell_type": "code",
   "execution_count": null,
   "metadata": {},
   "outputs": [],
   "source": [
    "merge_1[merge_1.name == \"thomas lemieux\"] #it works"
   ]
  },
  {
   "cell_type": "code",
   "execution_count": null,
   "metadata": {},
   "outputs": [],
   "source": [
    "rankings_data[rankings_data.name == \"michael peters\"] "
   ]
  },
  {
   "cell_type": "code",
   "execution_count": null,
   "metadata": {},
   "outputs": [],
   "source": [
    "merge_1[merge_1.name == \"michael peters\"] #multiple mikes"
   ]
  },
  {
   "cell_type": "code",
   "execution_count": null,
   "metadata": {
    "scrolled": false
   },
   "outputs": [],
   "source": [
    "merge_1[\"1a_in_inst_name\"] = merge_1[merge_1.inst1a.notnull() & merge_1.inst_name.notnull()].apply(lambda x: x.inst1a in x.inst_name, axis = 1)\n",
    "merge_1[\"1b_in_inst_name\"] = merge_1[merge_1.inst1b.notnull() & merge_1.inst_name.notnull()].apply(lambda x: x.inst1b in x.inst_name, axis = 1)\n",
    "merge_1[\"1c_in_inst_name\"] = merge_1[merge_1.inst1c.notnull() & merge_1.inst_name.notnull()].apply(lambda x: x.inst1c in x.inst_name, axis = 1)\n",
    "merge_1[\"1d_in_inst_name\"] = merge_1[merge_1.inst1d.notnull() & merge_1.inst_name.notnull()].apply(lambda x: x.inst1d in x.inst_name, axis = 1)\n",
    "merge_1[\"1e_in_inst_name\"] = merge_1[merge_1.inst1e.notnull() & merge_1.inst_name.notnull()].apply(lambda x: x.inst1e in x.inst_name, axis = 1)\n",
    "merge_1[\"1f_in_inst_name\"] = merge_1[merge_1.inst1f.notnull() & merge_1.inst_name.notnull()].apply(lambda x: x.inst1f in x.inst_name, axis = 1)\n",
    "merge_1[\"2a_in_inst_name\"] = merge_1[merge_1.inst2a.notnull() & merge_1.inst_name.notnull()].apply(lambda x: x.inst2a in x.inst_name, axis = 1)\n",
    "merge_1[\"2b_in_inst_name\"] = merge_1[merge_1.inst2b.notnull() & merge_1.inst_name.notnull()].apply(lambda x: x.inst2b in x.inst_name, axis = 1)\n",
    "merge_1[\"2c_in_inst_name\"] = merge_1[merge_1.inst2c.notnull() & merge_1.inst_name.notnull()].apply(lambda x: x.inst2c in x.inst_name, axis = 1)\n",
    "merge_1[\"2d_in_inst_name\"] = merge_1[merge_1.inst2d.notnull() & merge_1.inst_name.notnull()].apply(lambda x: x.inst2d in x.inst_name, axis = 1)\n",
    "merge_1[\"2e_in_inst_name\"] = merge_1[merge_1.inst2e.notnull() & merge_1.inst_name.notnull()].apply(lambda x: x.inst2e in x.inst_name, axis = 1)\n",
    "#merge_1[\"2f_in_inst_name\"] = merge_1[merge_1.inst2f.notnull() & merge_1.inst_name.notnull()].apply(lambda x: x.inst2f in x.inst_name, axis = 1)\n",
    "merge_1[\"2f_in_inst_name\"] = merge_1.inst2f.notnull()"
   ]
  },
  {
   "cell_type": "code",
   "execution_count": null,
   "metadata": {},
   "outputs": [],
   "source": [
    "merge_1.columns"
   ]
  },
  {
   "cell_type": "code",
   "execution_count": null,
   "metadata": {
    "scrolled": true
   },
   "outputs": [],
   "source": [
    "merge_1[\"good_match\"] = merge_1[\"1a_in_inst_name\"]|merge_1[\"1b_in_inst_name\"]|merge_1[\"1c_in_inst_name\"]|merge_1[\"1d_in_inst_name\"]|merge_1[\"1e_in_inst_name\"]|merge_1[\"1f_in_inst_name\"]|merge_1[\"2a_in_inst_name\"]|merge_1[\"2b_in_inst_name\"]|merge_1[\"2c_in_inst_name\"]|merge_1[\"2d_in_inst_name\"]|merge_1[\"2e_in_inst_name\"]|merge_1[\"2f_in_inst_name\"]\n"
   ]
  },
  {
   "cell_type": "code",
   "execution_count": null,
   "metadata": {},
   "outputs": [],
   "source": [
    "merge_1_good = merge_1[merge_1[\"good_match\"] == True]"
   ]
  },
  {
   "cell_type": "code",
   "execution_count": null,
   "metadata": {},
   "outputs": [],
   "source": [
    "merge_1_good"
   ]
  },
  {
   "cell_type": "code",
   "execution_count": null,
   "metadata": {},
   "outputs": [],
   "source": [
    "merge_1_good[merge_1_good.name == \"michael peters\"]"
   ]
  },
  {
   "cell_type": "code",
   "execution_count": null,
   "metadata": {},
   "outputs": [],
   "source": [
    "rankings_to_merge_post_level_1 =  rankings_data[~rankings_data.repec_rank.isin(list(merge_1_good.repec_rank))]"
   ]
  },
  {
   "cell_type": "code",
   "execution_count": null,
   "metadata": {},
   "outputs": [],
   "source": [
    "rankings_to_merge_post_level_1"
   ]
  },
  {
   "cell_type": "code",
   "execution_count": null,
   "metadata": {},
   "outputs": [],
   "source": [
    "mike_names_list = mike_data[\"name\"].tolist() #list of supervisor names"
   ]
  },
  {
   "cell_type": "code",
   "execution_count": null,
   "metadata": {},
   "outputs": [],
   "source": [
    "a = rankings_to_merge_post_level_1[\"name\"].head() #test to see if process extract works with slice"
   ]
  },
  {
   "cell_type": "code",
   "execution_count": null,
   "metadata": {},
   "outputs": [],
   "source": [
    "b = mike_names_list[0:25] #test to see if process extract works with slice"
   ]
  },
  {
   "cell_type": "code",
   "execution_count": null,
   "metadata": {},
   "outputs": [],
   "source": [
    "a.apply(lambda x :  process.extract(x, b, limit = 1)) #as expected"
   ]
  },
  {
   "cell_type": "code",
   "execution_count": null,
   "metadata": {},
   "outputs": [],
   "source": [
    "a #as expected compare with above"
   ]
  },
  {
   "cell_type": "code",
   "execution_count": null,
   "metadata": {},
   "outputs": [],
   "source": [
    "all(isinstance(i, str) for i in mike_names_list) #all elements of list are strings"
   ]
  },
  {
   "cell_type": "code",
   "execution_count": null,
   "metadata": {},
   "outputs": [],
   "source": [
    "rankings_process = rankings_to_merge_post_level_1[\"name\"].apply(lambda x : process.extract(x, mike_names_list, limit = 1)) \n",
    "#series of names matched with ranking data institution; format [(name, levenshtein score)]"
   ]
  },
  {
   "cell_type": "code",
   "execution_count": null,
   "metadata": {},
   "outputs": [],
   "source": [
    "#rankings_to_merge_post_level_1[\"supname_process\"] = rankings_process #create column using series"
   ]
  },
  {
   "cell_type": "code",
   "execution_count": null,
   "metadata": {},
   "outputs": [],
   "source": [
    "#rankings_to_merge_post_level_1[\"supname_process\"] = pd.DataFrame(rankings_to_merge_post_level_1.supname_process.tolist(), index = rankings_to_merge_post_level_1.index) #0th element of list"
   ]
  },
  {
   "cell_type": "code",
   "execution_count": null,
   "metadata": {},
   "outputs": [],
   "source": [
    "#rankings_data[[\"name\", \"match_score\"]] = pd.DataFrame(rankings_data.supname.tolist(), index = rankings_data.index) #split tuple into elements in two columns"
   ]
  },
  {
   "cell_type": "code",
   "execution_count": null,
   "metadata": {},
   "outputs": [],
   "source": [
    "#rankings_data_perfect_match = rankings_data[rankings_data[\"match_score\"] == 100]\n",
    "#rankings_data_imperfect_match = rankings_data[rankings_data[\"match_score\"] != 100]"
   ]
  }
 ],
 "metadata": {
  "kernelspec": {
   "display_name": "Python 3",
   "language": "python",
   "name": "python3"
  },
  "language_info": {
   "codemirror_mode": {
    "name": "ipython",
    "version": 3
   },
   "file_extension": ".py",
   "mimetype": "text/x-python",
   "name": "python",
   "nbconvert_exporter": "python",
   "pygments_lexer": "ipython3",
   "version": "3.8.2"
  }
 },
 "nbformat": 4,
 "nbformat_minor": 4
}
